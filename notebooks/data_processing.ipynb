{
 "cells": [
  {
   "cell_type": "code",
   "execution_count": 2,
   "id": "initial_id",
   "metadata": {
    "collapsed": true,
    "ExecuteTime": {
     "end_time": "2023-09-18T02:55:24.037640Z",
     "start_time": "2023-09-18T02:55:22.894799700Z"
    }
   },
   "outputs": [],
   "source": [
    "import os\n",
    "import json\n",
    "import pandas as pd"
   ]
  },
  {
   "cell_type": "code",
   "execution_count": 106,
   "outputs": [],
   "source": [
    "file_name = \"data.json\"\n",
    "file_path = os.path.join(\"..\", \"data\", file_name)\n",
    "with (open (file_path, 'r') as file):\n",
    "    js = json.load(file)"
   ],
   "metadata": {
    "collapsed": false,
    "ExecuteTime": {
     "end_time": "2023-09-18T07:41:41.952071200Z",
     "start_time": "2023-09-18T07:41:37.903635100Z"
    }
   },
   "id": "3fd16cf7b1263a6e"
  },
  {
   "cell_type": "code",
   "execution_count": 4,
   "outputs": [],
   "source": [
    "data = js['data'][:3]"
   ],
   "metadata": {
    "collapsed": false,
    "ExecuteTime": {
     "end_time": "2023-09-18T02:55:27.755877Z",
     "start_time": "2023-09-18T02:55:27.752336100Z"
    }
   },
   "id": "d1f7a4704f900f79"
  },
  {
   "cell_type": "code",
   "execution_count": 7,
   "outputs": [
    {
     "name": "stdout",
     "output_type": "stream",
     "text": [
      "dict_keys(['note_id', 'context', 'qas'])\n"
     ]
    }
   ],
   "source": [
    "print(data[0]['paragraphs'][0].keys())"
   ],
   "metadata": {
    "collapsed": false,
    "ExecuteTime": {
     "end_time": "2023-08-31T00:31:01.973693Z",
     "start_time": "2023-08-31T00:31:01.968047Z"
    }
   },
   "id": "806a4431d70162d3"
  },
  {
   "cell_type": "code",
   "execution_count": 37,
   "outputs": [
    {
     "name": "stdout",
     "output_type": "stream",
     "text": [
      "['Why is the patient taking fioricet.', 'What is the reason this patient is on fioricet.', 'What does the patient take fioricet. for', 'Why is the patient prescribed fioricet.', 'Why has the patient been prescribed fioricet.', 'Why was the patient on fioricet.', 'Why was fioricet. prescribed', 'Why is the patient on fioricet.', 'Why does the patient take fioricet.', 'Why was the patient prescribed fioricet.', 'Why was fioricet. originally prescribed']\n"
     ]
    }
   ],
   "source": [
    "print(data[0]['paragraphs'][0]['qas'][20]['question'])"
   ],
   "metadata": {
    "collapsed": false,
    "ExecuteTime": {
     "end_time": "2023-09-18T04:56:34.949019100Z",
     "start_time": "2023-09-18T04:56:34.933494500Z"
    }
   },
   "id": "ff5519de41238cd3"
  },
  {
   "cell_type": "code",
   "execution_count": 80,
   "outputs": [
    {
     "name": "stdout",
     "output_type": "stream",
     "text": [
      "[{'text': 'chronic hypertension', 'answer_start': [65, 5], 'evidence_start': 65, 'answer_entity_type': 'single', 'evidence': 'felt this was most likely chronic hypertension aggravated by\\n'}]\n"
     ]
    }
   ],
   "source": [
    "print(data[0]['paragraphs'][0]['qas'][30]['answers'])"
   ],
   "metadata": {
    "collapsed": false,
    "ExecuteTime": {
     "end_time": "2023-09-18T07:22:09.564949600Z",
     "start_time": "2023-09-18T07:22:09.562441500Z"
    }
   },
   "id": "838724c2862961ac"
  },
  {
   "cell_type": "code",
   "execution_count": 43,
   "outputs": [
    {
     "name": "stdout",
     "output_type": "stream",
     "text": [
      "['menstrual period and an early ultrasound which placed her at\\n', 'approximately 24 weeks. She presented with a three and a half day\\n', 'history of severe frontal headaches with scintillations. There was\\n', 'no relief with Tylenol , aspirin or Fioricet. She also stated she\\n']\n"
     ]
    }
   ],
   "source": [
    "print(data[0]['paragraphs'][0]['context'][6:10])"
   ],
   "metadata": {
    "collapsed": false,
    "ExecuteTime": {
     "end_time": "2023-09-18T05:02:42.116999200Z",
     "start_time": "2023-09-18T05:02:42.102362Z"
    }
   },
   "id": "95f560f4eb447377"
  },
  {
   "cell_type": "code",
   "execution_count": 33,
   "outputs": [
    {
     "name": "stdout",
     "output_type": "stream",
     "text": [
      "RECORD #91996 150823816 | DMC | 60956989 | | 948914 | 1/29/1990 12:00:00 AM | Discharge Summary | Unsigned | DIS | Admission Date: 11/26/1990 Report Status: Unsigned Discharge Date: 7/3/1990 HISTORY OF PRESENT ILLNESS: This is a 22 year old , gravida V para 0314 , at 24 weeks , now with severe frontal headache and scintillations. Dating is by the last menstrual period and an early ultrasound which placed her at approximately 24 weeks. She presented with a three and a half day history of severe frontal headaches with scintillations. There was no relief with Tylenol , aspirin or Fioricet. She also stated she had marked polydipsia for four days. She denied abdominal pain or swelling. She has a history of preeclampsia with a previous twin gestation. She does note fetal activity. At this juncture , I should note that much of this history is as per patient and is somewhat unreliable. PAST OBSTETRICAL HISTORY: C-section for twins; previous C-section for singleton; history by patient of preeclampsia. PAST HISTORY: Initially she admitted to no past medical problems , however , upon reviewing her chart the following is obvious: chronic hypertension; seizure disorder following motor vehicle accident for which she is on valproic acid , no clearly documented recent seizures; history of asthma for which she takes medicines p.r.n.; history of behavioral disorders with question of pseudoseizures in the past; obesity; multiple drug allergies; cholecystectomy in 1990; appendectomy at age 14; motor vehicle accident with V-P shunt placement in 1980; facial reconstruction times three in 1980; superficial vascular surgery in 1989 for varicosities of the lower extremities. SOCIAL HISTORY: She denies tobacco , ethanol or drug use. PHYSICAL EXAMINATION: Revealed an obese white female in mild distress. The pupils are equal , round and reactive to light and accommodation; fundi well visualized , no papilledema. Good facial movements. No oral lesions. The chest was clear. The heart showed a regular rate and rhythm. The abdomen was soft and nontender with a fetal heart rate in the 140's. The extremities showed trace edema. The neuro exam showed cranial nerves II-XII grossly intact. Reflexes were 1+ without clonus. The strength was reduced to 4/5 in the right upper and right lower extremities , however , the exam was questionable as she seemed to have a varying exam depending on the examiner and time of exam. She also demonstrated decreased fine finger movements on the right. HOSPITAL COURSE: Problem #1 ) Headache. The patient has a history of chronic headaches for which she was maintained on Fioricet in the past. Over the first week of hospitalization , she complained of increasing headache that prevented her from looking into the light as well as prevented her from ambulating out of the bed. At times , she complained of intermittent visual symptoms. These headaches were not completely relieved by Demerol , Percocet or Tylenol. She was eventually tried on Fioricet which apparently produced good relief of the headaches. She was seen by neurology and noted with a questionably abnormal neuro exam with findings localized to the right side. Apparently she has a history of this abnormality in the past. A CT scan revealed what was apparently old damage from the previous motor vehicle accident. An MRI was entirely within normal limits. She refused a lumbar puncture. At this time , the headaches are thought to be either vascular in origin or psychogenic. She was continued on Fioricet at the time of discharge. Problem #2 ) Hypertension. She had elevated blood pressures of 150-160 over as high as 110 upon admission. She has a history of chronic hypertension in the past and was at least briefly maintained on hydrochlorothiazide before. She had a negative work up for PET , including repeat 24 hour urines and repeat PET labs. As well , she had no physical findings consistent with PET. Given her history of chronic hypertension , we felt this was most likely chronic hypertension aggravated by pregnancy. She was begun on a beta blocker , namely labetolol , with good control. She was discharged to home on labetolol. Problem #3 ) History of seizure disorder. She carries the diagnosis of a seizure disorder , although this is , at least recently , poorly documented. She has been on valproic acid in the past and has been taking a small dose of valproic acid apparently on her own throughout this pregnancy. She has been taking 250 mg a week. She last noted an obvious seizure three years ago. It is not clear that this was witnessed by anyone else. While in the hospital , she had an EEG which suggested some slowing in the right parietal region. There was no clear seizure activity seen on EEG. She called us to her room on several episodes which she described as seizures. These seizures were witnessed by several physicians and were remarkable for absence of a postictal period as well as abnormal idiosyncratic behaviors during the events. It was our feeling that these were not true seizures. Indeed , reviewing her chart , she has had episodes of what have been called pseudoseizures similar to these in the past. Given her multiple drug allergies , including Dilantin , phenobarb and tegretol , we felt limited in our therapeutic options. We did elect to increase her dose of valproic acid as this has apparently been effective in the past. She will continue this as an outpatient. Problem #4 ) Nausea and vomiting. She complained of persistent nausea and vomiting during the latter part of her hospitalization and declined to take anything p.o. The etiology of this nausea and vomiting was unclear , although apparently associated with some diarrhea. As much as was possible , work up for an organic cause of the problem was negative. We elected initially to treat her with intravenous hydration , however , she declined further IV's. In fact , she became quite vocal in her demand to go home. She understands our concerns as to the risks of poor p.o. intake and insists she will be able to take in p.o.'s at home. Given her feelings in this regard , we have elected to discharge her for a trial of outpatient management. Follow up will be in the clinic. Should she show evidence of compromise or dehydration , she will be readmitted. Problem #5 ) Psychosocial. The patient has been seen several times in the past for behavioral disorders. It is difficult to sort out what part of her symptomatology is organic and what , if any , is inorganic. She was seen by psychiatry during her stay here who felt that she had a significant conflict in her home life. We have counseled her as much as possible throughout her stay. She has seen both social services and psychiatry , however , she is at best reluctant to avail herself of these services. Our plan at the time of discharge is for follow up with DSS. As well , we have emphasized our availability to the patient at all times and tried to be as supportive as possible in these circumstances. DISPOSITION: The patient was discharged for a trial of management at home. The etiology of her discomfort is somewhat obscure , however , we have as best as possible ruled out obvious major organic pathology , including PET , central CNS processes and fulminant hypertension. DISCHARGE DIAGNOSES: 1. INTRAUTERINE PREGNANCY AT 24 WEEKS. 2. HEADACHE. 3. SEIZURE DISORDER. 4. CHRONIC HYPERTENSION. 5. RULE OUT PRE-ECLAMPTIC TOXEMIA. 6. NAUSEA AND VOMITING. OPERATIONS/PROCEDURES: CT. MRI. EEG TIMES TWO. Batch: 4395 Report: N9695L1 T: ________________________________ FI216/6976 TYRONE SNIDER , M.D. PM91 D: 6/12/90 Batch: 9922 Report: B8548X7 T: 7/21/90 Dictated By: TRACY MUNOZ , M.D. cc: WENDELL W. HEMM , M.D. [report_end] \n"
     ]
    }
   ],
   "source": [
    "print(\"\".join(data[0]['paragraphs'][0]['context']))"
   ],
   "metadata": {
    "collapsed": false,
    "ExecuteTime": {
     "end_time": "2023-09-18T04:49:10.800002Z",
     "start_time": "2023-09-18T04:49:10.785698500Z"
    }
   },
   "id": "d54f33f0ed42ccd9"
  },
  {
   "cell_type": "code",
   "execution_count": 110,
   "outputs": [],
   "source": [
    "full_texts = []\n",
    "questions = []\n",
    "texts = []\n",
    "evidences = []\n",
    "answers = []\n",
    "for d in js['data']:\n",
    "    for paragraph in d['paragraphs']:\n",
    "        full_text = \"\".join(paragraph['context'])\n",
    "        for qa in paragraph['qas']:\n",
    "            for question in qa['question']:\n",
    "                if not qa['answers']:\n",
    "                    continue\n",
    "                full_texts.append(full_text)\n",
    "                questions.append(question)\n",
    "                texts.append(qa['answers'][0]['text'])\n",
    "                evidences.append(qa['answers'][0]['answer_start'])\n",
    "                answers.append(qa['answers'][0]['text'])"
   ],
   "metadata": {
    "collapsed": false,
    "ExecuteTime": {
     "end_time": "2023-09-18T07:42:48.634549400Z",
     "start_time": "2023-09-18T07:42:47.863103900Z"
    }
   },
   "id": "7cd4e739c5db88a7"
  },
  {
   "cell_type": "code",
   "execution_count": 111,
   "outputs": [
    {
     "data": {
      "text/plain": "                                                 full_text  \\\n1980780  791148375 | MDR | 45113416 | | 405614 | 11/23/...   \n1980781  791148375 | MDR | 45113416 | | 405614 | 11/23/...   \n1980782  791148375 | MDR | 45113416 | | 405614 | 11/23/...   \n1980783  791148375 | MDR | 45113416 | | 405614 | 11/23/...   \n1980784  791148375 | MDR | 45113416 | | 405614 | 11/23/...   \n\n                                                question text evidence answer  \n1980780          What is the patient's Depression status   no              no  \n1980781  What is the patient's current Depression status   no              no  \n1980782           What is the patients Depression status   no              no  \n1980783             What is the status of her Depression   no              no  \n1980784   What is the status of the patient's Depression   no              no  ",
      "text/html": "<div>\n<style scoped>\n    .dataframe tbody tr th:only-of-type {\n        vertical-align: middle;\n    }\n\n    .dataframe tbody tr th {\n        vertical-align: top;\n    }\n\n    .dataframe thead th {\n        text-align: right;\n    }\n</style>\n<table border=\"1\" class=\"dataframe\">\n  <thead>\n    <tr style=\"text-align: right;\">\n      <th></th>\n      <th>full_text</th>\n      <th>question</th>\n      <th>text</th>\n      <th>evidence</th>\n      <th>answer</th>\n    </tr>\n  </thead>\n  <tbody>\n    <tr>\n      <th>1980780</th>\n      <td>791148375 | MDR | 45113416 | | 405614 | 11/23/...</td>\n      <td>What is the patient's Depression status</td>\n      <td>no</td>\n      <td></td>\n      <td>no</td>\n    </tr>\n    <tr>\n      <th>1980781</th>\n      <td>791148375 | MDR | 45113416 | | 405614 | 11/23/...</td>\n      <td>What is the patient's current Depression status</td>\n      <td>no</td>\n      <td></td>\n      <td>no</td>\n    </tr>\n    <tr>\n      <th>1980782</th>\n      <td>791148375 | MDR | 45113416 | | 405614 | 11/23/...</td>\n      <td>What is the patients Depression status</td>\n      <td>no</td>\n      <td></td>\n      <td>no</td>\n    </tr>\n    <tr>\n      <th>1980783</th>\n      <td>791148375 | MDR | 45113416 | | 405614 | 11/23/...</td>\n      <td>What is the status of her Depression</td>\n      <td>no</td>\n      <td></td>\n      <td>no</td>\n    </tr>\n    <tr>\n      <th>1980784</th>\n      <td>791148375 | MDR | 45113416 | | 405614 | 11/23/...</td>\n      <td>What is the status of the patient's Depression</td>\n      <td>no</td>\n      <td></td>\n      <td>no</td>\n    </tr>\n  </tbody>\n</table>\n</div>"
     },
     "execution_count": 111,
     "metadata": {},
     "output_type": "execute_result"
    }
   ],
   "source": [
    "df = pd.DataFrame({'full_text': full_texts, 'question': questions, 'text': texts, 'evidence': evidences, 'answer': answers})\n",
    "df.tail()"
   ],
   "metadata": {
    "collapsed": false,
    "ExecuteTime": {
     "end_time": "2023-09-18T07:42:51.400685700Z",
     "start_time": "2023-09-18T07:42:50.940884400Z"
    }
   },
   "id": "2309791c81fa94e1"
  },
  {
   "cell_type": "code",
   "execution_count": 59,
   "outputs": [
    {
     "data": {
      "text/plain": "['Was the patient ever prescribed lopressor',\n 'Has this patient ever been on lopressor',\n 'Has patient ever been prescribed lopressor',\n 'lopressor',\n 'Has the pt. ever been on lopressor before',\n 'Has this patient ever tried lopressor',\n 'has the patient had lopressor',\n 'Is the patient currently or have they ever taken lopressor',\n 'Is there history of use of lopressor',\n 'Has the patient ever tried lopressor',\n 'Has the patient had multiple lopressor prescriptions',\n 'Has this patient ever been prescribed lopressor',\n 'Is there a mention of of lopressor usage/prescription in the record',\n 'has there been a prior lopressor']"
     },
     "execution_count": 59,
     "metadata": {},
     "output_type": "execute_result"
    }
   ],
   "source": [
    "js['data'][0]['paragraphs'][1]['qas'][3]['question']"
   ],
   "metadata": {
    "collapsed": false,
    "ExecuteTime": {
     "end_time": "2023-09-18T07:14:01.545043500Z",
     "start_time": "2023-09-18T07:14:01.519727600Z"
    }
   },
   "id": "1b3c64da18ed0484"
  },
  {
   "cell_type": "code",
   "execution_count": 58,
   "outputs": [
    {
     "data": {
      "text/plain": "[{'text': '',\n  'answer_start': [48, ''],\n  'evidence_start': 48,\n  'answer_entity_type': 'empty',\n  'evidence': 'Aspirin , Lopressor , Norvasc , Zocor , Plavix , PhosLo , Prandin ,\\n'}]"
     },
     "execution_count": 58,
     "metadata": {},
     "output_type": "execute_result"
    }
   ],
   "source": [
    "js['data'][0]['paragraphs'][1]['qas'][3]['answers']"
   ],
   "metadata": {
    "collapsed": false,
    "ExecuteTime": {
     "end_time": "2023-09-18T07:13:46.211319900Z",
     "start_time": "2023-09-18T07:13:46.206811Z"
    }
   },
   "id": "9ecdd42d5426b22c"
  },
  {
   "cell_type": "code",
   "execution_count": 81,
   "outputs": [
    {
     "name": "stderr",
     "output_type": "stream",
     "text": [
      "IOPub data rate exceeded.\n",
      "The Jupyter server will temporarily stop sending output\n",
      "to the client in order to avoid crashing it.\n",
      "To change this limit, set the config variable\n",
      "`--ServerApp.iopub_data_rate_limit`.\n",
      "\n",
      "Current values:\n",
      "ServerApp.iopub_data_rate_limit=1000000.0 (bytes/sec)\n",
      "ServerApp.rate_limit_window=3.0 (secs)\n",
      "\n"
     ]
    }
   ],
   "source": [
    "for i in data[:1]:\n",
    "    for p in i['paragraphs']:\n",
    "        for q in p['qas'][:25]:\n",
    "            print(q)"
   ],
   "metadata": {
    "collapsed": false,
    "ExecuteTime": {
     "end_time": "2023-09-18T07:22:51.075415200Z",
     "start_time": "2023-09-18T07:22:50.889324300Z"
    }
   },
   "id": "7f091a60973bd2c3"
  },
  {
   "cell_type": "code",
   "execution_count": 90,
   "outputs": [],
   "source": [
    "file_name = \"smoking/smoking-qa.json\"\n",
    "file_path = os.path.join(\"..\", \"data\", file_name)\n",
    "with open (file_path, 'r') as file:\n",
    "    js = json.load(file)"
   ],
   "metadata": {
    "collapsed": false,
    "ExecuteTime": {
     "end_time": "2023-09-18T07:28:16.036814700Z",
     "start_time": "2023-09-18T07:28:16.017913500Z"
    }
   },
   "id": "4aa3f53aa7c1aab0"
  },
  {
   "cell_type": "code",
   "execution_count": 94,
   "outputs": [
    {
     "data": {
      "text/plain": "dict_keys(['title', 'paragraphs'])"
     },
     "execution_count": 94,
     "metadata": {},
     "output_type": "execute_result"
    }
   ],
   "source": [
    "js.keys()"
   ],
   "metadata": {
    "collapsed": false,
    "ExecuteTime": {
     "end_time": "2023-09-18T07:28:43.085625400Z",
     "start_time": "2023-09-18T07:28:43.079147400Z"
    }
   },
   "id": "332e513ab4cc6999"
  },
  {
   "cell_type": "code",
   "execution_count": 100,
   "outputs": [
    {
     "data": {
      "text/plain": "False"
     },
     "execution_count": 100,
     "metadata": {},
     "output_type": "execute_result"
    }
   ],
   "source": [
    "asg = js['paragraphs'][0]['qas']\n",
    "len(asg[0]['answers']) == len(asg[0]['question'])"
   ],
   "metadata": {
    "collapsed": false,
    "ExecuteTime": {
     "end_time": "2023-09-18T07:30:05.539375500Z",
     "start_time": "2023-09-18T07:30:05.531677200Z"
    }
   },
   "id": "7e8e83af64ec8c0"
  },
  {
   "cell_type": "code",
   "execution_count": 102,
   "outputs": [
    {
     "data": {
      "text/plain": "{'question': ['Has the patient quit smoking',\n  'Has this patient ever tried to quit smoking'],\n 'id': [[['Has the patient quit smoking', 'Has the patient quit smoking'],\n   ['Has this patient ever tried to quit smoking',\n    'Has this patient ever tried to quit smoking']],\n  'SmokingQuitEvent (x)'],\n 'answers': [{'text': 'PAST SMOKER',\n   'answer_start': '',\n   'evidence_start': '',\n   'evidence': ''}]}"
     },
     "execution_count": 102,
     "metadata": {},
     "output_type": "execute_result"
    }
   ],
   "source": [
    "asg[0]"
   ],
   "metadata": {
    "collapsed": false,
    "ExecuteTime": {
     "end_time": "2023-09-18T07:30:15.049893800Z",
     "start_time": "2023-09-18T07:30:15.042912800Z"
    }
   },
   "id": "58f9a424416f3827"
  },
  {
   "cell_type": "code",
   "execution_count": 98,
   "outputs": [
    {
     "data": {
      "text/plain": "502"
     },
     "execution_count": 98,
     "metadata": {},
     "output_type": "execute_result"
    }
   ],
   "source": [
    "len(js['paragraphs'])"
   ],
   "metadata": {
    "collapsed": false,
    "ExecuteTime": {
     "end_time": "2023-09-18T07:29:06.353601700Z",
     "start_time": "2023-09-18T07:29:06.344774400Z"
    }
   },
   "id": "ab2082e9d0e66dff"
  },
  {
   "cell_type": "code",
   "execution_count": 104,
   "outputs": [
    {
     "data": {
      "text/plain": "4518"
     },
     "execution_count": 104,
     "metadata": {},
     "output_type": "execute_result"
    }
   ],
   "source": [
    "count = 0\n",
    "for p in js['paragraphs']:\n",
    "    for q in p['qas']:\n",
    "        for i in q['question']:\n",
    "            count += 1\n",
    "count"
   ],
   "metadata": {
    "collapsed": false,
    "ExecuteTime": {
     "end_time": "2023-09-18T07:40:45.600604Z",
     "start_time": "2023-09-18T07:40:45.593979100Z"
    }
   },
   "id": "744ab4c0b743c17a"
  },
  {
   "cell_type": "code",
   "execution_count": 113,
   "outputs": [],
   "source": [
    "def counter(js):\n",
    "    count = 0\n",
    "    for p in js['paragraphs']:\n",
    "        for q in p['qas']:\n",
    "            for i in q['question']:\n",
    "                count += 1\n",
    "    return count"
   ],
   "metadata": {
    "collapsed": false,
    "ExecuteTime": {
     "end_time": "2023-09-18T07:45:05.499625700Z",
     "start_time": "2023-09-18T07:45:05.495621100Z"
    }
   },
   "id": "5076e6529c00cd4c"
  },
  {
   "cell_type": "code",
   "execution_count": 114,
   "outputs": [
    {
     "data": {
      "text/plain": "1326203"
     },
     "execution_count": 114,
     "metadata": {},
     "output_type": "execute_result"
    }
   ],
   "source": [
    "file_name = \"relations/relations-qa.json\"\n",
    "file_path = os.path.join(\"..\", \"data\", file_name)\n",
    "with open (file_path, 'r') as file:\n",
    "    relation_json = json.load(file)\n",
    "counter(relation_json)"
   ],
   "metadata": {
    "collapsed": false,
    "ExecuteTime": {
     "end_time": "2023-09-18T07:45:08.649481800Z",
     "start_time": "2023-09-18T07:45:05.709665600Z"
    }
   },
   "id": "8f4009e0fc7c20eb"
  },
  {
   "cell_type": "code",
   "execution_count": 115,
   "outputs": [
    {
     "data": {
      "text/plain": "1184960"
     },
     "execution_count": 115,
     "metadata": {},
     "output_type": "execute_result"
    }
   ],
   "source": [
    "1326203-141243"
   ],
   "metadata": {
    "collapsed": false,
    "ExecuteTime": {
     "end_time": "2023-09-18T07:45:40.015096400Z",
     "start_time": "2023-09-18T07:45:39.998134Z"
    }
   },
   "id": "35c9e1dcb4def275"
  },
  {
   "cell_type": "code",
   "execution_count": null,
   "outputs": [],
   "source": [],
   "metadata": {
    "collapsed": false
   },
   "id": "94a6fcdb815a6f5f"
  }
 ],
 "metadata": {
  "kernelspec": {
   "display_name": "Python 3",
   "language": "python",
   "name": "python3"
  },
  "language_info": {
   "codemirror_mode": {
    "name": "ipython",
    "version": 2
   },
   "file_extension": ".py",
   "mimetype": "text/x-python",
   "name": "python",
   "nbconvert_exporter": "python",
   "pygments_lexer": "ipython2",
   "version": "2.7.6"
  }
 },
 "nbformat": 4,
 "nbformat_minor": 5
}
