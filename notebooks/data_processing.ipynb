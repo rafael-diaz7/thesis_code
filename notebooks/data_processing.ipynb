{
 "cells": [
  {
   "cell_type": "code",
   "execution_count": 1,
   "id": "initial_id",
   "metadata": {
    "collapsed": true,
    "ExecuteTime": {
     "end_time": "2023-09-20T15:51:44.476537400Z",
     "start_time": "2023-09-20T15:51:43.485083800Z"
    }
   },
   "outputs": [],
   "source": [
    "import json\n",
    "import pandas as pd"
   ]
  },
  {
   "cell_type": "code",
   "execution_count": 2,
   "outputs": [],
   "source": [
    "prefixes = ['relations', 'medication', 'risk', 'smoking', 'obesity']\n",
    "true_questions = [1322789, 226128, 49897, 4518, 354503]"
   ],
   "metadata": {
    "collapsed": false,
    "ExecuteTime": {
     "end_time": "2023-09-20T15:51:44.481959400Z",
     "start_time": "2023-09-20T15:51:44.477040200Z"
    }
   },
   "id": "d9f24c59b5248ae7"
  },
  {
   "cell_type": "code",
   "execution_count": 13,
   "outputs": [],
   "source": [
    "def count_questions(prefix):\n",
    "    file_path = f\"../data/{prefix}/{prefix}-qa.json\"\n",
    "    count = 0\n",
    "    with open (file_path, 'r') as file:\n",
    "        js = json.load(file)\n",
    "    for p in js['paragraphs']:\n",
    "        for q in p['qas']:\n",
    "            count += len(q['question'])\n",
    "    return count"
   ],
   "metadata": {
    "collapsed": false,
    "ExecuteTime": {
     "end_time": "2023-09-20T19:03:35.262116800Z",
     "start_time": "2023-09-20T19:03:35.252049Z"
    }
   },
   "id": "5076e6529c00cd4c"
  },
  {
   "cell_type": "code",
   "execution_count": null,
   "outputs": [],
   "source": [
    "counts = []\n",
    "differences = []\n",
    "equals = []\n",
    "for prefix, true in zip(prefixes, true_questions):\n",
    "    count = count_questions(prefix)\n",
    "    counts.append(count)\n",
    "    differences.append(count-true)\n",
    "    equals.append(count == true)\n",
    "df = pd.DataFrame({'prefix': prefixes, 'count': counts, 'true': true_questions, 'difference': differences, 'equal': equals})\n",
    "df"
   ],
   "metadata": {
    "collapsed": false
   },
   "id": "8f4009e0fc7c20eb"
  }
 ],
 "metadata": {
  "kernelspec": {
   "display_name": "Python 3",
   "language": "python",
   "name": "python3"
  },
  "language_info": {
   "codemirror_mode": {
    "name": "ipython",
    "version": 2
   },
   "file_extension": ".py",
   "mimetype": "text/x-python",
   "name": "python",
   "nbconvert_exporter": "python",
   "pygments_lexer": "ipython2",
   "version": "2.7.6"
  }
 },
 "nbformat": 4,
 "nbformat_minor": 5
}
