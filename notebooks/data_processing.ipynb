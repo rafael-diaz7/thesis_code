{
 "cells": [
  {
   "cell_type": "code",
   "execution_count": null,
   "id": "initial_id",
   "metadata": {
    "collapsed": true
   },
   "outputs": [],
   "source": [
    "import json\n",
    "import pandas as pd"
   ]
  },
  {
   "cell_type": "code",
   "execution_count": null,
   "outputs": [],
   "source": [
    "prefixes = ['relations', 'medication', 'risk', 'smoking', 'obesity']\n",
    "true_questions = [1322789, 226128, 49897, 4518, 354503]"
   ],
   "metadata": {
    "collapsed": false
   },
   "id": "d9f24c59b5248ae7"
  },
  {
   "cell_type": "code",
   "execution_count": null,
   "outputs": [],
   "source": [
    "def count_json():\n",
    "    all_questions = []\n",
    "    file_path = \"../data/data.json\"\n",
    "    prefixes = []\n",
    "    counts = []\n",
    "    with open (file_path, 'r') as file:\n",
    "        js = json.load(file)\n",
    "    for "
   ],
   "metadata": {
    "collapsed": false
   },
   "id": "ed9721ed660d2cf2"
  },
  {
   "cell_type": "code",
   "execution_count": null,
   "outputs": [],
   "source": [
    "def count_questions(prefix):\n",
    "    all_questions = []\n",
    "    file_path = f\"../data/{prefix}/{prefix}-qa.json\"\n",
    "    count = 0\n",
    "    with open (file_path, 'r') as file:\n",
    "        js = json.load(file)\n",
    "    for p in js['paragraphs']:\n",
    "        for q in p['qas']:\n",
    "            all_questions.append(list(set(q['question'])))\n",
    "    for value in all_questions:\n",
    "        count += len(value)\n",
    "    return count"
   ],
   "metadata": {
    "collapsed": false
   },
   "id": "5076e6529c00cd4c"
  },
  {
   "cell_type": "code",
   "execution_count": null,
   "outputs": [],
   "source": [
    "def count__questions(prefix):\n",
    "    file_path = f\"../data/{prefix}/{prefix}-qa.json\"\n",
    "    count = 0\n",
    "    with open (file_path, 'r') as file:\n",
    "        js = json.load(file)\n",
    "    for p in js['paragraphs']:\n",
    "        for q in p['qas']:\n",
    "            count += len(q['question'])\n",
    "    return count"
   ],
   "metadata": {
    "collapsed": false
   },
   "id": "228699785ba1258b"
  },
  {
   "cell_type": "code",
   "execution_count": null,
   "outputs": [],
   "source": [
    "counts = []\n",
    "differences = []\n",
    "equals = []\n",
    "for prefix, true in zip(prefixes, true_questions):\n",
    "    count = count_questions(prefix)\n",
    "    counts.append(count)\n",
    "    differences.append(count-true)\n",
    "    equals.append(count == true)\n",
    "df = pd.DataFrame({'prefix': prefixes, 'count': counts, 'true': true_questions, 'difference': differences, 'equal': equals})\n",
    "df"
   ],
   "metadata": {
    "collapsed": false
   },
   "id": "8f4009e0fc7c20eb"
  },
  {
   "cell_type": "code",
   "execution_count": null,
   "outputs": [],
   "source": [
    "all_questions = []\n",
    "prefix = 'medication'\n",
    "file_path = f\"../data/{prefix}/{prefix}-qa.json\"\n",
    "with open (file_path, 'r') as file:\n",
    "    js = json.load(file)"
   ],
   "metadata": {
    "collapsed": false
   },
   "id": "a898d0a0fc9d394e"
  },
  {
   "cell_type": "code",
   "execution_count": null,
   "outputs": [],
   "source": [
    "for p in js['paragraphs']:\n",
    "    for q in p['qas']:\n",
    "        a = q['question']\n",
    "        b = list(set(q['question']))\n",
    "        if len(a) != len(b):\n",
    "            print('question!!!!!!!!!!!!!!!!!!!!!!!!!!')\n",
    "            print(q['question'])\n",
    "            print('listset!!!!!!!!!!!!!!!!!!!!!!!!!!')\n",
    "            print(list(set(q['question'])))\n",
    "            print(\"------------------------\")"
   ],
   "metadata": {
    "collapsed": false
   },
   "id": "c6b5a990acb26c2d"
  },
  {
   "cell_type": "code",
   "execution_count": null,
   "outputs": [],
   "source": [
    "file_path = f\"../data/data.json\"\n",
    "with open (file_path, 'r') as file:\n",
    "    js = json.load(file)"
   ],
   "metadata": {
    "collapsed": false
   },
   "id": "205462347d92cae7"
  },
  {
   "cell_type": "code",
   "execution_count": null,
   "outputs": [],
   "source": [
    "qa_pairs = []\n",
    "for i in js['data']:\n",
    "    for p in i['paragraphs']:\n",
    "        qa_pairs.append(p['qas'])"
   ],
   "metadata": {
    "collapsed": false
   },
   "id": "8f36650947421435"
  },
  {
   "cell_type": "code",
   "execution_count": null,
   "outputs": [],
   "source": [
    "qa_pairs[0]"
   ],
   "metadata": {
    "collapsed": false
   },
   "id": "fe4b4c5f871d355f"
  },
  {
   "cell_type": "code",
   "execution_count": null,
   "outputs": [],
   "source": [
    "1dict = {'medication': 0,\n",
    "        'obesity'   : 0,\n",
    "        'relations' : 0,\n",
    "        'risk-dataset'      : 0,\n",
    "        'smoking'   : 0}\n",
    "all_questions = []\n",
    "for i in js['data']:\n",
    "    key = i['title']\n",
    "    count = 0\n",
    "    for p in i['paragraphs']:\n",
    "        for q in p['qas']:\n",
    "            x = list(set(q['question']))\n",
    "            all_questions.append(x)\n",
    "            count += len(x)\n",
    "    dict[key] += count\n",
    "dict    "
   ],
   "metadata": {
    "collapsed": false
   },
   "id": "644d5578d71ba0d2"
  },
  {
   "cell_type": "code",
   "execution_count": null,
   "outputs": [],
   "source": [
    "true_questions"
   ],
   "metadata": {
    "collapsed": false
   },
   "id": "bac5133a19fed9e9"
  },
  {
   "cell_type": "code",
   "execution_count": null,
   "outputs": [],
   "source": [
    "c = 0\n",
    "for i in all_questions:\n",
    "    c += len(i)\n",
    "c"
   ],
   "metadata": {
    "collapsed": false
   },
   "id": "7bd4547169bdf73c"
  },
  {
   "cell_type": "code",
   "execution_count": null,
   "outputs": [],
   "source": [
    "len(all_questions)"
   ],
   "metadata": {
    "collapsed": false
   },
   "id": "295c9e84ea35fac4"
  },
  {
   "cell_type": "code",
   "execution_count": null,
   "outputs": [],
   "source": [],
   "metadata": {
    "collapsed": false
   },
   "id": "c4060cd53dd390db"
  }
 ],
 "metadata": {
  "kernelspec": {
   "display_name": "Python 3",
   "language": "python",
   "name": "python3"
  },
  "language_info": {
   "codemirror_mode": {
    "name": "ipython",
    "version": 2
   },
   "file_extension": ".py",
   "mimetype": "text/x-python",
   "name": "python",
   "nbconvert_exporter": "python",
   "pygments_lexer": "ipython2",
   "version": "2.7.6"
  }
 },
 "nbformat": 4,
 "nbformat_minor": 5
}
