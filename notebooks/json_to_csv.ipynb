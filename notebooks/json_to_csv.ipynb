{
 "cells": [
  {
   "cell_type": "code",
   "execution_count": 1,
   "id": "initial_id",
   "metadata": {
    "collapsed": true,
    "ExecuteTime": {
     "end_time": "2023-10-24T15:04:24.341414Z",
     "start_time": "2023-10-24T15:04:24.337521Z"
    }
   },
   "outputs": [],
   "source": [
    "import json\n",
    "import pandas as pd"
   ]
  },
  {
   "cell_type": "code",
   "execution_count": 3,
   "outputs": [],
   "source": [
    "with open('../data/data.json') as f:\n",
    "    data = json.load(f)"
   ],
   "metadata": {
    "collapsed": false,
    "ExecuteTime": {
     "end_time": "2023-10-24T15:04:43.417128Z",
     "start_time": "2023-10-24T15:04:36.708326Z"
    }
   },
   "id": "d33ec1adf01f8fdf"
  },
  {
   "cell_type": "code",
   "execution_count": 67,
   "outputs": [],
   "source": [
    "question_all = []\n",
    "context_all = []\n",
    "answer_all = []\n",
    "evidence_all = []\n",
    "answer_start_all = []\n",
    "for dataset in data['data']:\n",
    "    if dataset['title'] in ['obesity', 'smoking']:\n",
    "        continue\n",
    "    for paragraph in dataset['paragraphs']:\n",
    "        context = \"\".join(paragraph['context'])\n",
    "        for qa_pair in paragraph['qas']:\n",
    "            questions = list(set(qa_pair['question']))\n",
    "            for answer in qa_pair['answers']:\n",
    "                if answer['text'] == \"\":\n",
    "                    continue\n",
    "                answer_start = answer['answer_start']\n",
    "                answer_start_formatted = answer_start[1] if type(answer_start[1]) != list else answer_start[1][0]\n",
    "                question_all.extend(questions)\n",
    "                context_all.extend([context] * len(questions))\n",
    "                answer_all.extend([answer['text']] * len(questions))\n",
    "                evidence_all.extend([answer['evidence']] * len(questions))\n",
    "                answer_start_all.extend([answer_start_formatted] * len(questions))\n",
    "            "
   ],
   "metadata": {
    "collapsed": false,
    "ExecuteTime": {
     "end_time": "2023-10-24T17:50:24.077362Z",
     "start_time": "2023-10-24T17:50:19.839731Z"
    }
   },
   "id": "32f352c5ba0a137c"
  },
  {
   "cell_type": "code",
   "execution_count": 68,
   "outputs": [
    {
     "data": {
      "text/plain": "353465"
     },
     "execution_count": 68,
     "metadata": {},
     "output_type": "execute_result"
    }
   ],
   "source": [
    "df = pd.DataFrame({'question': question_all, 'context': context_all, 'answer': answer_all, 'answer_start': answer_start_all, 'evidence': evidence_all})\n",
    "df.to_csv('../data/qa.csv', index=False)"
   ],
   "metadata": {
    "collapsed": false,
    "ExecuteTime": {
     "end_time": "2023-10-24T17:50:27.679412Z",
     "start_time": "2023-10-24T17:50:27.331924Z"
    }
   },
   "id": "a269afd473ab6403"
  }
 ],
 "metadata": {
  "kernelspec": {
   "display_name": "Python 3",
   "language": "python",
   "name": "python3"
  },
  "language_info": {
   "codemirror_mode": {
    "name": "ipython",
    "version": 2
   },
   "file_extension": ".py",
   "mimetype": "text/x-python",
   "name": "python",
   "nbconvert_exporter": "python",
   "pygments_lexer": "ipython2",
   "version": "2.7.6"
  }
 },
 "nbformat": 4,
 "nbformat_minor": 5
}
