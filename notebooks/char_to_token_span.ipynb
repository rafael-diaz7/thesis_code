{
 "cells": [
  {
   "cell_type": "code",
   "execution_count": 2,
   "id": "initial_id",
   "metadata": {
    "collapsed": true,
    "ExecuteTime": {
     "end_time": "2024-02-19T02:34:57.455847489Z",
     "start_time": "2024-02-19T02:34:57.290213420Z"
    }
   },
   "outputs": [],
   "source": [
    "from transformers import AutoTokenizer\n",
    "import pandas as pd\n",
    "tokenizer = AutoTokenizer.from_pretrained(\"bert-base-uncased\")"
   ]
  },
  {
   "cell_type": "code",
   "outputs": [],
   "source": [
    "df = pd.read_csv('../data/emrqa_val.csv')\n",
    "samples = df.sample(5).reset_index(drop=True)"
   ],
   "metadata": {
    "collapsed": false,
    "ExecuteTime": {
     "end_time": "2024-02-19T02:35:25.207332352Z",
     "start_time": "2024-02-19T02:35:25.062640689Z"
    }
   },
   "id": "b87e95442eda8a2c",
   "execution_count": 4
  },
  {
   "cell_type": "code",
   "outputs": [
    {
     "data": {
      "text/plain": "dict_keys(['input_ids', 'token_type_ids', 'attention_mask', 'offset_mapping', 'overflow_to_sample_mapping'])"
     },
     "execution_count": 11,
     "metadata": {},
     "output_type": "execute_result"
    }
   ],
   "source": [
    "inputs = tokenizer(samples['question'].tolist(), samples['evidence'].tolist(), truncation='only_second',\n",
    "                   stride=50, return_overflowing_tokens=True, return_offsets_mapping=True)\n",
    "inputs.keys()"
   ],
   "metadata": {
    "collapsed": false,
    "ExecuteTime": {
     "end_time": "2024-02-19T03:39:44.243842527Z",
     "start_time": "2024-02-19T03:39:44.195573402Z"
    }
   },
   "id": "df70d5158d170cae",
   "execution_count": 11
  },
  {
   "cell_type": "code",
   "outputs": [
    {
     "data": {
      "text/plain": "([20, 20, 12, 33, 43], [24, 25, 14, 36, 43])"
     },
     "execution_count": 26,
     "metadata": {},
     "output_type": "execute_result"
    }
   ],
   "source": [
    "start_positions = []\n",
    "end_positions = []\n",
    "for i, offset in enumerate(inputs['offset_mapping']):\n",
    "    question = samples['question'][i]\n",
    "    answer = samples['answer'][i]\n",
    "    evidence = samples['evidence'][i].lower()\n",
    "    calc_answer_start = evidence.find(answer)\n",
    "    end_char = calc_answer_start + len(answer)\n",
    "    sequence_ids = inputs.sequence_ids(i)\n",
    "    \n",
    "    idx = 0\n",
    "    while sequence_ids[idx] != 1:\n",
    "        idx += 1\n",
    "    context_start = idx\n",
    "    while sequence_ids[idx] == 1:\n",
    "        idx += 1\n",
    "    context_end = idx - 1\n",
    "\n",
    "    idx = context_start\n",
    "    while idx <= context_end and offset[idx][0] <= calc_answer_start:\n",
    "        idx += 1\n",
    "    start_positions.append(idx - 1)\n",
    "\n",
    "    idx = context_end\n",
    "    while idx >= context_start and offset[idx][1] >= end_char:\n",
    "        idx -= 1\n",
    "    end_positions.append(idx + 1)\n",
    "\n",
    "start_positions, end_positions"
   ],
   "metadata": {
    "collapsed": false,
    "ExecuteTime": {
     "end_time": "2024-02-19T04:07:53.739510515Z",
     "start_time": "2024-02-19T04:07:53.696558337Z"
    }
   },
   "id": "6acc8b60b80231c6",
   "execution_count": 26
  },
  {
   "cell_type": "code",
   "outputs": [
    {
     "name": "stdout",
     "output_type": "stream",
     "text": [
      "Theoretical answer: her electrocardiogram, labels give: her electrocardiogram\n",
      "Theoretical answer: s/p lad ptca, labels give: s / p lad ptca\n",
      "Theoretical answer: 160/80, labels give: 160 / 80\n",
      "Theoretical answer: colonoscopy, labels give: colonoscopy\n",
      "Theoretical answer: vt, labels give: vt\n"
     ]
    }
   ],
   "source": [
    "for i in range(len(samples)):\n",
    "    sample_idx = inputs[\"overflow_to_sample_mapping\"][i]\n",
    "    answer = samples['answer'][i]\n",
    "    \n",
    "    start = start_positions[i]\n",
    "    end = end_positions[i]\n",
    "    labeled_answer = tokenizer.decode(inputs[\"input_ids\"][i][start : end + 1])\n",
    "    print(f\"Theoretical answer: {answer}, labels give: {labeled_answer}\")"
   ],
   "metadata": {
    "collapsed": false,
    "ExecuteTime": {
     "end_time": "2024-02-19T04:10:46.821731017Z",
     "start_time": "2024-02-19T04:10:46.819584196Z"
    }
   },
   "id": "361c0ec3af91a997",
   "execution_count": 33
  },
  {
   "cell_type": "code",
   "outputs": [],
   "source": [
    "inputs = tokenizer(question, evidence, truncation='only_second',\n",
    "                   stride=50, return_overflowing_tokens=True, return_offsets_mapping=True)"
   ],
   "metadata": {
    "collapsed": false,
    "ExecuteTime": {
     "end_time": "2024-02-19T04:45:24.767471332Z",
     "start_time": "2024-02-19T04:45:24.725989960Z"
    }
   },
   "id": "be1f73852ad3b19e",
   "execution_count": 34
  },
  {
   "cell_type": "code",
   "outputs": [
    {
     "data": {
      "text/plain": "[None,\n 0,\n 0,\n 0,\n 0,\n 0,\n 0,\n 0,\n 0,\n 0,\n 0,\n 0,\n None,\n 1,\n 1,\n 1,\n 1,\n 1,\n 1,\n 1,\n 1,\n 1,\n 1,\n 1,\n 1,\n 1,\n 1,\n 1,\n 1,\n 1,\n 1,\n 1,\n 1,\n 1,\n 1,\n 1,\n 1,\n 1,\n 1,\n 1,\n 1,\n 1,\n 1,\n 1,\n 1,\n 1,\n 1,\n 1,\n 1,\n 1,\n 1,\n 1,\n 1,\n 1,\n 1,\n 1,\n 1,\n 1,\n 1,\n 1,\n 1,\n 1,\n 1,\n 1,\n 1,\n 1,\n 1,\n 1,\n 1,\n 1,\n 1,\n 1,\n 1,\n 1,\n 1,\n 1,\n 1,\n 1,\n 1,\n 1,\n 1,\n 1,\n 1,\n 1,\n 1,\n 1,\n 1,\n 1,\n 1,\n 1,\n 1,\n 1,\n 1,\n 1,\n 1,\n 1,\n 1,\n 1,\n 1,\n 1,\n 1,\n 1,\n 1,\n 1,\n 1,\n 1,\n 1,\n 1,\n 1,\n 1,\n 1,\n 1,\n 1,\n 1,\n 1,\n 1,\n 1,\n 1,\n 1,\n 1,\n 1,\n 1,\n 1,\n 1,\n 1,\n 1,\n 1,\n 1,\n 1,\n 1,\n 1,\n 1,\n 1,\n 1,\n 1,\n 1,\n 1,\n 1,\n 1,\n 1,\n 1,\n 1,\n 1,\n 1,\n 1,\n 1,\n 1,\n 1,\n None]"
     },
     "execution_count": 36,
     "metadata": {},
     "output_type": "execute_result"
    }
   ],
   "source": [
    "inputs.sequence_ids()"
   ],
   "metadata": {
    "collapsed": false,
    "ExecuteTime": {
     "end_time": "2024-02-19T04:45:31.825267340Z",
     "start_time": "2024-02-19T04:45:31.822986981Z"
    }
   },
   "id": "3d621651bc61b815",
   "execution_count": 36
  },
  {
   "cell_type": "code",
   "outputs": [
    {
     "data": {
      "text/plain": "[[(0, 0),\n  (0, 4),\n  (5, 8),\n  (9, 12),\n  (13, 23),\n  (24, 27),\n  (28, 30),\n  (31, 38),\n  (38, 39),\n  (39, 40),\n  (41, 43),\n  (43, 49),\n  (0, 0),\n  (0, 1),\n  (1, 2),\n  (3, 5),\n  (6, 7),\n  (8, 9),\n  (10, 11),\n  (12, 20),\n  (21, 24),\n  (24, 25),\n  (26, 28),\n  (29, 33),\n  (34, 38),\n  (39, 46),\n  (47, 49),\n  (50, 52),\n  (53, 54),\n  (55, 57),\n  (57, 61),\n  (61, 64),\n  (65, 66),\n  (66, 69),\n  (69, 70),\n  (71, 72),\n  (73, 81),\n  (82, 95),\n  (96, 102),\n  (103, 104),\n  (104, 107),\n  (108, 116),\n  (117, 119),\n  (120, 122),\n  (123, 124),\n  (125, 127),\n  (128, 129),\n  (130, 131),\n  (132, 133),\n  (134, 135),\n  (136, 138),\n  (139, 146),\n  (147, 150),\n  (151, 158),\n  (159, 161),\n  (162, 169),\n  (170, 172),\n  (173, 175),\n  (175, 181),\n  (182, 183),\n  (184, 185),\n  (186, 187),\n  (188, 195),\n  (196, 202),\n  (203, 211),\n  (212, 215),\n  (216, 219),\n  (220, 228),\n  (229, 231),\n  (231, 234),\n  (234, 237),\n  (238, 239),\n  (240, 243),\n  (243, 246),\n  (247, 248),\n  (249, 252),\n  (253, 254),\n  (255, 259),\n  (259, 261),\n  (262, 263),\n  (264, 266),\n  (267, 268),\n  (269, 273),\n  (273, 276),\n  (276, 278),\n  (279, 282),\n  (282, 283),\n  (284, 285),\n  (285, 286),\n  (286, 287),\n  (288, 291),\n  (292, 296),\n  (297, 298),\n  (298, 299),\n  (299, 300),\n  (301, 303),\n  (304, 308),\n  (309, 312),\n  (313, 318),\n  (319, 321),\n  (322, 324),\n  (324, 327),\n  (327, 330),\n  (331, 333),\n  (334, 340),\n  (341, 346),\n  (347, 350),\n  (351, 353),\n  (354, 355),\n  (356, 357),\n  (358, 359),\n  (360, 361),\n  (361, 362),\n  (362, 363),\n  (364, 366),\n  (367, 372),\n  (373, 375),\n  (376, 379),\n  (380, 381),\n  (381, 382),\n  (382, 383),\n  (384, 385),\n  (385, 386),\n  (386, 387),\n  (388, 394),\n  (395, 397),\n  (398, 401),\n  (401, 403),\n  (404, 405),\n  (406, 409),\n  (410, 415),\n  (416, 417),\n  (417, 418),\n  (418, 419),\n  (420, 421),\n  (421, 422),\n  (422, 423),\n  (424, 425),\n  (425, 426),\n  (426, 427),\n  (428, 429),\n  (429, 430),\n  (430, 431),\n  (432, 436),\n  (437, 439),\n  (440, 442),\n  (443, 446),\n  (446, 447),\n  (0, 0)]]"
     },
     "execution_count": 37,
     "metadata": {},
     "output_type": "execute_result"
    }
   ],
   "source": [
    "offset = inputs['offset_mapping']\n",
    "offset"
   ],
   "metadata": {
    "collapsed": false,
    "ExecuteTime": {
     "end_time": "2024-02-19T05:02:03.363700010Z",
     "start_time": "2024-02-19T05:02:03.322278721Z"
    }
   },
   "id": "78a2833e00493e35",
   "execution_count": 37
  },
  {
   "cell_type": "code",
   "outputs": [],
   "source": [],
   "metadata": {
    "collapsed": false
   },
   "id": "fa449319cda95db0"
  }
 ],
 "metadata": {
  "kernelspec": {
   "display_name": "Python 3",
   "language": "python",
   "name": "python3"
  },
  "language_info": {
   "codemirror_mode": {
    "name": "ipython",
    "version": 2
   },
   "file_extension": ".py",
   "mimetype": "text/x-python",
   "name": "python",
   "nbconvert_exporter": "python",
   "pygments_lexer": "ipython2",
   "version": "2.7.6"
  }
 },
 "nbformat": 4,
 "nbformat_minor": 5
}
