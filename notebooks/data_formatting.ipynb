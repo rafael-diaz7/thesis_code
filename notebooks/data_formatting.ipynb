{
 "cells": [
  {
   "cell_type": "code",
   "execution_count": 1,
   "id": "initial_id",
   "metadata": {
    "collapsed": true,
    "ExecuteTime": {
     "end_time": "2023-09-20T14:07:02.508053Z",
     "start_time": "2023-09-20T14:06:51.454950Z"
    }
   },
   "outputs": [],
   "source": [
    "import pandas as pd\n",
    "import json\n",
    "import os"
   ]
  },
  {
   "cell_type": "code",
   "execution_count": 12,
   "outputs": [],
   "source": [
    "prefixes = ['relations', 'medication', 'risk', 'smoking', 'obesity']\n",
    "true_question = [1322789, 226128, 49897, 4518, 354503]\n",
    "true_notes = [425, 261, 119, 502, 1118]"
   ],
   "metadata": {
    "collapsed": false,
    "ExecuteTime": {
     "end_time": "2023-09-20T14:24:31.067613Z",
     "start_time": "2023-09-20T14:24:31.061294Z"
    }
   },
   "id": "80492c6cf4dbae"
  },
  {
   "cell_type": "code",
   "execution_count": 11,
   "outputs": [],
   "source": [
    "def load_json(prefix):\n",
    "    file_path = f\"../data/{prefix}/{prefix}-qa.json\"\n",
    "    with open(file_path, 'r') as file:\n",
    "        js = json.load(file)\n",
    "    return js"
   ],
   "metadata": {
    "collapsed": false,
    "ExecuteTime": {
     "end_time": "2023-09-20T14:23:39.524958Z",
     "start_time": "2023-09-20T14:23:39.513798Z"
    }
   },
   "id": "cc7c3ef14dc43bf0"
  },
  {
   "cell_type": "code",
   "execution_count": 3,
   "outputs": [],
   "source": [
    "def count_questions(prefix):\n",
    "    count = 0\n",
    "    js = load_json(prefix)\n",
    "    for p in js['paragraphs']:\n",
    "        for q in p['qas']:\n",
    "            count += len(q['question'])\n",
    "    return count"
   ],
   "metadata": {
    "collapsed": false,
    "ExecuteTime": {
     "end_time": "2023-09-20T14:14:27.947059Z",
     "start_time": "2023-09-20T14:14:27.934322Z"
    }
   },
   "id": "c46a46ff7e2b8c04"
  },
  {
   "cell_type": "code",
   "execution_count": 23,
   "outputs": [],
   "source": [
    "def count_notes(prefix):\n",
    "    count = 0\n",
    "    js = load_json(prefix)\n",
    "    count = len(js['paragraphs'])\n",
    "    return count"
   ],
   "metadata": {
    "collapsed": false,
    "ExecuteTime": {
     "end_time": "2023-09-20T14:29:13.248904Z",
     "start_time": "2023-09-20T14:29:13.235936Z"
    }
   },
   "id": "dd9f885184390d96"
  },
  {
   "cell_type": "code",
   "execution_count": 10,
   "outputs": [
    {
     "name": "stdout",
     "output_type": "stream",
     "text": [
      "dataset\tcalculated\ttrue\tdifference\tequal\n",
      "---------------------------------------------\n",
      "relations\t1326203\t1322789\t3414\tFalse\n",
      "medication\t227973\t226128\t1845\tFalse\n",
      "risk\t49897\t49897\t0\tTrue\n",
      "smoking\t4518\t4518\t0\tTrue\n",
      "obesity\t372205\t354503\t17702\tFalse\n"
     ]
    }
   ],
   "source": [
    "print(f\"dataset\\tcalculated\\ttrue\\tdifference\\tequal\")\n",
    "print(\"---------------------------------------------\")\n",
    "for prefix, true in zip(prefixes, true_question):\n",
    "    calculated_count = count_questions(prefix)\n",
    "    print(f\"{prefix}\\t{calculated_count}\\t{true}\\t{calculated_count-true}\\t{calculated_count==true}\")"
   ],
   "metadata": {
    "collapsed": false,
    "ExecuteTime": {
     "end_time": "2023-09-20T14:20:04.076579Z",
     "start_time": "2023-09-20T14:19:56.146977Z"
    }
   },
   "id": "92bb162d7905db47"
  },
  {
   "cell_type": "code",
   "execution_count": 24,
   "outputs": [
    {
     "name": "stdout",
     "output_type": "stream",
     "text": [
      "dataset\tcalculated\ttrue\tdifference\tequal\n",
      "---------------------------------------------\n",
      "relations\t426\t425\t1\tFalse\n",
      "medication\t262\t261\t1\tFalse\n",
      "risk\t119\t119\t0\tTrue\n",
      "smoking\t502\t502\t0\tTrue\n",
      "obesity\t1118\t1118\t0\tTrue\n"
     ]
    }
   ],
   "source": [
    "print(f\"dataset\\tcalculated\\ttrue\\tdifference\\tequal\")\n",
    "print(\"---------------------------------------------\")\n",
    "for prefix, true in zip(prefixes, true_notes):\n",
    "    calculated_count = count_notes(prefix)\n",
    "    print(f\"{prefix}\\t{calculated_count}\\t{true}\\t{calculated_count-true}\\t{calculated_count==true}\")"
   ],
   "metadata": {
    "collapsed": false,
    "ExecuteTime": {
     "end_time": "2023-09-20T14:29:23.974325Z",
     "start_time": "2023-09-20T14:29:15.817392Z"
    }
   },
   "id": "1eb31f1b3f88aecd"
  },
  {
   "cell_type": "code",
   "execution_count": 18,
   "outputs": [],
   "source": [
    "with open(\"../data/smoking/smoking-qa.json\", 'r') as f:\n",
    "    test = json.load(f)"
   ],
   "metadata": {
    "collapsed": false,
    "ExecuteTime": {
     "end_time": "2023-09-20T14:27:14.766018Z",
     "start_time": "2023-09-20T14:27:14.733485Z"
    }
   },
   "id": "196de4b7b2d0442d"
  },
  {
   "cell_type": "code",
   "execution_count": 22,
   "outputs": [
    {
     "data": {
      "text/plain": "{'note_id': '660',\n 'qas': [{'question': ['Has the patient quit smoking',\n    'Has this patient ever tried to quit smoking'],\n   'id': [[['Has the patient quit smoking', 'Has the patient quit smoking'],\n     ['Has this patient ever tried to quit smoking',\n      'Has this patient ever tried to quit smoking']],\n    'SmokingQuitEvent (x)'],\n   'answers': [{'text': 'PAST SMOKER',\n     'answer_start': '',\n     'evidence_start': '',\n     'evidence': ''}]},\n  {'question': ['Does the patient have a history of smoking',\n    'Does this patient have a history of smoking',\n    'Is there mention of smoking history anywhere in the record',\n    'smoking habit'],\n   'id': [[['Does the patient have a history of smoking',\n      'Does the patient have a history of smoking'],\n     ['Does this patient have a history of smoking',\n      'Does this patient have a history of smoking'],\n     ['Is there mention of smoking history anywhere in the record',\n      'Is there mention of smoking history anywhere in the record'],\n     ['smoking habit', 'smoking habit']],\n    'SmokingUseEvent (x)'],\n   'answers': [{'text': 'PAST SMOKER',\n     'answer_start': '',\n     'evidence_start': '',\n     'evidence': ''}]},\n  {'question': ['Does the patient currently smoke',\n    'Does the patient smoke',\n    'is the patient currently a smoker'],\n   'id': [[['Does the patient currently smoke',\n      'Does the patient currently smoke'],\n     ['Does the patient smoke', 'Does the patient smoke'],\n     ['is the patient currently a smoker',\n      'is the patient currently a smoker']],\n    'SmokingUseEvent (x) [IsTobaccoUser=x]'],\n   'answers': [{'text': 'PAST SMOKER',\n     'answer_start': '',\n     'evidence_start': '',\n     'evidence': ''}]}],\n 'context': \"156406283\\nHLGMC\\n7213645\\n64723/51cy\\n5/28/1993 12:00:00 AM\\nDischarge Summary\\nUnsigned\\nDIS\\nReport Status :\\nUnsigned\\nADMISSION DATE :\\n5-28-93\\nDISCHARGE DATE :\\n6-4-93\\nHISTORY OF PRESENT ILLNESS :\\nThe patient is a 58 year old right hand dominant white male with a long history of hypertension , changed his medications from Aldomet to Clonidine six weeks ago .\\nThe patient has a history of adult onset diabetes mellitus , ankylosing spondylitis , status post myocardial infarction in '96 ( ? ) now with acute onset of left face and arm greater than leg hemiplegia and primary hemisensory loss on the left .\\nBriefly , he was talking to a friend at 5:30 p.m. the day prior to admission , when he had to grab his locker and sit down .\\nHis voice became slurred and he had a mild central dull headache .\\nHe was unable to move the left side of his body and felt numb on that side .\\nHe was taken to Wayskemedcalltown Talmi and transferred to Heaonboburg Linpack Grant Medical Center with a computerized tomography scan showing a 1x2 thalamic capsular hemorrhage without superficial mass effect .\\nHis blood pressure was 220/110 there .\\nHe denies any visual symptoms or cortical-type symptoms .\\nHe is a heavy smoker and drinks 2-3 shots per day at times .\\nMEDICATIONS ON ADMISSION :\\nVasotec 40 mg q.day , Soma 1 tablet q.day , Demerolprn , Clonidine .\\nALLERGIES :\\nThe patient has no known drug allergies .\\nPAST MEDICAL HISTORY :\\nAs described above .\\nFAMILY HISTORY :\\nThe family history is positive for diabetes mellitus , positive for cancer .\\nSOCIAL HISTORY :\\nThe patient lives with two people in Cinglendda .\\nPHYSICAL EXAMINATION :\\nOn physical examination , patient is in no acute distress , afebrile , blood pressure 134/80 , heart rate 80 and regular , no bruits .\\nCardiovascular exam :\\nregular rate and rhythm with a I/VI systolic ejection murmur .\\nHis lungs were clear to auscultation and percussion .\\nThe abdomen was soft and non-tender , obese , with normal bowel sounds .\\nBack and neck were stiff and sore , without localizing tenderness .\\nOn neurological examination , mental status alert and oriented x three , good memory , fluent speech , good repetition and naming .\\nAble to describe two routes from house to the CMH .\\nThe cranial nerves showed full visual fields without extinction , pupils 5 to 3 bilaterally and equal , disks flat , lower left facial decreased sensation to temperature , pin prick on the left V1 through V3 , tongue deviates to the left , good gag , decreased shrug on the left .\\nMotor examination showed full power on the right arm and leg , could barely flex fingers of the left hand , pulls left arm medially only .\\nLeft leg could flex 2/5 and wiggle toes .\\nOn sensory examination , had decreased pin prick , temperature , vibration in the left side of the body .\\nThe finger-to-nose was okay on the right .\\nOn reflex examination , 2 on the right upper extremity , 2+ on the left upper extremity , 2 on the right knee , 0 on the right ankle , with down going toe on the right .\\nThree on the left knee , 4 on the left ankle with upgoing toe and clonus on the left .\\nLABORATORY DATA :\\nElectrolytes were within normal limits , glucose 192 , BUN and creatinine 9/0.7 , hematocrit 49.5 , white blood count 7.9 , platelet count 166,000 , 65% polys , 3 bands , 24% lymphs .\\nThe electrocardiogram showed normal sinus rhythm with old Q wave inferior myocardial infarction .\\nHead computerized tomography scan showed 1.5 to 2 centimeter bleed in the right thalamus extending to the internal capsule with mild distortion only , no shift .\\nThe chest X-ray was clear .\\nHOSPITAL COURSE :\\nThe patient was admitted to the floor for observation .\\nThe neurological examination on discharge was no movement in the hand on the left or arm .\\nSlight abductive and adductive movement on the left only in the upper extremity .\\nOn the lower extremity , could wiggle toes , flexor and plantar , 3+/5 , quadriceps 4/5 on the left .\\n2. hypertension .\\nThe patient was managed with Vasotec , Nifedipine and Clonidine with blood pressure under good control at the time of discharge , average 125 systolic , 70 diastolic , heart rate of 72 .\\nAlso managed with Valium 5 mg PO t.i.d.\\nMuscle spasms were managed with Flexeril 10 PO t.i.d.\\n3. diabetes mellitus .\\nThe patient was started on 2.5 of Micronase with resulting sugars as low as 63 , decreased to 1.25 mg q.day .\\nThe patient is discharged in fair condition with medical approval to the Pasi .\\nMEDICATIONS ON DISCHARGE :\\nVasotec 20 mg PO b.i.d. , Clonidine 0.2 mg PO b.i.d. , Nifedipine 20 mg PO t.i.d. , Flexeril 10 mg PO t.i.d. , Valium 5 mg PO t.i.d. , Micronase 1.25 mg q.day .\\nADVERSE DRUG REACTIONS :\\nThe patient was found to be allergic to Percocet and Percodan during his hospital course .\\nDISCHARGE DIAGNOSIS :\\nRight thalamic hemorrhage , hypertension , diabetes mellitus .\\nROBTHER TIMES , M.D.\\nDICTATING FOR :\\nSHAA LEFT , M.D.\\nTR :\\nnj / bmot\\nDD :\\n6-4-93\\nTD :\\n06/04/93\\nCC :\\nDr. Namarce Aldridge Pasi STAT\\n[ report_end ]\"}"
     },
     "execution_count": 22,
     "metadata": {},
     "output_type": "execute_result"
    }
   ],
   "source": [
    "test['paragraphs'][0]"
   ],
   "metadata": {
    "collapsed": false,
    "ExecuteTime": {
     "end_time": "2023-09-20T14:27:43.906307Z",
     "start_time": "2023-09-20T14:27:43.804061Z"
    }
   },
   "id": "e6ecd17bec2f168a"
  },
  {
   "cell_type": "code",
   "execution_count": null,
   "outputs": [],
   "source": [],
   "metadata": {
    "collapsed": false
   },
   "id": "85ffe25c2bc265f6"
  }
 ],
 "metadata": {
  "kernelspec": {
   "display_name": "Python 3",
   "language": "python",
   "name": "python3"
  },
  "language_info": {
   "codemirror_mode": {
    "name": "ipython",
    "version": 2
   },
   "file_extension": ".py",
   "mimetype": "text/x-python",
   "name": "python",
   "nbconvert_exporter": "python",
   "pygments_lexer": "ipython2",
   "version": "2.7.6"
  }
 },
 "nbformat": 4,
 "nbformat_minor": 5
}
