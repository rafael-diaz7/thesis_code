{
 "cells": [
  {
   "cell_type": "code",
   "execution_count": null,
   "id": "initial_id",
   "metadata": {
    "collapsed": true
   },
   "outputs": [],
   "source": [
    "import pandas as pd\n",
    "import matplotlib.pyplot as plt\n",
    "import seaborn as sns\n",
    "from transformers import AutoTokenizer\n",
    "import warnings"
   ]
  },
  {
   "cell_type": "code",
   "execution_count": null,
   "outputs": [],
   "source": [
    "tokenizer = AutoTokenizer.from_pretrained(\"bert-base-uncased\")\n",
    "df = pd.read_csv(\"../data/emrqa_all_data.csv\")\n",
    "df = df.dropna() # need to drop na values even though i dropped before saving, interesting"
   ],
   "metadata": {
    "collapsed": false
   },
   "id": "62e73f811f94e113"
  },
  {
   "cell_type": "code",
   "execution_count": null,
   "outputs": [],
   "source": [
    "def add_tokenized_column(column):\n",
    "    map_dict = {}\n",
    "    for i in df[column].unique():\n",
    "        map_dict[i] = tokenizer.tokenize(i)\n",
    "    df[column+\"_tokenized\"] = df[column].map(map_dict)\n",
    "    df[column+\"_tokenized_len\"] = df[column+\"_tokenized\"].map(len)"
   ],
   "metadata": {
    "collapsed": false
   },
   "id": "9f3a55e3475538b9"
  },
  {
   "cell_type": "code",
   "execution_count": null,
   "outputs": [],
   "source": [
    "columns_to_tokenize = [\"question\", \"context\", \"evidence\"]\n",
    "for column in columns_to_tokenize:\n",
    "    add_tokenized_column(column)\n",
    "df.columns"
   ],
   "metadata": {
    "collapsed": false
   },
   "id": "b8d84a1007c03975"
  },
  {
   "cell_type": "code",
   "execution_count": null,
   "outputs": [],
   "source": [
    "df_stats = pd.concat([df[column+\"_tokenized_len\"].describe() for column in columns_to_tokenize], axis=1)\n",
    "df_stats"
   ],
   "metadata": {
    "collapsed": false
   },
   "id": "b2bc3baa46c12735"
  },
  {
   "cell_type": "code",
   "execution_count": null,
   "outputs": [],
   "source": [
    "warnings.filterwarnings(\"ignore\")\n",
    "sns.set_theme(style=\"whitegrid\")\n",
    "fig, axs = plt.subplots(1, 3, figsize=(15, 5))\n",
    "for i, column in enumerate(columns_to_tokenize):\n",
    "    sns.distplot(df[column+\"_tokenized_len\"], ax=axs[i])\n",
    "    axs[i].set_title(column)\n",
    "plt.show()\n",
    "warnings.filterwarnings(\"default\")"
   ],
   "metadata": {
    "collapsed": false
   },
   "id": "b796fe9d32dc582f"
  }
 ],
 "metadata": {
  "kernelspec": {
   "display_name": "Python 3",
   "language": "python",
   "name": "python3"
  },
  "language_info": {
   "codemirror_mode": {
    "name": "ipython",
    "version": 2
   },
   "file_extension": ".py",
   "mimetype": "text/x-python",
   "name": "python",
   "nbconvert_exporter": "python",
   "pygments_lexer": "ipython2",
   "version": "2.7.6"
  }
 },
 "nbformat": 4,
 "nbformat_minor": 5
}
