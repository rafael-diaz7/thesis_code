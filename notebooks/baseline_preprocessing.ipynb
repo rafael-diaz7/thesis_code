{
 "cells": [
  {
   "cell_type": "code",
   "execution_count": 1,
   "id": "initial_id",
   "metadata": {
    "collapsed": true,
    "ExecuteTime": {
     "end_time": "2023-10-25T18:45:37.876566031Z",
     "start_time": "2023-10-25T18:45:37.645779344Z"
    }
   },
   "outputs": [],
   "source": [
    "from transformers import AutoTokenizer\n",
    "import pandas as pd"
   ]
  },
  {
   "cell_type": "code",
   "execution_count": 3,
   "outputs": [
    {
     "data": {
      "text/plain": "                                            question  \\\n0  What is the patient's current dose does the pa...   \n1          What is the current dose of valproic acid   \n2  How much valproic acid does the patient take p...   \n3          What is her current dose of valproic acid   \n4  What is the current dose of the patient's valp...   \n\n                                             context  answer  answer_start  \\\n0  RECORD #91996\\n150823816 | DMC | 60956989 | | ...  250 mg             7   \n1  RECORD #91996\\n150823816 | DMC | 60956989 | | ...  250 mg             7   \n2  RECORD #91996\\n150823816 | DMC | 60956989 | | ...  250 mg             7   \n3  RECORD #91996\\n150823816 | DMC | 60956989 | | ...  250 mg             7   \n4  RECORD #91996\\n150823816 | DMC | 60956989 | | ...  250 mg             7   \n\n                                            evidence  \n0  throughout this pregnancy. She has been taking...  \n1  throughout this pregnancy. She has been taking...  \n2  throughout this pregnancy. She has been taking...  \n3  throughout this pregnancy. She has been taking...  \n4  throughout this pregnancy. She has been taking...  ",
      "text/html": "<div>\n<style scoped>\n    .dataframe tbody tr th:only-of-type {\n        vertical-align: middle;\n    }\n\n    .dataframe tbody tr th {\n        vertical-align: top;\n    }\n\n    .dataframe thead th {\n        text-align: right;\n    }\n</style>\n<table border=\"1\" class=\"dataframe\">\n  <thead>\n    <tr style=\"text-align: right;\">\n      <th></th>\n      <th>question</th>\n      <th>context</th>\n      <th>answer</th>\n      <th>answer_start</th>\n      <th>evidence</th>\n    </tr>\n  </thead>\n  <tbody>\n    <tr>\n      <th>0</th>\n      <td>What is the patient's current dose does the pa...</td>\n      <td>RECORD #91996\\n150823816 | DMC | 60956989 | | ...</td>\n      <td>250 mg</td>\n      <td>7</td>\n      <td>throughout this pregnancy. She has been taking...</td>\n    </tr>\n    <tr>\n      <th>1</th>\n      <td>What is the current dose of valproic acid</td>\n      <td>RECORD #91996\\n150823816 | DMC | 60956989 | | ...</td>\n      <td>250 mg</td>\n      <td>7</td>\n      <td>throughout this pregnancy. She has been taking...</td>\n    </tr>\n    <tr>\n      <th>2</th>\n      <td>How much valproic acid does the patient take p...</td>\n      <td>RECORD #91996\\n150823816 | DMC | 60956989 | | ...</td>\n      <td>250 mg</td>\n      <td>7</td>\n      <td>throughout this pregnancy. She has been taking...</td>\n    </tr>\n    <tr>\n      <th>3</th>\n      <td>What is her current dose of valproic acid</td>\n      <td>RECORD #91996\\n150823816 | DMC | 60956989 | | ...</td>\n      <td>250 mg</td>\n      <td>7</td>\n      <td>throughout this pregnancy. She has been taking...</td>\n    </tr>\n    <tr>\n      <th>4</th>\n      <td>What is the current dose of the patient's valp...</td>\n      <td>RECORD #91996\\n150823816 | DMC | 60956989 | | ...</td>\n      <td>250 mg</td>\n      <td>7</td>\n      <td>throughout this pregnancy. She has been taking...</td>\n    </tr>\n  </tbody>\n</table>\n</div>"
     },
     "execution_count": 3,
     "metadata": {},
     "output_type": "execute_result"
    }
   ],
   "source": [
    "tokenizer = AutoTokenizer.from_pretrained(\"bert-base-uncased\")\n",
    "df = pd.read_csv('../data/emrqa_all_data.csv')\n",
    "df.head()"
   ],
   "metadata": {
    "collapsed": false,
    "ExecuteTime": {
     "end_time": "2023-10-25T18:46:31.162481283Z",
     "start_time": "2023-10-25T18:46:16.535542285Z"
    }
   },
   "id": "cfdd4bac0a85993f"
  },
  {
   "cell_type": "code",
   "execution_count": 37,
   "outputs": [
    {
     "data": {
      "text/plain": "                                            question  \\\n0  What is the patient's current dose does the pa...   \n1  What treatments for leak from relaford pouch h...   \n2                        Does he have hyperlipidemia   \n3  Has the patient ever screened postive on incom...   \n4         when was the patient's last hyperlipidemia   \n\n                                             context                answer  \\\n0  RECORD #852130\\n844726908 | IHC | 54526162 | |...                900 mg   \n1  Admission Date :\\n2014-02-21\\nDischarge Date :...                repair   \n2  Record date: 2065-04-28                     ME...  Hypercholesterolemia   \n3  648746074\\nCTMC\\n84164942\\n960919\\n9/7/1992 12...                   ekg   \n4  Record date: 2079-01-14PICH 989 James Street, ...            2081-10-07   \n\n   answer_start                                           evidence  \n0             2         10. Gemfibrozil 900 mg p.o. twice daily.\\n  \n1             8  She recieved further resection of remaining co...  \n2          5168  PAST MEDICAL HISTORY:  Hypercholesterolemia, g...  \n3             0  EKG showed sinus tachycardia and incomplete ri...  \n4         21104  Record date: 2081-10-07\\n\\n Ms. Greenwood is a...  ",
      "text/html": "<div>\n<style scoped>\n    .dataframe tbody tr th:only-of-type {\n        vertical-align: middle;\n    }\n\n    .dataframe tbody tr th {\n        vertical-align: top;\n    }\n\n    .dataframe thead th {\n        text-align: right;\n    }\n</style>\n<table border=\"1\" class=\"dataframe\">\n  <thead>\n    <tr style=\"text-align: right;\">\n      <th></th>\n      <th>question</th>\n      <th>context</th>\n      <th>answer</th>\n      <th>answer_start</th>\n      <th>evidence</th>\n    </tr>\n  </thead>\n  <tbody>\n    <tr>\n      <th>0</th>\n      <td>What is the patient's current dose does the pa...</td>\n      <td>RECORD #852130\\n844726908 | IHC | 54526162 | |...</td>\n      <td>900 mg</td>\n      <td>2</td>\n      <td>10. Gemfibrozil 900 mg p.o. twice daily.\\n</td>\n    </tr>\n    <tr>\n      <th>1</th>\n      <td>What treatments for leak from relaford pouch h...</td>\n      <td>Admission Date :\\n2014-02-21\\nDischarge Date :...</td>\n      <td>repair</td>\n      <td>8</td>\n      <td>She recieved further resection of remaining co...</td>\n    </tr>\n    <tr>\n      <th>2</th>\n      <td>Does he have hyperlipidemia</td>\n      <td>Record date: 2065-04-28                     ME...</td>\n      <td>Hypercholesterolemia</td>\n      <td>5168</td>\n      <td>PAST MEDICAL HISTORY:  Hypercholesterolemia, g...</td>\n    </tr>\n    <tr>\n      <th>3</th>\n      <td>Has the patient ever screened postive on incom...</td>\n      <td>648746074\\nCTMC\\n84164942\\n960919\\n9/7/1992 12...</td>\n      <td>ekg</td>\n      <td>0</td>\n      <td>EKG showed sinus tachycardia and incomplete ri...</td>\n    </tr>\n    <tr>\n      <th>4</th>\n      <td>when was the patient's last hyperlipidemia</td>\n      <td>Record date: 2079-01-14PICH 989 James Street, ...</td>\n      <td>2081-10-07</td>\n      <td>21104</td>\n      <td>Record date: 2081-10-07\\n\\n Ms. Greenwood is a...</td>\n    </tr>\n  </tbody>\n</table>\n</div>"
     },
     "execution_count": 37,
     "metadata": {},
     "output_type": "execute_result"
    }
   ],
   "source": [
    "test = df.sample(5).reset_index(drop=True)\n",
    "test"
   ],
   "metadata": {
    "collapsed": false,
    "ExecuteTime": {
     "end_time": "2023-10-25T19:16:51.409916251Z",
     "start_time": "2023-10-25T19:16:51.375899499Z"
    }
   },
   "id": "b9ac1df15cb9fcfe"
  },
  {
   "cell_type": "code",
   "execution_count": 38,
   "outputs": [
    {
     "data": {
      "text/plain": "question        What is the patient's current dose does the pa...\ncontext         RECORD #852130\\n844726908 | IHC | 54526162 | |...\nanswer                                                     900 mg\nanswer_start                                                    2\nevidence               10. Gemfibrozil 900 mg p.o. twice daily.\\n\nName: 0, dtype: object"
     },
     "execution_count": 38,
     "metadata": {},
     "output_type": "execute_result"
    }
   ],
   "source": [
    "row = test.iloc[0]\n",
    "row"
   ],
   "metadata": {
    "collapsed": false,
    "ExecuteTime": {
     "end_time": "2023-10-25T19:16:53.950869871Z",
     "start_time": "2023-10-25T19:16:53.944608313Z"
    }
   },
   "id": "56d819e50a597c95"
  },
  {
   "cell_type": "code",
   "execution_count": 39,
   "outputs": [
    {
     "name": "stdout",
     "output_type": "stream",
     "text": [
      "The 5 examples gave 5 features.\n",
      "Here is where each comes from: [0, 1, 2, 3, 4].\n"
     ]
    }
   ],
   "source": [
    "inputs = tokenizer(test['question'].tolist(), test['evidence'].tolist(), truncation='only_second',\n",
    "                   stride=50, return_overflowing_tokens=True, return_offsets_mapping=True)\n",
    "print(f\"The 5 examples gave {len(inputs['input_ids'])} features.\")\n",
    "print(f\"Here is where each comes from: {inputs['overflow_to_sample_mapping']}.\")"
   ],
   "metadata": {
    "collapsed": false,
    "ExecuteTime": {
     "end_time": "2023-10-25T19:16:55.948834924Z",
     "start_time": "2023-10-25T19:16:55.942988339Z"
    }
   },
   "id": "e8c5088e3b0b4ebc"
  },
  {
   "cell_type": "code",
   "execution_count": 40,
   "outputs": [
    {
     "data": {
      "text/plain": "0                  900 mg\n1                  repair\n2    Hypercholesterolemia\n3                     ekg\n4              2081-10-07\nName: answer, dtype: object"
     },
     "execution_count": 40,
     "metadata": {},
     "output_type": "execute_result"
    }
   ],
   "source": [
    "test['answer']"
   ],
   "metadata": {
    "collapsed": false,
    "ExecuteTime": {
     "end_time": "2023-10-25T19:16:59.427756488Z",
     "start_time": "2023-10-25T19:16:59.422112601Z"
    }
   },
   "id": "1b61977e9f03622"
  },
  {
   "cell_type": "code",
   "execution_count": 44,
   "outputs": [
    {
     "data": {
      "text/plain": "([22, 17, 0, 15, 0], [24, 19, 0, 16, 0])"
     },
     "execution_count": 44,
     "metadata": {},
     "output_type": "execute_result"
    }
   ],
   "source": [
    "start_positions = []\n",
    "end_positions = []\n",
    "\n",
    "for i, offset in enumerate(inputs[\"offset_mapping\"]):\n",
    "    sample_idx = inputs[\"overflow_to_sample_mapping\"][i]\n",
    "    answer = test['answer'][sample_idx]\n",
    "    start_char = test[\"answer_start\"][sample_idx]\n",
    "    end_char = test[\"answer_start\"][sample_idx] + len(answer)\n",
    "    sequence_ids = inputs.sequence_ids(i)\n",
    "\n",
    "    # Find the start and end of the context\n",
    "    idx = 0\n",
    "    while sequence_ids[idx] != 1:\n",
    "        idx += 1\n",
    "    context_start = idx\n",
    "    while sequence_ids[idx] == 1:\n",
    "        idx += 1\n",
    "    context_end = idx - 1\n",
    "\n",
    "    # If the answer is not fully inside the context, label is (0, 0)\n",
    "    if offset[context_start][0] > start_char or offset[context_end][1] < end_char:\n",
    "        start_positions.append(0)\n",
    "        end_positions.append(0)\n",
    "    else:\n",
    "        # Otherwise it's the start and end token positions\n",
    "        idx = context_start\n",
    "        while idx <= context_end and offset[idx][0] <= start_char:\n",
    "            idx += 1\n",
    "        start_positions.append(idx - 1)\n",
    "\n",
    "        idx = context_end\n",
    "        while idx >= context_start and offset[idx][1] >= end_char:\n",
    "            idx -= 1\n",
    "        end_positions.append(idx + 1)\n",
    "\n",
    "start_positions, end_positions"
   ],
   "metadata": {
    "collapsed": false,
    "ExecuteTime": {
     "end_time": "2023-10-25T19:19:00.346507462Z",
     "start_time": "2023-10-25T19:19:00.299217736Z"
    }
   },
   "id": "75ae68775fa13a70"
  },
  {
   "cell_type": "code",
   "execution_count": 45,
   "outputs": [
    {
     "name": "stdout",
     "output_type": "stream",
     "text": [
      "Theoretical answer: 900 mg, labels give: . gemfi\n"
     ]
    }
   ],
   "source": [
    "idx = 0\n",
    "sample_idx = inputs[\"overflow_to_sample_mapping\"][idx]\n",
    "answer = test['answer'][idx]\n",
    "\n",
    "start = start_positions[idx]\n",
    "end = end_positions[idx]\n",
    "labeled_answer = tokenizer.decode(inputs[\"input_ids\"][idx][start : end + 1])\n",
    "\n",
    "print(f\"Theoretical answer: {answer}, labels give: {labeled_answer}\")"
   ],
   "metadata": {
    "collapsed": false,
    "ExecuteTime": {
     "end_time": "2023-10-25T19:19:02.050124552Z",
     "start_time": "2023-10-25T19:19:02.044505897Z"
    }
   },
   "id": "a3260d0895a8e246"
  },
  {
   "cell_type": "code",
   "execution_count": null,
   "outputs": [],
   "source": [],
   "metadata": {
    "collapsed": false
   },
   "id": "5917cfe2de5aa27a"
  }
 ],
 "metadata": {
  "kernelspec": {
   "display_name": "Python 3",
   "language": "python",
   "name": "python3"
  },
  "language_info": {
   "codemirror_mode": {
    "name": "ipython",
    "version": 2
   },
   "file_extension": ".py",
   "mimetype": "text/x-python",
   "name": "python",
   "nbconvert_exporter": "python",
   "pygments_lexer": "ipython2",
   "version": "2.7.6"
  }
 },
 "nbformat": 4,
 "nbformat_minor": 5
}
