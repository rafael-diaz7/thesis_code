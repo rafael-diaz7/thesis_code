{
 "cells": [
  {
   "cell_type": "code",
   "execution_count": 1,
   "id": "initial_id",
   "metadata": {
    "collapsed": true,
    "ExecuteTime": {
     "end_time": "2024-02-19T01:50:28.788667623Z",
     "start_time": "2024-02-19T01:50:28.592388478Z"
    }
   },
   "outputs": [],
   "source": [
    "from transformers import AutoTokenizer\n",
    "import pandas as pd"
   ]
  },
  {
   "cell_type": "code",
   "execution_count": 2,
   "outputs": [
    {
     "data": {
      "text/plain": "tokenizer_config.json:   0%|          | 0.00/28.0 [00:00<?, ?B/s]",
      "application/vnd.jupyter.widget-view+json": {
       "version_major": 2,
       "version_minor": 0,
       "model_id": "395811606eac4a049fc9204648df6b8a"
      }
     },
     "metadata": {},
     "output_type": "display_data"
    },
    {
     "data": {
      "text/plain": "config.json:   0%|          | 0.00/570 [00:00<?, ?B/s]",
      "application/vnd.jupyter.widget-view+json": {
       "version_major": 2,
       "version_minor": 0,
       "model_id": "ec8539123f07404bb2b74209f20c272a"
      }
     },
     "metadata": {},
     "output_type": "display_data"
    },
    {
     "data": {
      "text/plain": "vocab.txt:   0%|          | 0.00/232k [00:00<?, ?B/s]",
      "application/vnd.jupyter.widget-view+json": {
       "version_major": 2,
       "version_minor": 0,
       "model_id": "0d61656b87bb409e82e63d75d58b769f"
      }
     },
     "metadata": {},
     "output_type": "display_data"
    },
    {
     "data": {
      "text/plain": "tokenizer.json:   0%|          | 0.00/466k [00:00<?, ?B/s]",
      "application/vnd.jupyter.widget-view+json": {
       "version_major": 2,
       "version_minor": 0,
       "model_id": "998e998d4dbc4f19a63ba27c2106fa95"
      }
     },
     "metadata": {},
     "output_type": "display_data"
    },
    {
     "data": {
      "text/plain": "                                            question  \\\n0  Has the patient ever been positive for marked ...   \n1  What is basis of diagnosis for sinus tachycard...   \n2  What was the indication for the most recent fi...   \n3   How much toprol-xl does the patient take per day   \n4   Why did the patient need stent left renal artery   \n\n                                             context  \\\n0  456424011\\nPUOMC\\n4107358\\n541797\\n858595\\n4/7...   \n1  Admission Date :\\n2012-03-01\\nDischarge Date :...   \n2  Admission Date :\\n2012-03-23\\nDischarge Date :...   \n3  RECORD #64589\\n220253841 | HH | 55640268 | | 7...   \n4  Admission Date :\\n2010-05-17\\nDischarge Date :...   \n\n                            answer  answer_start  \\\n0            the electrocardiogram             0   \n1                              ekg             0   \n2                  his elevated fs            12   \n3                           200 mg             6   \n4  bilateral renal artery stenosis             1   \n\n                                            evidence evidence_start  \n0  The electrocardiogram revealed poor R wave pro...             49  \n1  EKG showed sinus tachycardia , borderline left...             68  \n2  6) Hyperglycemia : Although he has no known hi...            124  \n3  50 mg p.o. daily , Toprol-XL 200 mg p.o. b.i.d...             42  \n4  3. Bilateral renal artery stenosis status post...             91  ",
      "text/html": "<div>\n<style scoped>\n    .dataframe tbody tr th:only-of-type {\n        vertical-align: middle;\n    }\n\n    .dataframe tbody tr th {\n        vertical-align: top;\n    }\n\n    .dataframe thead th {\n        text-align: right;\n    }\n</style>\n<table border=\"1\" class=\"dataframe\">\n  <thead>\n    <tr style=\"text-align: right;\">\n      <th></th>\n      <th>question</th>\n      <th>context</th>\n      <th>answer</th>\n      <th>answer_start</th>\n      <th>evidence</th>\n      <th>evidence_start</th>\n    </tr>\n  </thead>\n  <tbody>\n    <tr>\n      <th>0</th>\n      <td>Has the patient ever been positive for marked ...</td>\n      <td>456424011\\nPUOMC\\n4107358\\n541797\\n858595\\n4/7...</td>\n      <td>the electrocardiogram</td>\n      <td>0</td>\n      <td>The electrocardiogram revealed poor R wave pro...</td>\n      <td>49</td>\n    </tr>\n    <tr>\n      <th>1</th>\n      <td>What is basis of diagnosis for sinus tachycard...</td>\n      <td>Admission Date :\\n2012-03-01\\nDischarge Date :...</td>\n      <td>ekg</td>\n      <td>0</td>\n      <td>EKG showed sinus tachycardia , borderline left...</td>\n      <td>68</td>\n    </tr>\n    <tr>\n      <th>2</th>\n      <td>What was the indication for the most recent fi...</td>\n      <td>Admission Date :\\n2012-03-23\\nDischarge Date :...</td>\n      <td>his elevated fs</td>\n      <td>12</td>\n      <td>6) Hyperglycemia : Although he has no known hi...</td>\n      <td>124</td>\n    </tr>\n    <tr>\n      <th>3</th>\n      <td>How much toprol-xl does the patient take per day</td>\n      <td>RECORD #64589\\n220253841 | HH | 55640268 | | 7...</td>\n      <td>200 mg</td>\n      <td>6</td>\n      <td>50 mg p.o. daily , Toprol-XL 200 mg p.o. b.i.d...</td>\n      <td>42</td>\n    </tr>\n    <tr>\n      <th>4</th>\n      <td>Why did the patient need stent left renal artery</td>\n      <td>Admission Date :\\n2010-05-17\\nDischarge Date :...</td>\n      <td>bilateral renal artery stenosis</td>\n      <td>1</td>\n      <td>3. Bilateral renal artery stenosis status post...</td>\n      <td>91</td>\n    </tr>\n  </tbody>\n</table>\n</div>"
     },
     "execution_count": 2,
     "metadata": {},
     "output_type": "execute_result"
    }
   ],
   "source": [
    "tokenizer = AutoTokenizer.from_pretrained(\"bert-base-uncased\")\n",
    "df = pd.read_csv('../data/emrqa_val.csv')\n",
    "df.head()"
   ],
   "metadata": {
    "collapsed": false,
    "ExecuteTime": {
     "end_time": "2024-02-19T01:50:29.404333543Z",
     "start_time": "2024-02-19T01:50:28.788237712Z"
    }
   },
   "id": "cfdd4bac0a85993f"
  },
  {
   "cell_type": "code",
   "execution_count": 3,
   "outputs": [
    {
     "data": {
      "text/plain": "                                            question  \\\n0  What lab results does he have that are pertine...   \n1        Why did the patient have further icd shocks   \n2                       How was cardiac dz diagnosed   \n3  How often does the patient take warfarin sodiu...   \n4         How often does the patient take lisinopril   \n\n                                             context             answer  \\\n0  Admission Date :\\n2014-12-03\\nDischarge Date :...  electrocardiogram   \n1  006544894 \\nNVH \\n65104826 \\n1/2/2004 12:00:00...                 vt   \n2  Admission Date :\\n2019-06-25\\nDischarge Date :...           preop w/   \n3  RECORD #993550\\n\\n\\n859846912 | SH | 27937230 ...                 qd   \n4  RECORD #549067\\n\\n\\n384866461 | WVHO | 2409298...             b.i.d.   \n\n   answer_start                                           evidence  \\\n0             0  Electrocardiogram revealed left atrial hypertr...   \n1             8  Went to OSH c further ICD shocks , VT on monit...   \n2             0  preop w/ for knee surgery revealed cardiac dz ...   \n3             9      15. Warfarin Sodium ( Coumadin ) PO 2 MG QD\\n   \n4             8  Avandia 4 mg b.i.d. , lisinopril 20 mg b.i.d. ...   \n\n  evidence_start  \n0             65  \n1            104  \n2             15  \n3            153  \n4             19  ",
      "text/html": "<div>\n<style scoped>\n    .dataframe tbody tr th:only-of-type {\n        vertical-align: middle;\n    }\n\n    .dataframe tbody tr th {\n        vertical-align: top;\n    }\n\n    .dataframe thead th {\n        text-align: right;\n    }\n</style>\n<table border=\"1\" class=\"dataframe\">\n  <thead>\n    <tr style=\"text-align: right;\">\n      <th></th>\n      <th>question</th>\n      <th>context</th>\n      <th>answer</th>\n      <th>answer_start</th>\n      <th>evidence</th>\n      <th>evidence_start</th>\n    </tr>\n  </thead>\n  <tbody>\n    <tr>\n      <th>0</th>\n      <td>What lab results does he have that are pertine...</td>\n      <td>Admission Date :\\n2014-12-03\\nDischarge Date :...</td>\n      <td>electrocardiogram</td>\n      <td>0</td>\n      <td>Electrocardiogram revealed left atrial hypertr...</td>\n      <td>65</td>\n    </tr>\n    <tr>\n      <th>1</th>\n      <td>Why did the patient have further icd shocks</td>\n      <td>006544894 \\nNVH \\n65104826 \\n1/2/2004 12:00:00...</td>\n      <td>vt</td>\n      <td>8</td>\n      <td>Went to OSH c further ICD shocks , VT on monit...</td>\n      <td>104</td>\n    </tr>\n    <tr>\n      <th>2</th>\n      <td>How was cardiac dz diagnosed</td>\n      <td>Admission Date :\\n2019-06-25\\nDischarge Date :...</td>\n      <td>preop w/</td>\n      <td>0</td>\n      <td>preop w/ for knee surgery revealed cardiac dz ...</td>\n      <td>15</td>\n    </tr>\n    <tr>\n      <th>3</th>\n      <td>How often does the patient take warfarin sodiu...</td>\n      <td>RECORD #993550\\n\\n\\n859846912 | SH | 27937230 ...</td>\n      <td>qd</td>\n      <td>9</td>\n      <td>15. Warfarin Sodium ( Coumadin ) PO 2 MG QD\\n</td>\n      <td>153</td>\n    </tr>\n    <tr>\n      <th>4</th>\n      <td>How often does the patient take lisinopril</td>\n      <td>RECORD #549067\\n\\n\\n384866461 | WVHO | 2409298...</td>\n      <td>b.i.d.</td>\n      <td>8</td>\n      <td>Avandia 4 mg b.i.d. , lisinopril 20 mg b.i.d. ...</td>\n      <td>19</td>\n    </tr>\n  </tbody>\n</table>\n</div>"
     },
     "execution_count": 3,
     "metadata": {},
     "output_type": "execute_result"
    }
   ],
   "source": [
    "test = df.sample(5).reset_index(drop=True)\n",
    "test"
   ],
   "metadata": {
    "collapsed": false,
    "ExecuteTime": {
     "end_time": "2024-02-19T01:50:37.775136838Z",
     "start_time": "2024-02-19T01:50:37.761191Z"
    }
   },
   "id": "b9ac1df15cb9fcfe"
  },
  {
   "cell_type": "code",
   "execution_count": 4,
   "outputs": [
    {
     "data": {
      "text/plain": "question          What lab results does he have that are pertine...\ncontext           Admission Date :\\n2014-12-03\\nDischarge Date :...\nanswer                                            electrocardiogram\nanswer_start                                                      0\nevidence          Electrocardiogram revealed left atrial hypertr...\nevidence_start                                                   65\nName: 0, dtype: object"
     },
     "execution_count": 4,
     "metadata": {},
     "output_type": "execute_result"
    }
   ],
   "source": [
    "row = test.iloc[0]\n",
    "row"
   ],
   "metadata": {
    "collapsed": false,
    "ExecuteTime": {
     "end_time": "2024-02-19T01:50:38.646314718Z",
     "start_time": "2024-02-19T01:50:38.644020919Z"
    }
   },
   "id": "56d819e50a597c95"
  },
  {
   "cell_type": "code",
   "execution_count": 5,
   "outputs": [
    {
     "name": "stdout",
     "output_type": "stream",
     "text": [
      "The 5 examples gave 28 features.\n",
      "Here is where each comes from: [0, 0, 0, 0, 0, 0, 0, 0, 0, 1, 1, 1, 1, 2, 2, 2, 2, 3, 3, 3, 3, 3, 3, 3, 3, 4, 4, 4].\n"
     ]
    }
   ],
   "source": [
    "inputs = tokenizer(test['question'].tolist(), test['context'].tolist(), truncation='only_second',\n",
    "                   stride=50, return_overflowing_tokens=True, return_offsets_mapping=True)\n",
    "print(f\"The 5 examples gave {len(inputs['input_ids'])} features.\")\n",
    "print(f\"Here is where each comes from: {inputs['overflow_to_sample_mapping']}.\")"
   ],
   "metadata": {
    "collapsed": false,
    "ExecuteTime": {
     "end_time": "2024-02-19T01:50:40.781344345Z",
     "start_time": "2024-02-19T01:50:40.750689358Z"
    }
   },
   "id": "e8c5088e3b0b4ebc"
  },
  {
   "cell_type": "code",
   "execution_count": 6,
   "outputs": [
    {
     "data": {
      "text/plain": "0    electrocardiogram\n1                   vt\n2             preop w/\n3                   qd\n4               b.i.d.\nName: answer, dtype: object"
     },
     "execution_count": 6,
     "metadata": {},
     "output_type": "execute_result"
    }
   ],
   "source": [
    "test['answer']"
   ],
   "metadata": {
    "collapsed": false,
    "ExecuteTime": {
     "end_time": "2024-02-19T01:50:48.640377402Z",
     "start_time": "2024-02-19T01:50:48.637762988Z"
    }
   },
   "id": "1b61977e9f03622"
  },
  {
   "cell_type": "code",
   "execution_count": 7,
   "outputs": [
    {
     "data": {
      "text/plain": "21"
     },
     "execution_count": 7,
     "metadata": {},
     "output_type": "execute_result"
    }
   ],
   "source": [
    "next(i for i in range(len(inputs['input_ids'][0])) if inputs['input_ids'][0][i] == 102)"
   ],
   "metadata": {
    "collapsed": false,
    "ExecuteTime": {
     "end_time": "2024-02-19T01:50:50.833273738Z",
     "start_time": "2024-02-19T01:50:50.831615208Z"
    }
   },
   "id": "b14a4bbe50fc4bc4"
  },
  {
   "cell_type": "code",
   "execution_count": 8,
   "outputs": [
    {
     "data": {
      "text/plain": "[101,\n 2054,\n 6845,\n 3463,\n 2515,\n 2002,\n 2031,\n 2008,\n 2024,\n 2566,\n 10196,\n 3372,\n 2000,\n 2157,\n 18834,\n 7277,\n 7934,\n 23760,\n 13181,\n 21281,\n 11616,\n 102,\n 1010,\n 10882,\n 29180,\n 3388,\n 1010,\n 8292,\n 2571,\n 13578,\n 2595,\n 1012,\n 2035,\n 2121,\n 17252,\n 1024,\n 7279,\n 28775,\n 21202,\n 5320,\n 1037,\n 23438,\n 1012,\n 2155,\n 2381,\n 1024,\n 14671,\n 1010,\n 6542,\n 1005,\n 1055,\n 4295,\n 1010,\n 2021,\n 2053,\n 2381,\n 1997,\n 4003,\n 3695,\n 14289,\n 13728,\n 7856,\n 2854,\n 4295,\n 1012,\n 2591,\n 2381,\n 1024,\n 1996,\n 5776,\n 3268,\n 2007,\n 2014,\n 3129,\n 1010,\n 1998,\n 2027,\n 2031,\n 2053,\n 2336,\n 1012,\n 2016,\n 23439,\n 2151,\n 9098,\n 2030,\n 6544,\n 2381,\n 1012,\n 2016,\n 2515,\n 2224,\n 27849,\n 2128,\n 7583,\n 3111,\n 2164,\n 26927,\n 2213,\n 13278,\n 3514,\n 1010,\n 21822,\n 18353,\n 5054,\n 2290,\n 1010,\n 1998,\n 2038,\n 1037,\n 2381,\n 1997,\n 2224,\n 1997,\n 23550,\n 2937,\n 7117,\n 1012,\n 3558,\n 7749,\n 2006,\n 8312,\n 1024,\n 8995,\n 5751,\n 2020,\n 4860,\n 1997,\n 5818,\n 1012,\n 1018,\n 1010,\n 2540,\n 3446,\n 6356,\n 1010,\n 2668,\n 3778,\n 7558,\n 1013,\n 6205,\n 1010,\n 16464,\n 3446,\n 2538,\n 1010,\n 2938,\n 3436,\n 5818,\n 1003,\n 2006,\n 2282,\n 2250,\n 1012,\n 18235,\n 3372,\n 3936,\n 7391,\n 2020,\n 8053,\n 2461,\n 1998,\n 22643,\n 2000,\n 2422,\n 1012,\n 1996,\n 20298,\n 21890,\n 18143,\n 2595,\n 2001,\n 3154,\n 1012,\n 3300,\n 2001,\n 10514,\n 9397,\n 2571,\n 1010,\n 2053,\n 1048,\n 24335,\n 21890,\n 4181,\n 29477,\n 16921,\n 1010,\n 2053,\n 15177,\n 21716,\n 29107,\n 2135,\n 1010,\n 2053,\n 26536,\n 7934,\n 2310,\n 18674,\n 4487,\n 16173,\n 3508,\n 1010,\n 1998,\n 2053,\n 7987,\n 14663,\n 2015,\n 1012,\n 8948,\n 2018,\n 13594,\n 2102,\n 8579,\n 4244,\n 2012,\n 1996,\n 2187,\n 2918,\n 1998,\n 2690,\n 2492,\n 1025,\n 4728,\n 3154,\n 1012,\n 22935,\n 2018,\n 1037,\n 3180,\n 3446,\n 1998,\n 6348,\n 1012,\n 2053,\n 22888,\n 1012,\n 2053,\n 2959,\n 2540,\n 2614,\n 2030,\n 2353,\n 2540,\n 2614,\n 1012,\n 2053,\n 11498,\n 6238,\n 12032,\n 2002,\n 10696,\n 1012,\n 3806,\n 13181,\n 18447,\n 19126,\n 3936,\n 3730,\n 1010,\n 2512,\n 6528,\n 4063,\n 1010,\n 1998,\n 2512,\n 10521,\n 6528,\n 5732,\n 1012,\n 2053,\n 2002,\n 4502,\n 13122,\n 10814,\n 3630,\n 4168,\n 9692,\n 2100,\n 1012,\n 2053,\n 11678,\n 1012,\n 2053,\n 7987,\n 14663,\n 2015,\n 1012,\n 3671,\n 3161,\n 6812,\n 2884,\n 4165,\n 1012,\n 4654,\n 7913,\n 22930,\n 3111,\n 2018,\n 2053,\n 3968,\n 14545,\n 1010,\n 1016,\n 1009,\n 29333,\n 21877,\n 10521,\n 1012,\n 23130,\n 2135,\n 1010,\n 7977,\n 2135,\n 2512,\n 14876,\n 9289,\n 1012,\n 5911,\n 2951,\n 2006,\n 8312,\n 1024,\n 2012,\n 1996,\n 2051,\n 1997,\n 9634,\n 1010,\n 2317,\n 2668,\n 3526,\n 4175,\n 2340,\n 1012,\n 1015,\n 1010,\n 19610,\n 10610,\n 26775,\n 4183,\n 4261,\n 1012,\n 1021,\n 1010,\n 5127,\n 13461,\n 28188,\n 1012,\n 13365,\n 8574,\n 1010,\n 18044,\n 1018,\n 1010,\n 19057,\n 8746,\n 1010,\n 12170,\n 26190,\n 3686,\n 2654,\n 1010,\n 21122,\n 2459,\n 1010,\n 13675,\n 5243,\n 7629,\n 3170,\n 1014,\n 1012,\n 1022,\n 1010,\n 18423,\n 6146,\n 1012,\n 13675,\n 5243,\n 10196,\n 21903,\n 2531,\n 1010,\n 16914,\n 1018,\n 1010,\n 19817,\n 7361,\n 10698,\n 2078,\n 1997,\n 2625,\n 2084,\n 1014,\n 1012,\n 1017,\n 1012,\n 2557,\n 6483,\n 1013,\n 12126,\n 1024,\n 16175,\n 11522,\n 3695,\n 13113,\n 3936,\n 2187,\n 2012,\n 14482,\n 23760,\n 13181,\n 21281,\n 1010,\n 2157,\n 18834,\n 7277,\n 7934,\n 23760,\n 13181,\n 21281,\n 1010,\n 1998,\n 3532,\n 1054,\n 4400,\n 14967,\n 2029,\n 2020,\n 2047,\n 1012,\n 2036,\n 1010,\n 1056,\n 4400,\n 28527,\n 2015,\n 1999,\n 2462,\n 1010,\n 3523,\n 1010,\n 20704,\n 2546,\n 1010,\n 1058,\n 2487,\n 2083,\n 1058,\n 2629,\n 1025,\n 2047,\n 20607,\n 2157,\n 14012,\n 1011,\n 3589,\n 3796,\n 1012,\n 2902,\n 2607,\n 1024,\n 1996,\n 5776,\n 2003,\n 1037,\n 4720,\n 1011,\n 2095,\n 1011,\n 2214,\n 2931,\n 2007,\n 2053,\n 2124,\n 2381,\n 1997,\n 15050,\n 4295,\n 10886,\n 2007,\n 1040,\n 7274,\n 2361,\n 22084,\n 2006,\n 4654,\n 8743,\n 3258,\n 1998,\n 3108,\n 4389,\n 2791,\n 1010,\n 2040,\n 2001,\n 4914,\n 2005,\n 9312,\n 1998,\n 2968,\n 1997,\n 2014,\n 8030,\n 1012,\n 1015,\n 1012,\n 22935,\n 1024,\n 1996,\n 5776,\n 102]"
     },
     "execution_count": 8,
     "metadata": {},
     "output_type": "execute_result"
    }
   ],
   "source": [
    "inputs['input_ids'][1]"
   ],
   "metadata": {
    "collapsed": false,
    "ExecuteTime": {
     "end_time": "2024-02-19T01:50:51.506514686Z",
     "start_time": "2024-02-19T01:50:51.503686809Z"
    }
   },
   "id": "d08a08bcef98de95"
  },
  {
   "cell_type": "code",
   "execution_count": 9,
   "outputs": [
    {
     "data": {
      "text/plain": "[None,\n 0,\n 0,\n 0,\n 0,\n 0,\n 0,\n 0,\n 0,\n 0,\n 0,\n 0,\n 0,\n 0,\n 0,\n 0,\n 0,\n 0,\n 0,\n 0,\n 0,\n None,\n 1,\n 1,\n 1,\n 1,\n 1,\n 1,\n 1,\n 1,\n 1,\n 1,\n 1,\n 1,\n 1,\n 1,\n 1,\n 1,\n 1,\n 1,\n 1,\n 1,\n 1,\n 1,\n 1,\n 1,\n 1,\n 1,\n 1,\n 1,\n 1,\n 1,\n 1,\n 1,\n 1,\n 1,\n 1,\n 1,\n 1,\n 1,\n 1,\n 1,\n 1,\n 1,\n 1,\n 1,\n 1,\n 1,\n 1,\n 1,\n 1,\n 1,\n 1,\n 1,\n 1,\n 1,\n 1,\n 1,\n 1,\n 1,\n 1,\n 1,\n 1,\n 1,\n 1,\n 1,\n 1,\n 1,\n 1,\n 1,\n 1,\n 1,\n 1,\n 1,\n 1,\n 1,\n 1,\n 1,\n 1,\n 1,\n 1,\n 1,\n 1,\n 1,\n 1,\n 1,\n 1,\n 1,\n 1,\n 1,\n 1,\n 1,\n 1,\n 1,\n 1,\n 1,\n 1,\n 1,\n 1,\n 1,\n 1,\n 1,\n 1,\n 1,\n 1,\n 1,\n 1,\n 1,\n 1,\n 1,\n 1,\n 1,\n 1,\n 1,\n 1,\n 1,\n 1,\n 1,\n 1,\n 1,\n 1,\n 1,\n 1,\n 1,\n 1,\n 1,\n 1,\n 1,\n 1,\n 1,\n 1,\n 1,\n 1,\n 1,\n 1,\n 1,\n 1,\n 1,\n 1,\n 1,\n 1,\n 1,\n 1,\n 1,\n 1,\n 1,\n 1,\n 1,\n 1,\n 1,\n 1,\n 1,\n 1,\n 1,\n 1,\n 1,\n 1,\n 1,\n 1,\n 1,\n 1,\n 1,\n 1,\n 1,\n 1,\n 1,\n 1,\n 1,\n 1,\n 1,\n 1,\n 1,\n 1,\n 1,\n 1,\n 1,\n 1,\n 1,\n 1,\n 1,\n 1,\n 1,\n 1,\n 1,\n 1,\n 1,\n 1,\n 1,\n 1,\n 1,\n 1,\n 1,\n 1,\n 1,\n 1,\n 1,\n 1,\n 1,\n 1,\n 1,\n 1,\n 1,\n 1,\n 1,\n 1,\n 1,\n 1,\n 1,\n 1,\n 1,\n 1,\n 1,\n 1,\n 1,\n 1,\n 1,\n 1,\n 1,\n 1,\n 1,\n 1,\n 1,\n 1,\n 1,\n 1,\n 1,\n 1,\n 1,\n 1,\n 1,\n 1,\n 1,\n 1,\n 1,\n 1,\n 1,\n 1,\n 1,\n 1,\n 1,\n 1,\n 1,\n 1,\n 1,\n 1,\n 1,\n 1,\n 1,\n 1,\n 1,\n 1,\n 1,\n 1,\n 1,\n 1,\n 1,\n 1,\n 1,\n 1,\n 1,\n 1,\n 1,\n 1,\n 1,\n 1,\n 1,\n 1,\n 1,\n 1,\n 1,\n 1,\n 1,\n 1,\n 1,\n 1,\n 1,\n 1,\n 1,\n 1,\n 1,\n 1,\n 1,\n 1,\n 1,\n 1,\n 1,\n 1,\n 1,\n 1,\n 1,\n 1,\n 1,\n 1,\n 1,\n 1,\n 1,\n 1,\n 1,\n 1,\n 1,\n 1,\n 1,\n 1,\n 1,\n 1,\n 1,\n 1,\n 1,\n 1,\n 1,\n 1,\n 1,\n 1,\n 1,\n 1,\n 1,\n 1,\n 1,\n 1,\n 1,\n 1,\n 1,\n 1,\n 1,\n 1,\n 1,\n 1,\n 1,\n 1,\n 1,\n 1,\n 1,\n 1,\n 1,\n 1,\n 1,\n 1,\n 1,\n 1,\n 1,\n 1,\n 1,\n 1,\n 1,\n 1,\n 1,\n 1,\n 1,\n 1,\n 1,\n 1,\n 1,\n 1,\n 1,\n 1,\n 1,\n 1,\n 1,\n 1,\n 1,\n 1,\n 1,\n 1,\n 1,\n 1,\n 1,\n 1,\n 1,\n 1,\n 1,\n 1,\n 1,\n 1,\n 1,\n 1,\n 1,\n 1,\n 1,\n 1,\n 1,\n 1,\n 1,\n 1,\n 1,\n 1,\n 1,\n 1,\n 1,\n 1,\n 1,\n 1,\n 1,\n 1,\n 1,\n 1,\n 1,\n 1,\n 1,\n 1,\n 1,\n 1,\n 1,\n 1,\n 1,\n 1,\n 1,\n 1,\n 1,\n 1,\n 1,\n 1,\n 1,\n 1,\n 1,\n 1,\n 1,\n 1,\n 1,\n 1,\n 1,\n 1,\n 1,\n 1,\n 1,\n 1,\n 1,\n 1,\n 1,\n 1,\n 1,\n 1,\n 1,\n 1,\n 1,\n 1,\n 1,\n 1,\n 1,\n 1,\n 1,\n 1,\n 1,\n 1,\n 1,\n 1,\n 1,\n 1,\n 1,\n 1,\n 1,\n 1,\n 1,\n 1,\n 1,\n 1,\n 1,\n 1,\n 1,\n 1,\n 1,\n 1,\n 1,\n 1,\n 1,\n 1,\n 1,\n 1,\n 1,\n 1,\n 1,\n 1,\n 1,\n 1,\n 1,\n 1,\n 1,\n 1,\n 1,\n 1,\n 1,\n 1,\n 1,\n 1,\n 1,\n 1,\n 1,\n 1,\n 1,\n 1,\n 1,\n 1,\n None]"
     },
     "execution_count": 9,
     "metadata": {},
     "output_type": "execute_result"
    }
   ],
   "source": [
    "inputs.sequence_ids(0)"
   ],
   "metadata": {
    "collapsed": false,
    "ExecuteTime": {
     "end_time": "2024-02-19T01:50:52.388986462Z",
     "start_time": "2024-02-19T01:50:52.384025451Z"
    }
   },
   "id": "f662b242e20552ec"
  },
  {
   "cell_type": "code",
   "execution_count": 10,
   "outputs": [
    {
     "data": {
      "text/plain": "([43,\n  0,\n  0,\n  0,\n  0,\n  0,\n  0,\n  0,\n  0,\n  37,\n  0,\n  0,\n  0,\n  29,\n  0,\n  0,\n  0,\n  40,\n  0,\n  0,\n  0,\n  0,\n  0,\n  0,\n  0,\n  35,\n  0,\n  0],\n [46,\n  0,\n  0,\n  0,\n  0,\n  0,\n  0,\n  0,\n  0,\n  38,\n  0,\n  0,\n  0,\n  29,\n  0,\n  0,\n  0,\n  41,\n  0,\n  0,\n  0,\n  0,\n  0,\n  0,\n  0,\n  38,\n  0,\n  0])"
     },
     "execution_count": 10,
     "metadata": {},
     "output_type": "execute_result"
    }
   ],
   "source": [
    "start_positions = []\n",
    "end_positions = []\n",
    "\n",
    "for i, offset in enumerate(inputs[\"offset_mapping\"]):\n",
    "    sample_idx = inputs[\"overflow_to_sample_mapping\"][i]\n",
    "    answer = test['answer'][sample_idx]\n",
    "    start_char = test[\"answer_start\"][sample_idx]\n",
    "    end_char = test[\"answer_start\"][sample_idx] + len(answer)\n",
    "    sequence_ids = inputs.sequence_ids(i)\n",
    "\n",
    "    # Find the start and end of the context]\n",
    "    idx = 0\n",
    "    while sequence_ids[idx] != 1:\n",
    "        idx += 1\n",
    "    context_start = idx\n",
    "    while sequence_ids[idx] == 1:\n",
    "        idx += 1\n",
    "    context_end = idx - 1\n",
    "\n",
    "    # If the answer is not fully inside the context, label is (0, 0)\n",
    "    if offset[context_start][0] > start_char or offset[context_end][1] < end_char:\n",
    "        start_positions.append(0)\n",
    "        end_positions.append(0)\n",
    "    else:\n",
    "        # Otherwise it's the start and end token positions\n",
    "        adder = next(i for i in range(len(inputs['input_ids'][0])) if inputs['input_ids'][0][i] == 102)\n",
    "        idx = context_start\n",
    "        while idx <= context_end and offset[idx][0] <= start_char:\n",
    "            idx += 1\n",
    "        start_positions.append(adder + idx - 1)\n",
    "\n",
    "        idx = context_end\n",
    "        while idx >= context_start and offset[idx][1] >= end_char:\n",
    "            idx -= 1\n",
    "        end_positions.append(adder + idx + 1)\n",
    "\n",
    "start_positions, end_positions"
   ],
   "metadata": {
    "collapsed": false,
    "ExecuteTime": {
     "end_time": "2024-02-19T01:50:54.817076809Z",
     "start_time": "2024-02-19T01:50:54.813647848Z"
    }
   },
   "id": "75ae68775fa13a70"
  },
  {
   "cell_type": "code",
   "execution_count": 11,
   "outputs": [
    {
     "name": "stderr",
     "output_type": "stream",
     "text": [
      "2024-02-18 20:50:56.522697: E external/local_xla/xla/stream_executor/cuda/cuda_dnn.cc:9261] Unable to register cuDNN factory: Attempting to register factory for plugin cuDNN when one has already been registered\n",
      "2024-02-18 20:50:56.522727: E external/local_xla/xla/stream_executor/cuda/cuda_fft.cc:607] Unable to register cuFFT factory: Attempting to register factory for plugin cuFFT when one has already been registered\n",
      "2024-02-18 20:50:56.523676: E external/local_xla/xla/stream_executor/cuda/cuda_blas.cc:1515] Unable to register cuBLAS factory: Attempting to register factory for plugin cuBLAS when one has already been registered\n",
      "2024-02-18 20:50:56.528461: I tensorflow/core/platform/cpu_feature_guard.cc:182] This TensorFlow binary is optimized to use available CPU instructions in performance-critical operations.\n",
      "To enable the following instructions: AVX2 FMA, in other operations, rebuild TensorFlow with the appropriate compiler flags.\n",
      "2024-02-18 20:50:57.238497: W tensorflow/compiler/tf2tensorrt/utils/py_utils.cc:38] TF-TRT Warning: Could not find TensorRT\n"
     ]
    },
    {
     "name": "stdout",
     "output_type": "stream",
     "text": [
      "Theoretical answer: preop w/, labels give: [CLS]\n"
     ]
    }
   ],
   "source": [
    "idx = 2\n",
    "sample_idx = inputs[\"overflow_to_sample_mapping\"][idx]\n",
    "answer = test['answer'][idx]\n",
    "\n",
    "start = start_positions[idx]\n",
    "end = end_positions[idx]\n",
    "labeled_answer = tokenizer.decode(inputs[\"input_ids\"][idx][start : end + 1])\n",
    "\n",
    "print(f\"Theoretical answer: {answer}, labels give: {labeled_answer}\")"
   ],
   "metadata": {
    "collapsed": false,
    "ExecuteTime": {
     "end_time": "2024-02-19T01:50:57.606996724Z",
     "start_time": "2024-02-19T01:50:55.409797789Z"
    }
   },
   "id": "a3260d0895a8e246"
  },
  {
   "cell_type": "code",
   "execution_count": 14,
   "outputs": [
    {
     "data": {
      "text/plain": "'BP 142/60 P 80 wt 174 lbs'"
     },
     "execution_count": 14,
     "metadata": {},
     "output_type": "execute_result"
    }
   ],
   "source": [
    "test['evidence'][2]"
   ],
   "metadata": {
    "collapsed": false,
    "ExecuteTime": {
     "end_time": "2024-02-11T21:35:12.231018800Z",
     "start_time": "2024-02-11T21:35:12.227933500Z"
    }
   },
   "id": "5917cfe2de5aa27a"
  },
  {
   "cell_type": "code",
   "execution_count": 15,
   "outputs": [
    {
     "data": {
      "text/plain": "[101,\n 2339,\n 2038,\n 1996,\n 5776,\n 2042,\n 16250,\n 5869,\n 7646,\n 102,\n 2501,\n 1001,\n 5401,\n 22394,\n 8889,\n 20636,\n 2683,\n 21057,\n 17134,\n 2509,\n 1064,\n 1049,\n 3511,\n 2278,\n 1064,\n 6021,\n 2692,\n 28311,\n 19481,\n 2549,\n 1064,\n 1064,\n 5345,\n 28154,\n 19841,\n 2620,\n 1064,\n 1017,\n 1013,\n 2484,\n 1013,\n 2294,\n 2260,\n 1024,\n 4002,\n 1024,\n 4002,\n 2572,\n 1064,\n 20118,\n 28228,\n 2278,\n 26261,\n 27109,\n 1064,\n 2772,\n 1064,\n 4487,\n 2015,\n 1064,\n 9634,\n 3058,\n 1024,\n 1022,\n 1013,\n 2459,\n 1013,\n 2294,\n 3189,\n 3570,\n 1024,\n 2772,\n 11889,\n 3058,\n 1024,\n 1016,\n 1013,\n 2603,\n 1013,\n 2294,\n 7052,\n 1024,\n 5440,\n 1010,\n 5099,\n 10893,\n 3406,\n 9108,\n 2326,\n 1024,\n 15050,\n 5970,\n 2326,\n 1012,\n 22137,\n 1024,\n 2000,\n 11252,\n 1012,\n 4054,\n 11889,\n 11616,\n 1024,\n 3570,\n 2695,\n 20704,\n 2099,\n 2007,\n 1037,\n 2423,\n 8292,\n 20201,\n 10764,\n 1998,\n 9298,\n 2290,\n 1060,\n 2475,\n 1013,\n 12967,\n 1012,\n 2060,\n 22939,\n 26745,\n 8583,\n 1024,\n 14671,\n 11463,\n 15909,\n 2271,\n 2828,\n 2462,\n 1010,\n 23760,\n 9905,\n 4244,\n 27833,\n 17577,\n 1010,\n 27641,\n 1010,\n 1998,\n 4852,\n 5293,\n 20938,\n 1012,\n 2381,\n 1997,\n 2556,\n 7355,\n 1024,\n 2720,\n 1012,\n 9686,\n 10609,\n 7377,\n 3207,\n 2003,\n 1037,\n 3963,\n 1011,\n 2095,\n 1011,\n 2214,\n 23368,\n 3287,\n 2007,\n 28353,\n 1010,\n 26261,\n 14706,\n 2274,\n 2086,\n 3283,\n 1010,\n 2124,\n 2004,\n 10250,\n 6895,\n 8873,\n 2278,\n 20118,\n 28228,\n 2278,\n 26261,\n 27109,\n 2007,\n 14967,\n 1997,\n 4654,\n 8743,\n 19301,\n 1040,\n 7274,\n 2361,\n 22084,\n 1012,\n 2002,\n 2038,\n 11888,\n 2012,\n 14482,\n 10882,\n 23736,\n 20382,\n 1012,\n 2002,\n 2003,\n 3740,\n 2005,\n 4937,\n 27065,\n 2121,\n 1999,\n 1996,\n 2851,\n 1010,\n 20704,\n 2099,\n 1998,\n 2825,\n 9298,\n 2290,\n 1012,\n 3653,\n 25918,\n 8082,\n 15050,\n 3570,\n 1024,\n 11322,\n 3512,\n 1012,\n 1996,\n 5776,\n 3591,\n 2007,\n 4187,\n 21887,\n 2854,\n 13336,\n 1013,\n 10764,\n 28466,\n 1012,\n 1996,\n 5776,\n 2038,\n 1037,\n 2381,\n 1997,\n 2465,\n 2462,\n 17076,\n 3981,\n 1012,\n 2045,\n 2038,\n 2042,\n 2053,\n 3522,\n 17076,\n 3981,\n 1012,\n 2045,\n 2003,\n 2381,\n 1997,\n 2465,\n 3523,\n 2540,\n 4945,\n 1012,\n 1996,\n 5776,\n 2003,\n 1999,\n 2012,\n 14482,\n 10882,\n 23736,\n 20382,\n 1012,\n 1996,\n 5776,\n 2038,\n 2381,\n 1997,\n 28697,\n 2497,\n 1013,\n 23638,\n 5845,\n 2007,\n 5850,\n 1013,\n 8247,\n 1011,\n 3796,\n 2121,\n 1012,\n 3025,\n 22935,\n 19388,\n 1024,\n 13866,\n 3540,\n 1013,\n 2012,\n 5886,\n 22471,\n 16940,\n 1999,\n 2727,\n 1998,\n 2722,\n 1012,\n 26261,\n 3372,\n 1999,\n 2727,\n 1998,\n 2722,\n 1012,\n 2627,\n 11707,\n 2381,\n 1024,\n 2157,\n 9353,\n 2140,\n 7192,\n 1010,\n 10439,\n 10497,\n 22471,\n 16940,\n 1010,\n 28378,\n 7388,\n 3742,\n 4654,\n 28472,\n 1999,\n 1996,\n 2157,\n 2217,\n 1012,\n 2155,\n 2381,\n 1024,\n 2053,\n 2155,\n 2381,\n 1997,\n 28353,\n 1012,\n 2591,\n 2381,\n 1024,\n 2381,\n 1997,\n 9098,\n 5018,\n 1011,\n 5308,\n 1011,\n 2095,\n 9907,\n 9422,\n 2381,\n 1012,\n 2035,\n 2121,\n 17252,\n 1024,\n 2053,\n 2124,\n 4319,\n 2035,\n 2121,\n 17252,\n 1012,\n 3653,\n 7361,\n 20992,\n 1024,\n 2327,\n 13153,\n 2753,\n 11460,\n 1053,\n 1012,\n 1037,\n 1012,\n 1049,\n 1012,\n 1998,\n 2423,\n 11460,\n 1053,\n 1012,\n 1052,\n 1012,\n 1049,\n 1012,\n 1010,\n 2522,\n 12248,\n 8718,\n 1010,\n 5869,\n 7646,\n 2322,\n 11460,\n 3679,\n 1010,\n 2012,\n 2953,\n 12044,\n 29336,\n 2378,\n 2322,\n 11460,\n 3679,\n 1010,\n 11265,\n 21017,\n 7629,\n 2531,\n 11460,\n 1056,\n 1012,\n 1045,\n 1012,\n 1040,\n 1012,\n 1010,\n 2777,\n 14192,\n 2378,\n 6694,\n 11460,\n 1038,\n 1012,\n 1045,\n 1012,\n 1040,\n 1012,\n 1010,\n 1998,\n 1043,\n 15000,\n 10993,\n 5178,\n 1016,\n 1012,\n 1019,\n 11460,\n 1038,\n 1012,\n 1045,\n 1012,\n 1040,\n 1012,\n 3558,\n 7749,\n 1024,\n 4578,\n 1998,\n 3635,\n 1019,\n 2519,\n 2184,\n 5282,\n 1010,\n 10715,\n 11382,\n 10483,\n 1012,\n 8995,\n 5751,\n 1024,\n 4860,\n 5986,\n 1012,\n 1018,\n 1010,\n 2540,\n 3446,\n 4293,\n 1010,\n 17531,\n 2157,\n 2849,\n 13029,\n 1013,\n 5786,\n 1010,\n 2187,\n 2849,\n 7287,\n 1013,\n 4293,\n 1010,\n 7722,\n 2938,\n 18924,\n 5989,\n 1003,\n 2006,\n 102]"
     },
     "execution_count": 15,
     "metadata": {},
     "output_type": "execute_result"
    }
   ],
   "source": [
    "inputs[\"input_ids\"][0]"
   ],
   "metadata": {
    "collapsed": false,
    "ExecuteTime": {
     "end_time": "2024-02-11T21:35:12.242414200Z",
     "start_time": "2024-02-11T21:35:12.232019100Z"
    }
   },
   "id": "1d842c4615ff4d51"
  },
  {
   "cell_type": "code",
   "execution_count": null,
   "outputs": [],
   "source": [
    "tokenizer.decode(inputs[\"input_ids\"][0])"
   ],
   "metadata": {
    "collapsed": false,
    "ExecuteTime": {
     "start_time": "2024-02-08T02:21:55.336629Z"
    }
   },
   "id": "717ab2c8fac1d7bf"
  },
  {
   "cell_type": "code",
   "outputs": [],
   "source": [
    "def convert_char_span_to_token_span(context, char_span):\n",
    "    # Tokenize the context\n",
    "    tokens = tokenizer.tokenize(context)\n",
    "    \n",
    "    # Initialize variables\n",
    "    token_start_index = None\n",
    "    token_end_index = None\n",
    "    current_char_index = 0\n",
    "    \n",
    "    # Iterate through tokens\n",
    "    for token_index, token in enumerate(tokens):\n",
    "        # Find the start index of the token\n",
    "        while not context[current_char_index:].startswith(token):\n",
    "            current_char_index += 1\n",
    "        # Check if token start index matches the start of span\n",
    "        if current_char_index == char_span[0]:\n",
    "            token_start_index = token_index\n",
    "        # Check if token end index matches the end of span\n",
    "        if current_char_index + len(token) - 1 == char_span[1]:\n",
    "            token_end_index = token_index\n",
    "            break\n",
    "        # Move to the next character\n",
    "        current_char_index += len(token)\n",
    "    \n",
    "    return (token_start_index, token_end_index)"
   ],
   "metadata": {
    "collapsed": false,
    "ExecuteTime": {
     "end_time": "2024-02-19T02:30:21.907729860Z",
     "start_time": "2024-02-19T02:30:21.863501512Z"
    }
   },
   "id": "d48c35178cdb1f01",
   "execution_count": 13
  },
  {
   "cell_type": "code",
   "outputs": [],
   "source": [
    "convert_char_span_to_token_span(test['evidence'][0], (test['answer_start'][0], test['answer_start'][0] + len(test['answer'][0])))"
   ],
   "metadata": {
    "collapsed": false,
    "ExecuteTime": {
     "start_time": "2024-02-19T02:34:13.527634342Z"
    }
   },
   "id": "c6beee5534826084"
  },
  {
   "cell_type": "code",
   "outputs": [],
   "source": [],
   "metadata": {
    "collapsed": false
   },
   "id": "e682e5c7b65cf140"
  }
 ],
 "metadata": {
  "kernelspec": {
   "display_name": "Python 3",
   "language": "python",
   "name": "python3"
  },
  "language_info": {
   "codemirror_mode": {
    "name": "ipython",
    "version": 2
   },
   "file_extension": ".py",
   "mimetype": "text/x-python",
   "name": "python",
   "nbconvert_exporter": "python",
   "pygments_lexer": "ipython2",
   "version": "2.7.6"
  }
 },
 "nbformat": 4,
 "nbformat_minor": 5
}
