{
 "cells": [
  {
   "cell_type": "code",
   "execution_count": 3,
   "id": "initial_id",
   "metadata": {
    "collapsed": true,
    "ExecuteTime": {
     "end_time": "2024-02-11T21:34:19.973648Z",
     "start_time": "2024-02-11T21:34:18.755399Z"
    }
   },
   "outputs": [],
   "source": [
    "from transformers import AutoTokenizer\n",
    "import pandas as pd"
   ]
  },
  {
   "cell_type": "code",
   "execution_count": 4,
   "outputs": [
    {
     "data": {
      "text/plain": "                                            question  \\\n0                What is the dosage of valproic acid   \n1  What is the patient's current dose does the pa...   \n2  What is the current dose of the patient's valp...   \n3          What is the current dose of valproic acid   \n4  How much valproic acid does the patient take p...   \n\n                                             context  answer  answer_start  \\\n0  RECORD #91996\\n150823816 | DMC | 60956989 | | ...  250 mg             7   \n1  RECORD #91996\\n150823816 | DMC | 60956989 | | ...  250 mg             7   \n2  RECORD #91996\\n150823816 | DMC | 60956989 | | ...  250 mg             7   \n3  RECORD #91996\\n150823816 | DMC | 60956989 | | ...  250 mg             7   \n4  RECORD #91996\\n150823816 | DMC | 60956989 | | ...  250 mg             7   \n\n                                            evidence  \n0  throughout this pregnancy. She has been taking...  \n1  throughout this pregnancy. She has been taking...  \n2  throughout this pregnancy. She has been taking...  \n3  throughout this pregnancy. She has been taking...  \n4  throughout this pregnancy. She has been taking...  ",
      "text/html": "<div>\n<style scoped>\n    .dataframe tbody tr th:only-of-type {\n        vertical-align: middle;\n    }\n\n    .dataframe tbody tr th {\n        vertical-align: top;\n    }\n\n    .dataframe thead th {\n        text-align: right;\n    }\n</style>\n<table border=\"1\" class=\"dataframe\">\n  <thead>\n    <tr style=\"text-align: right;\">\n      <th></th>\n      <th>question</th>\n      <th>context</th>\n      <th>answer</th>\n      <th>answer_start</th>\n      <th>evidence</th>\n    </tr>\n  </thead>\n  <tbody>\n    <tr>\n      <th>0</th>\n      <td>What is the dosage of valproic acid</td>\n      <td>RECORD #91996\\n150823816 | DMC | 60956989 | | ...</td>\n      <td>250 mg</td>\n      <td>7</td>\n      <td>throughout this pregnancy. She has been taking...</td>\n    </tr>\n    <tr>\n      <th>1</th>\n      <td>What is the patient's current dose does the pa...</td>\n      <td>RECORD #91996\\n150823816 | DMC | 60956989 | | ...</td>\n      <td>250 mg</td>\n      <td>7</td>\n      <td>throughout this pregnancy. She has been taking...</td>\n    </tr>\n    <tr>\n      <th>2</th>\n      <td>What is the current dose of the patient's valp...</td>\n      <td>RECORD #91996\\n150823816 | DMC | 60956989 | | ...</td>\n      <td>250 mg</td>\n      <td>7</td>\n      <td>throughout this pregnancy. She has been taking...</td>\n    </tr>\n    <tr>\n      <th>3</th>\n      <td>What is the current dose of valproic acid</td>\n      <td>RECORD #91996\\n150823816 | DMC | 60956989 | | ...</td>\n      <td>250 mg</td>\n      <td>7</td>\n      <td>throughout this pregnancy. She has been taking...</td>\n    </tr>\n    <tr>\n      <th>4</th>\n      <td>How much valproic acid does the patient take p...</td>\n      <td>RECORD #91996\\n150823816 | DMC | 60956989 | | ...</td>\n      <td>250 mg</td>\n      <td>7</td>\n      <td>throughout this pregnancy. She has been taking...</td>\n    </tr>\n  </tbody>\n</table>\n</div>"
     },
     "execution_count": 4,
     "metadata": {},
     "output_type": "execute_result"
    }
   ],
   "source": [
    "tokenizer = AutoTokenizer.from_pretrained(\"bert-base-uncased\")\n",
    "df = pd.read_csv('../data/emrqa_all_data.csv')\n",
    "df.head()"
   ],
   "metadata": {
    "collapsed": false,
    "ExecuteTime": {
     "end_time": "2024-02-11T21:34:41.139170800Z",
     "start_time": "2024-02-11T21:34:19.973648Z"
    }
   },
   "id": "cfdd4bac0a85993f"
  },
  {
   "cell_type": "code",
   "execution_count": 4,
   "outputs": [],
   "source": [],
   "metadata": {
    "collapsed": false,
    "ExecuteTime": {
     "end_time": "2024-02-11T21:34:41.146216800Z",
     "start_time": "2024-02-11T21:34:41.137927800Z"
    }
   },
   "id": "22791a7b848e4dd5"
  },
  {
   "cell_type": "code",
   "execution_count": 5,
   "outputs": [
    {
     "data": {
      "text/plain": "                                            question  \\\n0          Why has the patient been prescribed lasix   \n1  When was this patient's first documented diagn...   \n2     Does this woman have a history of hypertension   \n3                                        MEDS RECORD   \n4  Has this patient/employee ever been exposed to...   \n\n                                             context           answer  \\\n0  RECORD #573300\\n219990133 | MHAMC | 03057354 |...  pulmonary edema   \n1  Record date: 2077-08-04EDVISIT^42817774^AARON,...       2077-08-04   \n2  Record date: 2076-09-25  OLIVIA PATTY HOPKINS,...        BP 142/60   \n3  RECORD #808959\\n\\n\\n022039090 | UGH | 34853160...          aspirin   \n4  Record date: 2079-01-14PICH 989 James Street, ...   Hyperlipidemia   \n\n   answer_start                                           evidence  \n0             9  complication. Currently on 5 liters of O2 and ...  \n1            16  Record date: 2077-08-04\\n\\nEDVISIT^42817774^AA...  \n2           904                          BP 142/60 P 80 wt 174 lbs  \n3             1                    3. Aspirin 325 mg p.o. daily.\\n  \n4         12552  5) Pain management/ Narcotics log: Because of ...  ",
      "text/html": "<div>\n<style scoped>\n    .dataframe tbody tr th:only-of-type {\n        vertical-align: middle;\n    }\n\n    .dataframe tbody tr th {\n        vertical-align: top;\n    }\n\n    .dataframe thead th {\n        text-align: right;\n    }\n</style>\n<table border=\"1\" class=\"dataframe\">\n  <thead>\n    <tr style=\"text-align: right;\">\n      <th></th>\n      <th>question</th>\n      <th>context</th>\n      <th>answer</th>\n      <th>answer_start</th>\n      <th>evidence</th>\n    </tr>\n  </thead>\n  <tbody>\n    <tr>\n      <th>0</th>\n      <td>Why has the patient been prescribed lasix</td>\n      <td>RECORD #573300\\n219990133 | MHAMC | 03057354 |...</td>\n      <td>pulmonary edema</td>\n      <td>9</td>\n      <td>complication. Currently on 5 liters of O2 and ...</td>\n    </tr>\n    <tr>\n      <th>1</th>\n      <td>When was this patient's first documented diagn...</td>\n      <td>Record date: 2077-08-04EDVISIT^42817774^AARON,...</td>\n      <td>2077-08-04</td>\n      <td>16</td>\n      <td>Record date: 2077-08-04\\n\\nEDVISIT^42817774^AA...</td>\n    </tr>\n    <tr>\n      <th>2</th>\n      <td>Does this woman have a history of hypertension</td>\n      <td>Record date: 2076-09-25  OLIVIA PATTY HOPKINS,...</td>\n      <td>BP 142/60</td>\n      <td>904</td>\n      <td>BP 142/60 P 80 wt 174 lbs</td>\n    </tr>\n    <tr>\n      <th>3</th>\n      <td>MEDS RECORD</td>\n      <td>RECORD #808959\\n\\n\\n022039090 | UGH | 34853160...</td>\n      <td>aspirin</td>\n      <td>1</td>\n      <td>3. Aspirin 325 mg p.o. daily.\\n</td>\n    </tr>\n    <tr>\n      <th>4</th>\n      <td>Has this patient/employee ever been exposed to...</td>\n      <td>Record date: 2079-01-14PICH 989 James Street, ...</td>\n      <td>Hyperlipidemia</td>\n      <td>12552</td>\n      <td>5) Pain management/ Narcotics log: Because of ...</td>\n    </tr>\n  </tbody>\n</table>\n</div>"
     },
     "execution_count": 5,
     "metadata": {},
     "output_type": "execute_result"
    }
   ],
   "source": [
    "test = df.sample(5).reset_index(drop=True)\n",
    "test"
   ],
   "metadata": {
    "collapsed": false,
    "ExecuteTime": {
     "end_time": "2024-02-11T21:34:41.165136200Z",
     "start_time": "2024-02-11T21:34:41.141178500Z"
    }
   },
   "id": "b9ac1df15cb9fcfe"
  },
  {
   "cell_type": "code",
   "execution_count": 6,
   "outputs": [
    {
     "data": {
      "text/plain": "question                Why has the patient been prescribed lasix\ncontext         RECORD #573300\\n219990133 | MHAMC | 03057354 |...\nanswer                                            pulmonary edema\nanswer_start                                                    9\nevidence        complication. Currently on 5 liters of O2 and ...\nName: 0, dtype: object"
     },
     "execution_count": 6,
     "metadata": {},
     "output_type": "execute_result"
    }
   ],
   "source": [
    "row = test.iloc[0]\n",
    "row"
   ],
   "metadata": {
    "collapsed": false,
    "ExecuteTime": {
     "end_time": "2024-02-11T21:34:41.165136200Z",
     "start_time": "2024-02-11T21:34:41.159202900Z"
    }
   },
   "id": "56d819e50a597c95"
  },
  {
   "cell_type": "code",
   "execution_count": 7,
   "outputs": [
    {
     "name": "stdout",
     "output_type": "stream",
     "text": [
      "The 5 examples gave 47 features.\n",
      "Here is where each comes from: [0, 0, 0, 0, 0, 0, 1, 1, 1, 1, 1, 1, 1, 1, 1, 1, 1, 1, 2, 2, 2, 2, 2, 2, 2, 3, 3, 3, 3, 3, 3, 4, 4, 4, 4, 4, 4, 4, 4, 4, 4, 4, 4, 4, 4, 4, 4].\n"
     ]
    }
   ],
   "source": [
    "inputs = tokenizer(test['question'].tolist(), test['context'].tolist(), truncation='only_second',\n",
    "                   stride=50, return_overflowing_tokens=True, return_offsets_mapping=True)\n",
    "print(f\"The 5 examples gave {len(inputs['input_ids'])} features.\")\n",
    "print(f\"Here is where each comes from: {inputs['overflow_to_sample_mapping']}.\")"
   ],
   "metadata": {
    "collapsed": false,
    "ExecuteTime": {
     "end_time": "2024-02-11T21:34:52.380729200Z",
     "start_time": "2024-02-11T21:34:52.349018800Z"
    }
   },
   "id": "e8c5088e3b0b4ebc"
  },
  {
   "cell_type": "code",
   "execution_count": 8,
   "outputs": [
    {
     "data": {
      "text/plain": "0    pulmonary edema\n1         2077-08-04\n2          BP 142/60\n3            aspirin\n4     Hyperlipidemia\nName: answer, dtype: object"
     },
     "execution_count": 8,
     "metadata": {},
     "output_type": "execute_result"
    }
   ],
   "source": [
    "test['answer']"
   ],
   "metadata": {
    "collapsed": false,
    "ExecuteTime": {
     "end_time": "2024-02-11T21:34:53.979812600Z",
     "start_time": "2024-02-11T21:34:53.972542800Z"
    }
   },
   "id": "1b61977e9f03622"
  },
  {
   "cell_type": "code",
   "execution_count": 9,
   "outputs": [
    {
     "data": {
      "text/plain": "9"
     },
     "execution_count": 9,
     "metadata": {},
     "output_type": "execute_result"
    }
   ],
   "source": [
    "next(i for i in range(len(inputs['input_ids'][0])) if inputs['input_ids'][0][i] == 102)"
   ],
   "metadata": {
    "collapsed": false,
    "ExecuteTime": {
     "end_time": "2024-02-11T21:34:58.088122200Z",
     "start_time": "2024-02-11T21:34:58.080631Z"
    }
   },
   "id": "b14a4bbe50fc4bc4"
  },
  {
   "cell_type": "code",
   "execution_count": 10,
   "outputs": [
    {
     "data": {
      "text/plain": "[101,\n 2339,\n 2038,\n 1996,\n 5776,\n 2042,\n 16250,\n 5869,\n 7646,\n 102,\n 1045,\n 1012,\n 1040,\n 1012,\n 3558,\n 7749,\n 1024,\n 4578,\n 1998,\n 3635,\n 1019,\n 2519,\n 2184,\n 5282,\n 1010,\n 10715,\n 11382,\n 10483,\n 1012,\n 8995,\n 5751,\n 1024,\n 4860,\n 5986,\n 1012,\n 1018,\n 1010,\n 2540,\n 3446,\n 4293,\n 1010,\n 17531,\n 2157,\n 2849,\n 13029,\n 1013,\n 5786,\n 1010,\n 2187,\n 2849,\n 7287,\n 1013,\n 4293,\n 1010,\n 7722,\n 2938,\n 18924,\n 5989,\n 1003,\n 2006,\n 2282,\n 2250,\n 1012,\n 18235,\n 3372,\n 1024,\n 2566,\n 12190,\n 2050,\n 1013,\n 21418,\n 22753,\n 2302,\n 3350,\n 1997,\n 8985,\n 1013,\n 2053,\n 2482,\n 4140,\n 3593,\n 7987,\n 14663,\n 2015,\n 1013,\n 10267,\n 8525,\n 15534,\n 1012,\n 3108,\n 1024,\n 2053,\n 4297,\n 19969,\n 2015,\n 1012,\n 22935,\n 1024,\n 3180,\n 6348,\n 1998,\n 25353,\n 16033,\n 10415,\n 20227,\n 1012,\n 2035,\n 29333,\n 23894,\n 10109,\n 2007,\n 1996,\n 6453,\n 1997,\n 1996,\n 2157,\n 12759,\n 2483,\n 21877,\n 10521,\n 1010,\n 2029,\n 2001,\n 2556,\n 2011,\n 2079,\n 9397,\n 3917,\n 2069,\n 1998,\n 15219,\n 14841,\n 21102,\n 23894,\n 2020,\n 2556,\n 2011,\n 2079,\n 9397,\n 3917,\n 17758,\n 2135,\n 1012,\n 5297,\n 1005,\n 1055,\n 3231,\n 2187,\n 3356,\n 4654,\n 7913,\n 16383,\n 3671,\n 1010,\n 2157,\n 3356,\n 4654,\n 7913,\n 16383,\n 3671,\n 1012,\n 16464,\n 1024,\n 3052,\n 4165,\n 3154,\n 17758,\n 2135,\n 1012,\n 13878,\n 1024,\n 2053,\n 4297,\n 19969,\n 2015,\n 1010,\n 3730,\n 1010,\n 2053,\n 11678,\n 1012,\n 4654,\n 7913,\n 22930,\n 3111,\n 1024,\n 11689,\n 9607,\n 1012,\n 3576,\n 13075,\n 11261,\n 24279,\n 1012,\n 3469,\n 13075,\n 11261,\n 24279,\n 2157,\n 10120,\n 1012,\n 11265,\n 10976,\n 1024,\n 9499,\n 1998,\n 8048,\n 1010,\n 2053,\n 15918,\n 15074,\n 2015,\n 1012,\n 3653,\n 25918,\n 8082,\n 5911,\n 2951,\n 1024,\n 15535,\n 5134,\n 1024,\n 13365,\n 15028,\n 1010,\n 18044,\n 1018,\n 1012,\n 1019,\n 1010,\n 19057,\n 9402,\n 1010,\n 2522,\n 2475,\n 1997,\n 2656,\n 1010,\n 21122,\n 2322,\n 1010,\n 13675,\n 5243,\n 7629,\n 3170,\n 1015,\n 1010,\n 18423,\n 10894,\n 1012,\n 19610,\n 10610,\n 6483,\n 1024,\n 25610,\n 2278,\n 1022,\n 1012,\n 2423,\n 1010,\n 19610,\n 10610,\n 26775,\n 4183,\n 4413,\n 1012,\n 1020,\n 1010,\n 19610,\n 8649,\n 4135,\n 8428,\n 2403,\n 1012,\n 1021,\n 1010,\n 5127,\n 13461,\n 3998,\n 1010,\n 13866,\n 2324,\n 1012,\n 1016,\n 1010,\n 1999,\n 2099,\n 1015,\n 1012,\n 1019,\n 1010,\n 13866,\n 2102,\n 3429,\n 1012,\n 1023,\n 1012,\n 25423,\n 2001,\n 3671,\n 1012,\n 15050,\n 4937,\n 27065,\n 11124,\n 9276,\n 2951,\n 2013,\n 1021,\n 1013,\n 2322,\n 1013,\n 5757,\n 2864,\n 2012,\n 14021,\n 3662,\n 21887,\n 2854,\n 13336,\n 3770,\n 1003,\n 4013,\n 9048,\n 9067,\n 12639,\n 26261,\n 27109,\n 1010,\n 3770,\n 1003,\n 3054,\n 12639,\n 1010,\n 3770,\n 1003,\n 29333,\n 12639,\n 1010,\n 2753,\n 1003,\n 4013,\n 9048,\n 9067,\n 14804,\n 1012,\n 9052,\n 2013,\n 2184,\n 1013,\n 2756,\n 1013,\n 5709,\n 3662,\n 3429,\n 1003,\n 1041,\n 20614,\n 3258,\n 12884,\n 1010,\n 20118,\n 28228,\n 2278,\n 26261,\n 27109,\n 1010,\n 2812,\n 17978,\n 3943,\n 3461,\n 25619,\n 1010,\n 4672,\n 17978,\n 4868,\n 1010,\n 1998,\n 10174,\n 10764,\n 2181,\n 1015,\n 4642,\n 2475,\n 1010,\n 10256,\n 20118,\n 28228,\n 2278,\n 16021,\n 16093,\n 8873,\n 29125,\n 1010,\n 8777,\n 10210,\n 7941,\n 16021,\n 16093,\n 8873,\n 29125,\n 1010,\n 20610,\n 13012,\n 7874,\n 23267,\n 16021,\n 16093,\n 8873,\n 29125,\n 1010,\n 20118,\n 28228,\n 2278,\n 7117,\n 1018,\n 1012,\n 1018,\n 4642,\n 1012,\n 23969,\n 2290,\n 2013,\n 1023,\n 1013,\n 2184,\n 1013,\n 5757,\n 3662,\n 2012,\n 14482,\n 10882,\n 23736,\n 20382,\n 3446,\n 1997,\n 5989,\n 1010,\n 20037,\n 1056,\n 5975,\n 1999,\n 5260,\n 20704,\n 2099,\n 1012,\n 3108,\n 1060,\n 1011,\n 4097,\n 2013,\n 1023,\n 1013,\n 2184,\n 1013,\n 5757,\n 2001,\n 3671,\n 1012,\n 1996,\n 5776,\n 2001,\n 4914,\n 2000,\n 20116,\n 2015,\n 1998,\n 27697,\n 2005,\n 5970,\n 1012,\n 3058,\n 1997,\n 5970,\n 1024,\n 1023,\n 1013,\n 2410,\n 1013,\n 5757,\n 1012,\n 3653,\n 25918,\n 8082,\n 11616,\n 1024,\n 28353,\n 1010,\n 2004,\n 1010,\n 1998,\n 28697,\n 2497,\n 1012,\n 7709,\n 1024,\n 20704,\n 2099,\n 2007,\n 1037,\n 2423,\n 8292,\n 20201,\n 10764,\n 1010,\n 9298,\n 2290,\n 1060,\n 2475,\n 2007,\n 12967,\n 102]"
     },
     "execution_count": 10,
     "metadata": {},
     "output_type": "execute_result"
    }
   ],
   "source": [
    "inputs['input_ids'][1]"
   ],
   "metadata": {
    "collapsed": false,
    "ExecuteTime": {
     "end_time": "2024-02-11T21:34:59.337245200Z",
     "start_time": "2024-02-11T21:34:59.313503900Z"
    }
   },
   "id": "d08a08bcef98de95"
  },
  {
   "cell_type": "code",
   "execution_count": 11,
   "outputs": [
    {
     "data": {
      "text/plain": "[None,\n 0,\n 0,\n 0,\n 0,\n 0,\n 0,\n 0,\n 0,\n None,\n 1,\n 1,\n 1,\n 1,\n 1,\n 1,\n 1,\n 1,\n 1,\n 1,\n 1,\n 1,\n 1,\n 1,\n 1,\n 1,\n 1,\n 1,\n 1,\n 1,\n 1,\n 1,\n 1,\n 1,\n 1,\n 1,\n 1,\n 1,\n 1,\n 1,\n 1,\n 1,\n 1,\n 1,\n 1,\n 1,\n 1,\n 1,\n 1,\n 1,\n 1,\n 1,\n 1,\n 1,\n 1,\n 1,\n 1,\n 1,\n 1,\n 1,\n 1,\n 1,\n 1,\n 1,\n 1,\n 1,\n 1,\n 1,\n 1,\n 1,\n 1,\n 1,\n 1,\n 1,\n 1,\n 1,\n 1,\n 1,\n 1,\n 1,\n 1,\n 1,\n 1,\n 1,\n 1,\n 1,\n 1,\n 1,\n 1,\n 1,\n 1,\n 1,\n 1,\n 1,\n 1,\n 1,\n 1,\n 1,\n 1,\n 1,\n 1,\n 1,\n 1,\n 1,\n 1,\n 1,\n 1,\n 1,\n 1,\n 1,\n 1,\n 1,\n 1,\n 1,\n 1,\n 1,\n 1,\n 1,\n 1,\n 1,\n 1,\n 1,\n 1,\n 1,\n 1,\n 1,\n 1,\n 1,\n 1,\n 1,\n 1,\n 1,\n 1,\n 1,\n 1,\n 1,\n 1,\n 1,\n 1,\n 1,\n 1,\n 1,\n 1,\n 1,\n 1,\n 1,\n 1,\n 1,\n 1,\n 1,\n 1,\n 1,\n 1,\n 1,\n 1,\n 1,\n 1,\n 1,\n 1,\n 1,\n 1,\n 1,\n 1,\n 1,\n 1,\n 1,\n 1,\n 1,\n 1,\n 1,\n 1,\n 1,\n 1,\n 1,\n 1,\n 1,\n 1,\n 1,\n 1,\n 1,\n 1,\n 1,\n 1,\n 1,\n 1,\n 1,\n 1,\n 1,\n 1,\n 1,\n 1,\n 1,\n 1,\n 1,\n 1,\n 1,\n 1,\n 1,\n 1,\n 1,\n 1,\n 1,\n 1,\n 1,\n 1,\n 1,\n 1,\n 1,\n 1,\n 1,\n 1,\n 1,\n 1,\n 1,\n 1,\n 1,\n 1,\n 1,\n 1,\n 1,\n 1,\n 1,\n 1,\n 1,\n 1,\n 1,\n 1,\n 1,\n 1,\n 1,\n 1,\n 1,\n 1,\n 1,\n 1,\n 1,\n 1,\n 1,\n 1,\n 1,\n 1,\n 1,\n 1,\n 1,\n 1,\n 1,\n 1,\n 1,\n 1,\n 1,\n 1,\n 1,\n 1,\n 1,\n 1,\n 1,\n 1,\n 1,\n 1,\n 1,\n 1,\n 1,\n 1,\n 1,\n 1,\n 1,\n 1,\n 1,\n 1,\n 1,\n 1,\n 1,\n 1,\n 1,\n 1,\n 1,\n 1,\n 1,\n 1,\n 1,\n 1,\n 1,\n 1,\n 1,\n 1,\n 1,\n 1,\n 1,\n 1,\n 1,\n 1,\n 1,\n 1,\n 1,\n 1,\n 1,\n 1,\n 1,\n 1,\n 1,\n 1,\n 1,\n 1,\n 1,\n 1,\n 1,\n 1,\n 1,\n 1,\n 1,\n 1,\n 1,\n 1,\n 1,\n 1,\n 1,\n 1,\n 1,\n 1,\n 1,\n 1,\n 1,\n 1,\n 1,\n 1,\n 1,\n 1,\n 1,\n 1,\n 1,\n 1,\n 1,\n 1,\n 1,\n 1,\n 1,\n 1,\n 1,\n 1,\n 1,\n 1,\n 1,\n 1,\n 1,\n 1,\n 1,\n 1,\n 1,\n 1,\n 1,\n 1,\n 1,\n 1,\n 1,\n 1,\n 1,\n 1,\n 1,\n 1,\n 1,\n 1,\n 1,\n 1,\n 1,\n 1,\n 1,\n 1,\n 1,\n 1,\n 1,\n 1,\n 1,\n 1,\n 1,\n 1,\n 1,\n 1,\n 1,\n 1,\n 1,\n 1,\n 1,\n 1,\n 1,\n 1,\n 1,\n 1,\n 1,\n 1,\n 1,\n 1,\n 1,\n 1,\n 1,\n 1,\n 1,\n 1,\n 1,\n 1,\n 1,\n 1,\n 1,\n 1,\n 1,\n 1,\n 1,\n 1,\n 1,\n 1,\n 1,\n 1,\n 1,\n 1,\n 1,\n 1,\n 1,\n 1,\n 1,\n 1,\n 1,\n 1,\n 1,\n 1,\n 1,\n 1,\n 1,\n 1,\n 1,\n 1,\n 1,\n 1,\n 1,\n 1,\n 1,\n 1,\n 1,\n 1,\n 1,\n 1,\n 1,\n 1,\n 1,\n 1,\n 1,\n 1,\n 1,\n 1,\n 1,\n 1,\n 1,\n 1,\n 1,\n 1,\n 1,\n 1,\n 1,\n 1,\n 1,\n 1,\n 1,\n 1,\n 1,\n 1,\n 1,\n 1,\n 1,\n 1,\n 1,\n 1,\n 1,\n 1,\n 1,\n 1,\n 1,\n 1,\n 1,\n 1,\n 1,\n 1,\n 1,\n 1,\n 1,\n 1,\n 1,\n 1,\n 1,\n 1,\n 1,\n 1,\n 1,\n 1,\n 1,\n 1,\n 1,\n 1,\n 1,\n 1,\n 1,\n 1,\n 1,\n 1,\n 1,\n 1,\n 1,\n 1,\n 1,\n 1,\n 1,\n 1,\n 1,\n 1,\n None]"
     },
     "execution_count": 11,
     "metadata": {},
     "output_type": "execute_result"
    }
   ],
   "source": [
    "inputs.sequence_ids(0)"
   ],
   "metadata": {
    "collapsed": false,
    "ExecuteTime": {
     "end_time": "2024-02-11T21:34:59.920762500Z",
     "start_time": "2024-02-11T21:34:59.911534Z"
    }
   },
   "id": "f662b242e20552ec"
  },
  {
   "cell_type": "code",
   "execution_count": 12,
   "outputs": [
    {
     "data": {
      "text/plain": "([21,\n  0,\n  0,\n  0,\n  0,\n  0,\n  29,\n  0,\n  0,\n  0,\n  0,\n  0,\n  0,\n  0,\n  0,\n  0,\n  0,\n  0,\n  287,\n  0,\n  0,\n  0,\n  0,\n  0,\n  0,\n  14,\n  0,\n  0,\n  0,\n  0,\n  0,\n  0,\n  0,\n  0,\n  0,\n  0,\n  0,\n  0,\n  387,\n  0,\n  0,\n  0,\n  0,\n  0,\n  0,\n  0,\n  0],\n [28,\n  0,\n  0,\n  0,\n  0,\n  0,\n  35,\n  0,\n  0,\n  0,\n  0,\n  0,\n  0,\n  0,\n  0,\n  0,\n  0,\n  0,\n  289,\n  0,\n  0,\n  0,\n  0,\n  0,\n  0,\n  15,\n  0,\n  0,\n  0,\n  0,\n  0,\n  0,\n  0,\n  0,\n  0,\n  0,\n  0,\n  0,\n  389,\n  0,\n  0,\n  0,\n  0,\n  0,\n  0,\n  0,\n  0])"
     },
     "execution_count": 12,
     "metadata": {},
     "output_type": "execute_result"
    }
   ],
   "source": [
    "start_positions = []\n",
    "end_positions = []\n",
    "\n",
    "for i, offset in enumerate(inputs[\"offset_mapping\"]):\n",
    "    sample_idx = inputs[\"overflow_to_sample_mapping\"][i]\n",
    "    answer = test['answer'][sample_idx]\n",
    "    start_char = test[\"answer_start\"][sample_idx]\n",
    "    end_char = test[\"answer_start\"][sample_idx] + len(answer)\n",
    "    sequence_ids = inputs.sequence_ids(i)\n",
    "\n",
    "    # Find the start and end of the context]\n",
    "    idx = 0\n",
    "    while sequence_ids[idx] != 1:\n",
    "        idx += 1\n",
    "    context_start = idx\n",
    "    while sequence_ids[idx] == 1:\n",
    "        idx += 1\n",
    "    context_end = idx - 1\n",
    "\n",
    "    # If the answer is not fully inside the context, label is (0, 0)\n",
    "    if offset[context_start][0] > start_char or offset[context_end][1] < end_char:\n",
    "        start_positions.append(0)\n",
    "        end_positions.append(0)\n",
    "    else:\n",
    "        # Otherwise it's the start and end token positions\n",
    "        adder = next(i for i in range(len(inputs['input_ids'][0])) if inputs['input_ids'][0][i] == 102)\n",
    "        idx = context_start\n",
    "        while idx <= context_end and offset[idx][0] <= start_char:\n",
    "            idx += 1\n",
    "        start_positions.append(adder + idx - 1)\n",
    "\n",
    "        idx = context_end\n",
    "        while idx >= context_start and offset[idx][1] >= end_char:\n",
    "            idx -= 1\n",
    "        end_positions.append(adder + idx + 1)\n",
    "\n",
    "start_positions, end_positions"
   ],
   "metadata": {
    "collapsed": false,
    "ExecuteTime": {
     "end_time": "2024-02-11T21:35:00.478951200Z",
     "start_time": "2024-02-11T21:35:00.470639500Z"
    }
   },
   "id": "75ae68775fa13a70"
  },
  {
   "cell_type": "code",
   "execution_count": 13,
   "outputs": [
    {
     "name": "stdout",
     "output_type": "stream",
     "text": [
      "WARNING:tensorflow:From C:\\Users\\knigh\\AppData\\Local\\Programs\\Python\\Python311\\Lib\\site-packages\\keras\\src\\losses.py:2976: The name tf.losses.sparse_softmax_cross_entropy is deprecated. Please use tf.compat.v1.losses.sparse_softmax_cross_entropy instead.\n",
      "Theoretical answer: BP 142/60, labels give: [CLS]\n"
     ]
    }
   ],
   "source": [
    "idx = 2\n",
    "sample_idx = inputs[\"overflow_to_sample_mapping\"][idx]\n",
    "answer = test['answer'][idx]\n",
    "\n",
    "start = start_positions[idx]\n",
    "end = end_positions[idx]\n",
    "labeled_answer = tokenizer.decode(inputs[\"input_ids\"][idx][start : end + 1])\n",
    "\n",
    "print(f\"Theoretical answer: {answer}, labels give: {labeled_answer}\")"
   ],
   "metadata": {
    "collapsed": false,
    "ExecuteTime": {
     "end_time": "2024-02-11T21:35:12.230013300Z",
     "start_time": "2024-02-11T21:35:01.433695400Z"
    }
   },
   "id": "a3260d0895a8e246"
  },
  {
   "cell_type": "code",
   "execution_count": 14,
   "outputs": [
    {
     "data": {
      "text/plain": "'BP 142/60 P 80 wt 174 lbs'"
     },
     "execution_count": 14,
     "metadata": {},
     "output_type": "execute_result"
    }
   ],
   "source": [
    "test['evidence'][2]"
   ],
   "metadata": {
    "collapsed": false,
    "ExecuteTime": {
     "end_time": "2024-02-11T21:35:12.231018800Z",
     "start_time": "2024-02-11T21:35:12.227933500Z"
    }
   },
   "id": "5917cfe2de5aa27a"
  },
  {
   "cell_type": "code",
   "execution_count": 15,
   "outputs": [
    {
     "data": {
      "text/plain": "[101,\n 2339,\n 2038,\n 1996,\n 5776,\n 2042,\n 16250,\n 5869,\n 7646,\n 102,\n 2501,\n 1001,\n 5401,\n 22394,\n 8889,\n 20636,\n 2683,\n 21057,\n 17134,\n 2509,\n 1064,\n 1049,\n 3511,\n 2278,\n 1064,\n 6021,\n 2692,\n 28311,\n 19481,\n 2549,\n 1064,\n 1064,\n 5345,\n 28154,\n 19841,\n 2620,\n 1064,\n 1017,\n 1013,\n 2484,\n 1013,\n 2294,\n 2260,\n 1024,\n 4002,\n 1024,\n 4002,\n 2572,\n 1064,\n 20118,\n 28228,\n 2278,\n 26261,\n 27109,\n 1064,\n 2772,\n 1064,\n 4487,\n 2015,\n 1064,\n 9634,\n 3058,\n 1024,\n 1022,\n 1013,\n 2459,\n 1013,\n 2294,\n 3189,\n 3570,\n 1024,\n 2772,\n 11889,\n 3058,\n 1024,\n 1016,\n 1013,\n 2603,\n 1013,\n 2294,\n 7052,\n 1024,\n 5440,\n 1010,\n 5099,\n 10893,\n 3406,\n 9108,\n 2326,\n 1024,\n 15050,\n 5970,\n 2326,\n 1012,\n 22137,\n 1024,\n 2000,\n 11252,\n 1012,\n 4054,\n 11889,\n 11616,\n 1024,\n 3570,\n 2695,\n 20704,\n 2099,\n 2007,\n 1037,\n 2423,\n 8292,\n 20201,\n 10764,\n 1998,\n 9298,\n 2290,\n 1060,\n 2475,\n 1013,\n 12967,\n 1012,\n 2060,\n 22939,\n 26745,\n 8583,\n 1024,\n 14671,\n 11463,\n 15909,\n 2271,\n 2828,\n 2462,\n 1010,\n 23760,\n 9905,\n 4244,\n 27833,\n 17577,\n 1010,\n 27641,\n 1010,\n 1998,\n 4852,\n 5293,\n 20938,\n 1012,\n 2381,\n 1997,\n 2556,\n 7355,\n 1024,\n 2720,\n 1012,\n 9686,\n 10609,\n 7377,\n 3207,\n 2003,\n 1037,\n 3963,\n 1011,\n 2095,\n 1011,\n 2214,\n 23368,\n 3287,\n 2007,\n 28353,\n 1010,\n 26261,\n 14706,\n 2274,\n 2086,\n 3283,\n 1010,\n 2124,\n 2004,\n 10250,\n 6895,\n 8873,\n 2278,\n 20118,\n 28228,\n 2278,\n 26261,\n 27109,\n 2007,\n 14967,\n 1997,\n 4654,\n 8743,\n 19301,\n 1040,\n 7274,\n 2361,\n 22084,\n 1012,\n 2002,\n 2038,\n 11888,\n 2012,\n 14482,\n 10882,\n 23736,\n 20382,\n 1012,\n 2002,\n 2003,\n 3740,\n 2005,\n 4937,\n 27065,\n 2121,\n 1999,\n 1996,\n 2851,\n 1010,\n 20704,\n 2099,\n 1998,\n 2825,\n 9298,\n 2290,\n 1012,\n 3653,\n 25918,\n 8082,\n 15050,\n 3570,\n 1024,\n 11322,\n 3512,\n 1012,\n 1996,\n 5776,\n 3591,\n 2007,\n 4187,\n 21887,\n 2854,\n 13336,\n 1013,\n 10764,\n 28466,\n 1012,\n 1996,\n 5776,\n 2038,\n 1037,\n 2381,\n 1997,\n 2465,\n 2462,\n 17076,\n 3981,\n 1012,\n 2045,\n 2038,\n 2042,\n 2053,\n 3522,\n 17076,\n 3981,\n 1012,\n 2045,\n 2003,\n 2381,\n 1997,\n 2465,\n 3523,\n 2540,\n 4945,\n 1012,\n 1996,\n 5776,\n 2003,\n 1999,\n 2012,\n 14482,\n 10882,\n 23736,\n 20382,\n 1012,\n 1996,\n 5776,\n 2038,\n 2381,\n 1997,\n 28697,\n 2497,\n 1013,\n 23638,\n 5845,\n 2007,\n 5850,\n 1013,\n 8247,\n 1011,\n 3796,\n 2121,\n 1012,\n 3025,\n 22935,\n 19388,\n 1024,\n 13866,\n 3540,\n 1013,\n 2012,\n 5886,\n 22471,\n 16940,\n 1999,\n 2727,\n 1998,\n 2722,\n 1012,\n 26261,\n 3372,\n 1999,\n 2727,\n 1998,\n 2722,\n 1012,\n 2627,\n 11707,\n 2381,\n 1024,\n 2157,\n 9353,\n 2140,\n 7192,\n 1010,\n 10439,\n 10497,\n 22471,\n 16940,\n 1010,\n 28378,\n 7388,\n 3742,\n 4654,\n 28472,\n 1999,\n 1996,\n 2157,\n 2217,\n 1012,\n 2155,\n 2381,\n 1024,\n 2053,\n 2155,\n 2381,\n 1997,\n 28353,\n 1012,\n 2591,\n 2381,\n 1024,\n 2381,\n 1997,\n 9098,\n 5018,\n 1011,\n 5308,\n 1011,\n 2095,\n 9907,\n 9422,\n 2381,\n 1012,\n 2035,\n 2121,\n 17252,\n 1024,\n 2053,\n 2124,\n 4319,\n 2035,\n 2121,\n 17252,\n 1012,\n 3653,\n 7361,\n 20992,\n 1024,\n 2327,\n 13153,\n 2753,\n 11460,\n 1053,\n 1012,\n 1037,\n 1012,\n 1049,\n 1012,\n 1998,\n 2423,\n 11460,\n 1053,\n 1012,\n 1052,\n 1012,\n 1049,\n 1012,\n 1010,\n 2522,\n 12248,\n 8718,\n 1010,\n 5869,\n 7646,\n 2322,\n 11460,\n 3679,\n 1010,\n 2012,\n 2953,\n 12044,\n 29336,\n 2378,\n 2322,\n 11460,\n 3679,\n 1010,\n 11265,\n 21017,\n 7629,\n 2531,\n 11460,\n 1056,\n 1012,\n 1045,\n 1012,\n 1040,\n 1012,\n 1010,\n 2777,\n 14192,\n 2378,\n 6694,\n 11460,\n 1038,\n 1012,\n 1045,\n 1012,\n 1040,\n 1012,\n 1010,\n 1998,\n 1043,\n 15000,\n 10993,\n 5178,\n 1016,\n 1012,\n 1019,\n 11460,\n 1038,\n 1012,\n 1045,\n 1012,\n 1040,\n 1012,\n 3558,\n 7749,\n 1024,\n 4578,\n 1998,\n 3635,\n 1019,\n 2519,\n 2184,\n 5282,\n 1010,\n 10715,\n 11382,\n 10483,\n 1012,\n 8995,\n 5751,\n 1024,\n 4860,\n 5986,\n 1012,\n 1018,\n 1010,\n 2540,\n 3446,\n 4293,\n 1010,\n 17531,\n 2157,\n 2849,\n 13029,\n 1013,\n 5786,\n 1010,\n 2187,\n 2849,\n 7287,\n 1013,\n 4293,\n 1010,\n 7722,\n 2938,\n 18924,\n 5989,\n 1003,\n 2006,\n 102]"
     },
     "execution_count": 15,
     "metadata": {},
     "output_type": "execute_result"
    }
   ],
   "source": [
    "inputs[\"input_ids\"][0]"
   ],
   "metadata": {
    "collapsed": false,
    "ExecuteTime": {
     "end_time": "2024-02-11T21:35:12.242414200Z",
     "start_time": "2024-02-11T21:35:12.232019100Z"
    }
   },
   "id": "1d842c4615ff4d51"
  },
  {
   "cell_type": "code",
   "execution_count": null,
   "outputs": [],
   "source": [
    "tokenizer.decode(inputs[\"input_ids\"][0])"
   ],
   "metadata": {
    "collapsed": false,
    "ExecuteTime": {
     "start_time": "2024-02-08T02:21:55.336629Z"
    }
   },
   "id": "717ab2c8fac1d7bf"
  },
  {
   "cell_type": "code",
   "execution_count": null,
   "outputs": [],
   "source": [],
   "metadata": {
    "collapsed": false
   },
   "id": "22fe50bc7fb37e2"
  }
 ],
 "metadata": {
  "kernelspec": {
   "display_name": "Python 3",
   "language": "python",
   "name": "python3"
  },
  "language_info": {
   "codemirror_mode": {
    "name": "ipython",
    "version": 2
   },
   "file_extension": ".py",
   "mimetype": "text/x-python",
   "name": "python",
   "nbconvert_exporter": "python",
   "pygments_lexer": "ipython2",
   "version": "2.7.6"
  }
 },
 "nbformat": 4,
 "nbformat_minor": 5
}
