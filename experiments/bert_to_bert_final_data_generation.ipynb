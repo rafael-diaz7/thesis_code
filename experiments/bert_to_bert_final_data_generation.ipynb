{
 "cells": [
  {
   "cell_type": "code",
   "execution_count": 81,
   "id": "initial_id",
   "metadata": {
    "collapsed": true,
    "ExecuteTime": {
     "end_time": "2024-05-22T05:48:59.339360500Z",
     "start_time": "2024-05-22T05:48:58.844073300Z"
    }
   },
   "outputs": [],
   "source": [
    "import pandas as pd\n",
    "from transformers import AutoTokenizer\n",
    "tokenizer = AutoTokenizer.from_pretrained(\"emilyalsentzer/Bio_ClinicalBERT\")"
   ]
  },
  {
   "cell_type": "code",
   "execution_count": 82,
   "outputs": [],
   "source": [
    "# load in the data as all strings"
   ],
   "metadata": {
    "collapsed": false,
    "ExecuteTime": {
     "end_time": "2024-05-22T05:48:59.350077400Z",
     "start_time": "2024-05-22T05:48:59.341774800Z"
    }
   },
   "id": "d03d11006d612cb3"
  },
  {
   "cell_type": "code",
   "execution_count": 91,
   "outputs": [],
   "source": [
    "df_train = pd.read_csv(\"../data/emrqa_context_train_predicted.csv\", dtype=str)\n",
    "df_val = pd.read_csv(\"../data/emrqa_context_val_predicted.csv\", dtype=str)\n",
    "df_test = pd.read_csv(\"../data/emrqa_context_test_predicted.csv\", dtype=str)"
   ],
   "metadata": {
    "collapsed": false,
    "ExecuteTime": {
     "end_time": "2024-05-22T06:13:42.286490800Z",
     "start_time": "2024-05-22T06:13:40.558984500Z"
    }
   },
   "id": "2c29d60040ec01d8"
  },
  {
   "cell_type": "code",
   "execution_count": 92,
   "outputs": [],
   "source": [
    "def calc_token_spans(question, evidence, answer):\n",
    "    if not evidence or evidence == \"NaN\":\n",
    "        return 0, 0\n",
    "    inputs = tokenizer(question, evidence, return_offsets_mapping=True)\n",
    "    offset = inputs['offset_mapping']\n",
    "    calc_answer_start = evidence.find(answer)\n",
    "    end_char = calc_answer_start + len(answer)\n",
    "    sequence_ids = inputs.sequence_ids()\n",
    "\n",
    "    if calc_answer_start == -1:\n",
    "        return 0, 0\n",
    "\n",
    "    idx = 0\n",
    "    while sequence_ids[idx] != 1:\n",
    "        idx += 1\n",
    "    context_start = idx\n",
    "    while sequence_ids[idx] == 1:\n",
    "        idx += 1\n",
    "    context_end = idx - 1\n",
    "\n",
    "    idx = context_start\n",
    "    try:\n",
    "        while idx <= context_end and offset[idx][0] <= calc_answer_start:\n",
    "            idx += 1\n",
    "        start_position = idx - 1\n",
    "\n",
    "        idx = context_end\n",
    "        while idx >= context_start and offset[idx][1] >= end_char:\n",
    "            idx -= 1\n",
    "        end_position = idx + 1\n",
    "    except:\n",
    "        print(offset)\n",
    "        print(idx)\n",
    "        print(len(offset))\n",
    "        print(offset[idx])\n",
    "\n",
    "    # if start_position == end_position:\n",
    "    #     return 0, 0\n",
    "    if start_position >= 512 or end_position >= 512:\n",
    "        return 0, 0\n",
    "    return start_position, end_position"
   ],
   "metadata": {
    "collapsed": false,
    "ExecuteTime": {
     "end_time": "2024-05-22T06:13:42.292877300Z",
     "start_time": "2024-05-22T06:13:42.290006800Z"
    }
   },
   "id": "850c5db51dfae31f"
  },
  {
   "cell_type": "code",
   "execution_count": 93,
   "outputs": [],
   "source": [
    "def convert_to_correct_data(df):\n",
    "    df = df[['question', 'predicted_evidence', 'answer']] \n",
    "    df[['start_token', 'end_token']] = df.apply(lambda x: calc_token_spans(str(x['question']), str(x['predicted_evidence']), str(x['answer'])), axis=1, result_type='expand')\n",
    "    return df"
   ],
   "metadata": {
    "collapsed": false,
    "ExecuteTime": {
     "end_time": "2024-05-22T06:13:42.704935700Z",
     "start_time": "2024-05-22T06:13:42.699927400Z"
    }
   },
   "id": "79da937bfd13b0cc"
  },
  {
   "cell_type": "code",
   "execution_count": 94,
   "outputs": [
    {
     "name": "stderr",
     "output_type": "stream",
     "text": [
      "C:\\Users\\knigh\\AppData\\Local\\Temp\\ipykernel_25096\\1094077.py:3: SettingWithCopyWarning: \n",
      "A value is trying to be set on a copy of a slice from a DataFrame.\n",
      "Try using .loc[row_indexer,col_indexer] = value instead\n",
      "\n",
      "See the caveats in the documentation: https://pandas.pydata.org/pandas-docs/stable/user_guide/indexing.html#returning-a-view-versus-a-copy\n",
      "  df[['start_token', 'end_token']] = df.apply(lambda x: calc_token_spans(str(x['question']), str(x['predicted_evidence']), str(x['answer'])), axis=1, result_type='expand')\n",
      "C:\\Users\\knigh\\AppData\\Local\\Temp\\ipykernel_25096\\1094077.py:3: SettingWithCopyWarning: \n",
      "A value is trying to be set on a copy of a slice from a DataFrame.\n",
      "Try using .loc[row_indexer,col_indexer] = value instead\n",
      "\n",
      "See the caveats in the documentation: https://pandas.pydata.org/pandas-docs/stable/user_guide/indexing.html#returning-a-view-versus-a-copy\n",
      "  df[['start_token', 'end_token']] = df.apply(lambda x: calc_token_spans(str(x['question']), str(x['predicted_evidence']), str(x['answer'])), axis=1, result_type='expand')\n",
      "C:\\Users\\knigh\\AppData\\Local\\Temp\\ipykernel_25096\\1094077.py:3: SettingWithCopyWarning: \n",
      "A value is trying to be set on a copy of a slice from a DataFrame.\n",
      "Try using .loc[row_indexer,col_indexer] = value instead\n",
      "\n",
      "See the caveats in the documentation: https://pandas.pydata.org/pandas-docs/stable/user_guide/indexing.html#returning-a-view-versus-a-copy\n",
      "  df[['start_token', 'end_token']] = df.apply(lambda x: calc_token_spans(str(x['question']), str(x['predicted_evidence']), str(x['answer'])), axis=1, result_type='expand')\n",
      "C:\\Users\\knigh\\AppData\\Local\\Temp\\ipykernel_25096\\1094077.py:3: SettingWithCopyWarning: \n",
      "A value is trying to be set on a copy of a slice from a DataFrame.\n",
      "Try using .loc[row_indexer,col_indexer] = value instead\n",
      "\n",
      "See the caveats in the documentation: https://pandas.pydata.org/pandas-docs/stable/user_guide/indexing.html#returning-a-view-versus-a-copy\n",
      "  df[['start_token', 'end_token']] = df.apply(lambda x: calc_token_spans(str(x['question']), str(x['predicted_evidence']), str(x['answer'])), axis=1, result_type='expand')\n",
      "C:\\Users\\knigh\\AppData\\Local\\Temp\\ipykernel_25096\\1094077.py:3: SettingWithCopyWarning: \n",
      "A value is trying to be set on a copy of a slice from a DataFrame.\n",
      "Try using .loc[row_indexer,col_indexer] = value instead\n",
      "\n",
      "See the caveats in the documentation: https://pandas.pydata.org/pandas-docs/stable/user_guide/indexing.html#returning-a-view-versus-a-copy\n",
      "  df[['start_token', 'end_token']] = df.apply(lambda x: calc_token_spans(str(x['question']), str(x['predicted_evidence']), str(x['answer'])), axis=1, result_type='expand')\n",
      "C:\\Users\\knigh\\AppData\\Local\\Temp\\ipykernel_25096\\1094077.py:3: SettingWithCopyWarning: \n",
      "A value is trying to be set on a copy of a slice from a DataFrame.\n",
      "Try using .loc[row_indexer,col_indexer] = value instead\n",
      "\n",
      "See the caveats in the documentation: https://pandas.pydata.org/pandas-docs/stable/user_guide/indexing.html#returning-a-view-versus-a-copy\n",
      "  df[['start_token', 'end_token']] = df.apply(lambda x: calc_token_spans(str(x['question']), str(x['predicted_evidence']), str(x['answer'])), axis=1, result_type='expand')\n"
     ]
    }
   ],
   "source": [
    "df_train = convert_to_correct_data(df_train)\n",
    "df_val = convert_to_correct_data(df_val)\n",
    "df_test = convert_to_correct_data(df_test)"
   ],
   "metadata": {
    "collapsed": false,
    "ExecuteTime": {
     "end_time": "2024-05-22T06:13:55.484913400Z",
     "start_time": "2024-05-22T06:13:43.073254700Z"
    }
   },
   "id": "88a9f591a194e4d1"
  },
  {
   "cell_type": "code",
   "execution_count": 95,
   "outputs": [
    {
     "data": {
      "text/plain": "                                                question  \\\n0      what interventions were done for the patient's...   \n1      how often does the patient take econazole nitrate   \n2      why is the patient taking ocean spray ( sodium...   \n3                        why is the patient on oxycodone   \n4      has the patient ever screened postive on right...   \n...                                                  ...   \n24133  what is the dosage of the medication the patie...   \n24134  what diagnosis was used for the patient's righ...   \n24135          how often does the patient take micronase   \n24136  what is the dosage of the medication the patie...   \n24137  how was the patient's global hypokinesis diagn...   \n\n                                      predicted_evidence  \\\n0      postoperatively , she was again noted to have ...   \n1      daily , hold\\nfor systolic less than 90 , hear...   \n2      potentially serious interaction: warfarin &amp...   \n3      the patient occasionally takes\\noxycodone for ...   \n4      ekg showed atrial fibrillation , moderate vent...   \n...                                                  ...   \n24133  po ( ref #\\n73021085 )\\npotentially serious in...   \n24134  she was counseled to follow-up with her pcp f ...   \n24135  disposition: home\\ndischarge medications:\\nami...   \n24136  during the\\nprevious admission , she had been ...   \n24137      an echocardiogram showed global hypokinesis .   \n\n                         answer  start_token  end_token  \n0                  thrombectomy           57         61  \n1                         daily           14         14  \n2      other:dried nasal mucosa           89         95  \n3                 fibroid pain.           22         26  \n4                           ekg           18         20  \n...                         ...          ...        ...  \n24133                 lorazepam           51         54  \n24134              her chest ct           52         55  \n24135                       bid           25         25  \n24136                amiodarone           49         52  \n24137         an echocardiogram           15         19  \n\n[24138 rows x 5 columns]",
      "text/html": "<div>\n<style scoped>\n    .dataframe tbody tr th:only-of-type {\n        vertical-align: middle;\n    }\n\n    .dataframe tbody tr th {\n        vertical-align: top;\n    }\n\n    .dataframe thead th {\n        text-align: right;\n    }\n</style>\n<table border=\"1\" class=\"dataframe\">\n  <thead>\n    <tr style=\"text-align: right;\">\n      <th></th>\n      <th>question</th>\n      <th>predicted_evidence</th>\n      <th>answer</th>\n      <th>start_token</th>\n      <th>end_token</th>\n    </tr>\n  </thead>\n  <tbody>\n    <tr>\n      <th>0</th>\n      <td>what interventions were done for the patient's...</td>\n      <td>postoperatively , she was again noted to have ...</td>\n      <td>thrombectomy</td>\n      <td>57</td>\n      <td>61</td>\n    </tr>\n    <tr>\n      <th>1</th>\n      <td>how often does the patient take econazole nitrate</td>\n      <td>daily , hold\\nfor systolic less than 90 , hear...</td>\n      <td>daily</td>\n      <td>14</td>\n      <td>14</td>\n    </tr>\n    <tr>\n      <th>2</th>\n      <td>why is the patient taking ocean spray ( sodium...</td>\n      <td>potentially serious interaction: warfarin &amp;amp...</td>\n      <td>other:dried nasal mucosa</td>\n      <td>89</td>\n      <td>95</td>\n    </tr>\n    <tr>\n      <th>3</th>\n      <td>why is the patient on oxycodone</td>\n      <td>the patient occasionally takes\\noxycodone for ...</td>\n      <td>fibroid pain.</td>\n      <td>22</td>\n      <td>26</td>\n    </tr>\n    <tr>\n      <th>4</th>\n      <td>has the patient ever screened postive on right...</td>\n      <td>ekg showed atrial fibrillation , moderate vent...</td>\n      <td>ekg</td>\n      <td>18</td>\n      <td>20</td>\n    </tr>\n    <tr>\n      <th>...</th>\n      <td>...</td>\n      <td>...</td>\n      <td>...</td>\n      <td>...</td>\n      <td>...</td>\n    </tr>\n    <tr>\n      <th>24133</th>\n      <td>what is the dosage of the medication the patie...</td>\n      <td>po ( ref #\\n73021085 )\\npotentially serious in...</td>\n      <td>lorazepam</td>\n      <td>51</td>\n      <td>54</td>\n    </tr>\n    <tr>\n      <th>24134</th>\n      <td>what diagnosis was used for the patient's righ...</td>\n      <td>she was counseled to follow-up with her pcp f ...</td>\n      <td>her chest ct</td>\n      <td>52</td>\n      <td>55</td>\n    </tr>\n    <tr>\n      <th>24135</th>\n      <td>how often does the patient take micronase</td>\n      <td>disposition: home\\ndischarge medications:\\nami...</td>\n      <td>bid</td>\n      <td>25</td>\n      <td>25</td>\n    </tr>\n    <tr>\n      <th>24136</th>\n      <td>what is the dosage of the medication the patie...</td>\n      <td>during the\\nprevious admission , she had been ...</td>\n      <td>amiodarone</td>\n      <td>49</td>\n      <td>52</td>\n    </tr>\n    <tr>\n      <th>24137</th>\n      <td>how was the patient's global hypokinesis diagn...</td>\n      <td>an echocardiogram showed global hypokinesis .</td>\n      <td>an echocardiogram</td>\n      <td>15</td>\n      <td>19</td>\n    </tr>\n  </tbody>\n</table>\n<p>24138 rows × 5 columns</p>\n</div>"
     },
     "execution_count": 95,
     "metadata": {},
     "output_type": "execute_result"
    }
   ],
   "source": [
    "df_train"
   ],
   "metadata": {
    "collapsed": false,
    "ExecuteTime": {
     "end_time": "2024-05-22T06:13:55.488945600Z",
     "start_time": "2024-05-22T06:13:55.480976300Z"
    }
   },
   "id": "557296d11799164f"
  },
  {
   "cell_type": "code",
   "execution_count": 96,
   "outputs": [],
   "source": [
    "# convert nan data in the predicted evidence to empty string\n",
    "df_train['predicted_evidence'] = df_train['predicted_evidence'].fillna(\"\")\n",
    "df_val['predicted_evidence'] = df_val['predicted_evidence'].fillna(\"\")\n",
    "df_test['predicted_evidence'] = df_test['predicted_evidence'].fillna(\"\")"
   ],
   "metadata": {
    "collapsed": false,
    "ExecuteTime": {
     "end_time": "2024-05-22T06:14:18.526579700Z",
     "start_time": "2024-05-22T06:14:18.513823400Z"
    }
   },
   "id": "374bb7f3ccbba9a9"
  },
  {
   "cell_type": "code",
   "execution_count": 97,
   "outputs": [],
   "source": [
    "df_train.to_csv(\"../data/emrqa_train_bert_predicted.csv\", index=False)\n",
    "df_val.to_csv(\"../data/emrqa_val_bert_predicted.csv\", index=False)\n",
    "df_test.to_csv(\"../data/emrqa_test_bert_predicted.csv\", index=False)"
   ],
   "metadata": {
    "collapsed": false,
    "ExecuteTime": {
     "end_time": "2024-05-22T06:14:20.570860700Z",
     "start_time": "2024-05-22T06:14:20.292875200Z"
    }
   },
   "id": "7ec0f2198c520ea3"
  },
  {
   "cell_type": "code",
   "execution_count": 89,
   "outputs": [
    {
     "data": {
      "text/plain": "0"
     },
     "execution_count": 89,
     "metadata": {},
     "output_type": "execute_result"
    }
   ],
   "source": [
    "df_train['question'].isna().sum()"
   ],
   "metadata": {
    "collapsed": false,
    "ExecuteTime": {
     "end_time": "2024-05-22T06:10:36.957995700Z",
     "start_time": "2024-05-22T06:10:36.933902100Z"
    }
   },
   "id": "a07f7a2b843625cd"
  },
  {
   "cell_type": "code",
   "execution_count": 99,
   "outputs": [
    {
     "data": {
      "text/plain": "question              0\npredicted_evidence    0\nanswer                0\nstart_token           0\nend_token             0\ndtype: int64"
     },
     "execution_count": 99,
     "metadata": {},
     "output_type": "execute_result"
    }
   ],
   "source": [],
   "metadata": {
    "collapsed": false,
    "ExecuteTime": {
     "end_time": "2024-05-22T06:16:08.083025Z",
     "start_time": "2024-05-22T06:16:08.067884800Z"
    }
   },
   "id": "d8ab59e8bd03fc5e"
  },
  {
   "cell_type": "code",
   "execution_count": null,
   "outputs": [],
   "source": [],
   "metadata": {
    "collapsed": false
   },
   "id": "a5072b4d4c2ef4b3"
  }
 ],
 "metadata": {
  "kernelspec": {
   "display_name": "Python 3",
   "language": "python",
   "name": "python3"
  },
  "language_info": {
   "codemirror_mode": {
    "name": "ipython",
    "version": 2
   },
   "file_extension": ".py",
   "mimetype": "text/x-python",
   "name": "python",
   "nbconvert_exporter": "python",
   "pygments_lexer": "ipython2",
   "version": "2.7.6"
  }
 },
 "nbformat": 4,
 "nbformat_minor": 5
}
