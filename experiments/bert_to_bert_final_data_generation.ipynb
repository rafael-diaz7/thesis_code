{
 "cells": [
  {
   "cell_type": "code",
   "execution_count": 81,
   "id": "initial_id",
   "metadata": {
    "collapsed": true,
    "ExecuteTime": {
     "end_time": "2024-05-22T05:48:59.339360500Z",
     "start_time": "2024-05-22T05:48:58.844073300Z"
    }
   },
   "outputs": [],
   "source": [
    "import pandas as pd\n",
    "from transformers import AutoTokenizer\n",
    "tokenizer = AutoTokenizer.from_pretrained(\"emilyalsentzer/Bio_ClinicalBERT\")"
   ]
  },
  {
   "cell_type": "code",
   "execution_count": 82,
   "outputs": [],
   "source": [
    "# load in the data as all strings"
   ],
   "metadata": {
    "collapsed": false,
    "ExecuteTime": {
     "end_time": "2024-05-22T05:48:59.350077400Z",
     "start_time": "2024-05-22T05:48:59.341774800Z"
    }
   },
   "id": "d03d11006d612cb3"
  },
  {
   "cell_type": "code",
   "execution_count": 83,
   "outputs": [],
   "source": [
    "df_train = pd.read_csv(\"../data/emrqa_context_train_predicted.csv\", dtype=str)\n",
    "df_val = pd.read_csv(\"../data/emrqa_context_val_predicted.csv\", dtype=str)\n",
    "df_test = pd.read_csv(\"../data/emrqa_context_test_predicted.csv\", dtype=str)"
   ],
   "metadata": {
    "collapsed": false,
    "ExecuteTime": {
     "end_time": "2024-05-22T05:49:01.016300600Z",
     "start_time": "2024-05-22T05:48:59.343783600Z"
    }
   },
   "id": "2c29d60040ec01d8"
  },
  {
   "cell_type": "code",
   "execution_count": 84,
   "outputs": [],
   "source": [
    "def calc_token_spans(question, evidence, answer):\n",
    "    if not evidence or evidence == \"NaN\":\n",
    "        return 0, 0\n",
    "    inputs = tokenizer(question, evidence, return_offsets_mapping=True)\n",
    "    offset = inputs['offset_mapping']\n",
    "    calc_answer_start = evidence.find(answer)\n",
    "    end_char = calc_answer_start + len(answer)\n",
    "    sequence_ids = inputs.sequence_ids()\n",
    "\n",
    "    if calc_answer_start == -1:\n",
    "        return 0, 0\n",
    "\n",
    "    idx = 0\n",
    "    while sequence_ids[idx] != 1:\n",
    "        idx += 1\n",
    "    context_start = idx\n",
    "    while sequence_ids[idx] == 1:\n",
    "        idx += 1\n",
    "    context_end = idx - 1\n",
    "\n",
    "    idx = context_start\n",
    "    try:\n",
    "        while idx <= context_end and offset[idx][0] <= calc_answer_start:\n",
    "            idx += 1\n",
    "        start_position = idx - 1\n",
    "\n",
    "        idx = context_end\n",
    "        while idx >= context_start and offset[idx][1] >= end_char:\n",
    "            idx -= 1\n",
    "        end_position = idx + 1\n",
    "    except:\n",
    "        print(offset)\n",
    "        print(idx)\n",
    "        print(len(offset))\n",
    "        print(offset[idx])\n",
    "\n",
    "    if start_position == end_position:\n",
    "        return 0, 0\n",
    "    if start_position >= 512 or end_position >= 512:\n",
    "        return 0, 0\n",
    "    return start_position, end_position"
   ],
   "metadata": {
    "collapsed": false,
    "ExecuteTime": {
     "end_time": "2024-05-22T05:49:01.022631300Z",
     "start_time": "2024-05-22T05:49:01.020016400Z"
    }
   },
   "id": "850c5db51dfae31f"
  },
  {
   "cell_type": "code",
   "execution_count": 85,
   "outputs": [],
   "source": [
    "def convert_to_correct_data(df):\n",
    "    df = df[['question', 'predicted_evidence', 'answer']] \n",
    "    df[['start_token', 'end_token']] = df.apply(lambda x: calc_token_spans(str(x['question']), str(x['predicted_evidence']), str(x['answer'])), axis=1, result_type='expand')\n",
    "    return df"
   ],
   "metadata": {
    "collapsed": false,
    "ExecuteTime": {
     "end_time": "2024-05-22T05:49:01.027797400Z",
     "start_time": "2024-05-22T05:49:01.021630900Z"
    }
   },
   "id": "79da937bfd13b0cc"
  },
  {
   "cell_type": "code",
   "execution_count": 86,
   "outputs": [
    {
     "name": "stderr",
     "output_type": "stream",
     "text": [
      "C:\\Users\\knigh\\AppData\\Local\\Temp\\ipykernel_25096\\1094077.py:3: SettingWithCopyWarning: \n",
      "A value is trying to be set on a copy of a slice from a DataFrame.\n",
      "Try using .loc[row_indexer,col_indexer] = value instead\n",
      "\n",
      "See the caveats in the documentation: https://pandas.pydata.org/pandas-docs/stable/user_guide/indexing.html#returning-a-view-versus-a-copy\n",
      "  df[['start_token', 'end_token']] = df.apply(lambda x: calc_token_spans(str(x['question']), str(x['predicted_evidence']), str(x['answer'])), axis=1, result_type='expand')\n",
      "C:\\Users\\knigh\\AppData\\Local\\Temp\\ipykernel_25096\\1094077.py:3: SettingWithCopyWarning: \n",
      "A value is trying to be set on a copy of a slice from a DataFrame.\n",
      "Try using .loc[row_indexer,col_indexer] = value instead\n",
      "\n",
      "See the caveats in the documentation: https://pandas.pydata.org/pandas-docs/stable/user_guide/indexing.html#returning-a-view-versus-a-copy\n",
      "  df[['start_token', 'end_token']] = df.apply(lambda x: calc_token_spans(str(x['question']), str(x['predicted_evidence']), str(x['answer'])), axis=1, result_type='expand')\n",
      "C:\\Users\\knigh\\AppData\\Local\\Temp\\ipykernel_25096\\1094077.py:3: SettingWithCopyWarning: \n",
      "A value is trying to be set on a copy of a slice from a DataFrame.\n",
      "Try using .loc[row_indexer,col_indexer] = value instead\n",
      "\n",
      "See the caveats in the documentation: https://pandas.pydata.org/pandas-docs/stable/user_guide/indexing.html#returning-a-view-versus-a-copy\n",
      "  df[['start_token', 'end_token']] = df.apply(lambda x: calc_token_spans(str(x['question']), str(x['predicted_evidence']), str(x['answer'])), axis=1, result_type='expand')\n",
      "C:\\Users\\knigh\\AppData\\Local\\Temp\\ipykernel_25096\\1094077.py:3: SettingWithCopyWarning: \n",
      "A value is trying to be set on a copy of a slice from a DataFrame.\n",
      "Try using .loc[row_indexer,col_indexer] = value instead\n",
      "\n",
      "See the caveats in the documentation: https://pandas.pydata.org/pandas-docs/stable/user_guide/indexing.html#returning-a-view-versus-a-copy\n",
      "  df[['start_token', 'end_token']] = df.apply(lambda x: calc_token_spans(str(x['question']), str(x['predicted_evidence']), str(x['answer'])), axis=1, result_type='expand')\n",
      "C:\\Users\\knigh\\AppData\\Local\\Temp\\ipykernel_25096\\1094077.py:3: SettingWithCopyWarning: \n",
      "A value is trying to be set on a copy of a slice from a DataFrame.\n",
      "Try using .loc[row_indexer,col_indexer] = value instead\n",
      "\n",
      "See the caveats in the documentation: https://pandas.pydata.org/pandas-docs/stable/user_guide/indexing.html#returning-a-view-versus-a-copy\n",
      "  df[['start_token', 'end_token']] = df.apply(lambda x: calc_token_spans(str(x['question']), str(x['predicted_evidence']), str(x['answer'])), axis=1, result_type='expand')\n",
      "C:\\Users\\knigh\\AppData\\Local\\Temp\\ipykernel_25096\\1094077.py:3: SettingWithCopyWarning: \n",
      "A value is trying to be set on a copy of a slice from a DataFrame.\n",
      "Try using .loc[row_indexer,col_indexer] = value instead\n",
      "\n",
      "See the caveats in the documentation: https://pandas.pydata.org/pandas-docs/stable/user_guide/indexing.html#returning-a-view-versus-a-copy\n",
      "  df[['start_token', 'end_token']] = df.apply(lambda x: calc_token_spans(str(x['question']), str(x['predicted_evidence']), str(x['answer'])), axis=1, result_type='expand')\n"
     ]
    }
   ],
   "source": [
    "df_train = convert_to_correct_data(df_train)\n",
    "df_val = convert_to_correct_data(df_val)\n",
    "df_test = convert_to_correct_data(df_test)"
   ],
   "metadata": {
    "collapsed": false,
    "ExecuteTime": {
     "end_time": "2024-05-22T05:49:10.308007900Z",
     "start_time": "2024-05-22T05:49:01.026797100Z"
    }
   },
   "id": "88a9f591a194e4d1"
  },
  {
   "cell_type": "code",
   "execution_count": 87,
   "outputs": [],
   "source": [
    "# convert nan data in the predicted evidence to empty string\n",
    "df_train['predicted_evidence'] = df_train['predicted_evidence'].fillna(\"\")\n",
    "df_val['predicted_evidence'] = df_val['predicted_evidence'].fillna(\"\")\n",
    "df_test['predicted_evidence'] = df_test['predicted_evidence'].fillna(\"\")"
   ],
   "metadata": {
    "collapsed": false,
    "ExecuteTime": {
     "end_time": "2024-05-22T05:49:10.312954Z",
     "start_time": "2024-05-22T05:49:10.304488500Z"
    }
   },
   "id": "374bb7f3ccbba9a9"
  },
  {
   "cell_type": "code",
   "execution_count": 88,
   "outputs": [],
   "source": [
    "df_train.to_csv(\"../data/emrqa_train_bert_predicted.csv\", index=False)\n",
    "df_val.to_csv(\"../data/emrqa_val_bert_predicted.csv\", index=False)\n",
    "df_test.to_csv(\"../data/emrqa_test_bert_predicted.csv\", index=False)"
   ],
   "metadata": {
    "collapsed": false,
    "ExecuteTime": {
     "end_time": "2024-05-22T05:49:10.581858Z",
     "start_time": "2024-05-22T05:49:10.312954Z"
    }
   },
   "id": "7ec0f2198c520ea3"
  },
  {
   "cell_type": "code",
   "execution_count": null,
   "outputs": [],
   "source": [],
   "metadata": {
    "collapsed": false
   },
   "id": "a07f7a2b843625cd"
  }
 ],
 "metadata": {
  "kernelspec": {
   "display_name": "Python 3",
   "language": "python",
   "name": "python3"
  },
  "language_info": {
   "codemirror_mode": {
    "name": "ipython",
    "version": 2
   },
   "file_extension": ".py",
   "mimetype": "text/x-python",
   "name": "python",
   "nbconvert_exporter": "python",
   "pygments_lexer": "ipython2",
   "version": "2.7.6"
  }
 },
 "nbformat": 4,
 "nbformat_minor": 5
}
