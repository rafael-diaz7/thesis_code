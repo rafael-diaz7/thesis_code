{
 "cells": [
  {
   "cell_type": "code",
   "execution_count": 6,
   "id": "initial_id",
   "metadata": {
    "collapsed": true,
    "ExecuteTime": {
     "end_time": "2024-02-26T21:24:08.682596456Z",
     "start_time": "2024-02-26T21:24:08.521296050Z"
    }
   },
   "outputs": [],
   "source": [
    "from transformers import AutoTokenizer\n",
    "import pandas as pd\n",
    "import numpy as np\n",
    "from experiments.Models import BertBaseline\n"
   ]
  },
  {
   "cell_type": "code",
   "outputs": [
    {
     "name": "stderr",
     "output_type": "stream",
     "text": [
      "2024-02-26 16:24:14.177277: I external/local_xla/xla/stream_executor/cuda/cuda_executor.cc:901] successful NUMA node read from SysFS had negative value (-1), but there must be at least one NUMA node, so returning NUMA node zero. See more at https://github.com/torvalds/linux/blob/v6.0/Documentation/ABI/testing/sysfs-bus-pci#L344-L355\n",
      "2024-02-26 16:24:14.206651: I external/local_xla/xla/stream_executor/cuda/cuda_executor.cc:901] successful NUMA node read from SysFS had negative value (-1), but there must be at least one NUMA node, so returning NUMA node zero. See more at https://github.com/torvalds/linux/blob/v6.0/Documentation/ABI/testing/sysfs-bus-pci#L344-L355\n",
      "2024-02-26 16:24:14.206827: I external/local_xla/xla/stream_executor/cuda/cuda_executor.cc:901] successful NUMA node read from SysFS had negative value (-1), but there must be at least one NUMA node, so returning NUMA node zero. See more at https://github.com/torvalds/linux/blob/v6.0/Documentation/ABI/testing/sysfs-bus-pci#L344-L355\n",
      "2024-02-26 16:24:14.207700: I external/local_xla/xla/stream_executor/cuda/cuda_executor.cc:901] successful NUMA node read from SysFS had negative value (-1), but there must be at least one NUMA node, so returning NUMA node zero. See more at https://github.com/torvalds/linux/blob/v6.0/Documentation/ABI/testing/sysfs-bus-pci#L344-L355\n",
      "2024-02-26 16:24:14.207852: I external/local_xla/xla/stream_executor/cuda/cuda_executor.cc:901] successful NUMA node read from SysFS had negative value (-1), but there must be at least one NUMA node, so returning NUMA node zero. See more at https://github.com/torvalds/linux/blob/v6.0/Documentation/ABI/testing/sysfs-bus-pci#L344-L355\n",
      "2024-02-26 16:24:14.207986: I external/local_xla/xla/stream_executor/cuda/cuda_executor.cc:901] successful NUMA node read from SysFS had negative value (-1), but there must be at least one NUMA node, so returning NUMA node zero. See more at https://github.com/torvalds/linux/blob/v6.0/Documentation/ABI/testing/sysfs-bus-pci#L344-L355\n",
      "2024-02-26 16:24:14.270870: I external/local_xla/xla/stream_executor/cuda/cuda_executor.cc:901] successful NUMA node read from SysFS had negative value (-1), but there must be at least one NUMA node, so returning NUMA node zero. See more at https://github.com/torvalds/linux/blob/v6.0/Documentation/ABI/testing/sysfs-bus-pci#L344-L355\n",
      "2024-02-26 16:24:14.271060: I external/local_xla/xla/stream_executor/cuda/cuda_executor.cc:901] successful NUMA node read from SysFS had negative value (-1), but there must be at least one NUMA node, so returning NUMA node zero. See more at https://github.com/torvalds/linux/blob/v6.0/Documentation/ABI/testing/sysfs-bus-pci#L344-L355\n",
      "2024-02-26 16:24:14.271235: I external/local_xla/xla/stream_executor/cuda/cuda_executor.cc:901] successful NUMA node read from SysFS had negative value (-1), but there must be at least one NUMA node, so returning NUMA node zero. See more at https://github.com/torvalds/linux/blob/v6.0/Documentation/ABI/testing/sysfs-bus-pci#L344-L355\n",
      "2024-02-26 16:24:14.271350: I tensorflow/core/common_runtime/gpu/gpu_device.cc:1929] Created device /job:localhost/replica:0/task:0/device:GPU:0 with 9679 MB memory:  -> device: 0, name: NVIDIA GeForce RTX 4070, pci bus id: 0000:09:00.0, compute capability: 8.9\n",
      "2024-02-26 16:24:14.540160: I external/local_tsl/tsl/platform/default/subprocess.cc:304] Start cannot spawn child process: No such file or directory\n",
      "Some weights of the PyTorch model were not used when initializing the TF 2.0 model TFBertModel: ['cls.predictions.transform.LayerNorm.bias', 'cls.seq_relationship.weight', 'cls.predictions.transform.LayerNorm.weight', 'cls.predictions.transform.dense.bias', 'cls.seq_relationship.bias', 'cls.predictions.transform.dense.weight', 'cls.predictions.bias']\n",
      "- This IS expected if you are initializing TFBertModel from a PyTorch model trained on another task or with another architecture (e.g. initializing a TFBertForSequenceClassification model from a BertForPreTraining model).\n",
      "- This IS NOT expected if you are initializing TFBertModel from a PyTorch model that you expect to be exactly identical (e.g. initializing a TFBertForSequenceClassification model from a BertForSequenceClassification model).\n",
      "All the weights of TFBertModel were initialized from the PyTorch model.\n",
      "If your task is similar to the task the model of the checkpoint was trained on, you can already use TFBertModel for predictions without further training.\n"
     ]
    },
    {
     "name": "stdout",
     "output_type": "stream",
     "text": [
      "Model: \"model\"\n",
      "__________________________________________________________________________________________________\n",
      " Layer (type)                Output Shape                 Param #   Connected to                  \n",
      "==================================================================================================\n",
      " input_ids (InputLayer)      [(None, None)]               0         []                            \n",
      "                                                                                                  \n",
      " attention_mask (InputLayer  [(None, None)]               0         []                            \n",
      " )                                                                                                \n",
      "                                                                                                  \n",
      " tf_bert_model (TFBertModel  TFBaseModelOutputWithPooli   1094822   ['input_ids[0][0]',           \n",
      " )                           ngAndCrossAttentions(last_   40         'attention_mask[0][0]']      \n",
      "                             hidden_state=(None, None,                                            \n",
      "                             768),                                                                \n",
      "                              pooler_output=(None, 768)                                           \n",
      "                             , past_key_values=None, hi                                           \n",
      "                             dden_states=None, attentio                                           \n",
      "                             ns=None, cross_attentions=                                           \n",
      "                             None)                                                                \n",
      "                                                                                                  \n",
      " dense (Dense)               (None, None, 2)              1538      ['tf_bert_model[0][0]']       \n",
      "                                                                                                  \n",
      "==================================================================================================\n",
      "Total params: 109483778 (417.65 MB)\n",
      "Trainable params: 109483778 (417.65 MB)\n",
      "Non-trainable params: 0 (0.00 Byte)\n",
      "__________________________________________________________________________________________________\n",
      "210/210 [==============================] - 103s 483ms/step\n"
     ]
    }
   ],
   "source": [
    "model = BertBaseline()\n",
    "model.load_model_weights('../models/bert_evidence_baseline_weights.h5')\n",
    "tokenizer = AutoTokenizer.from_pretrained('bert-base-uncased')\n",
    "test_dataset = pd.read_csv('../data/emrqa_evidence_test.csv')\n",
    "tokenized_test = tokenizer(test_dataset['question'].to_list(),\n",
    "                           test_dataset['evidence'].to_list(),\n",
    "                           padding='max_length',\n",
    "                           truncation=True,\n",
    "                           max_length=512,\n",
    "                           return_tensors='tf')\n",
    "test_x = (tokenized_test['input_ids'], tokenized_test['attention_mask'])\n",
    "test_y = np.stack((np.eye(512)[test_dataset['start_token']], np.eye(512)[test_dataset['end_token']]), axis=1)\n",
    "results = model.model.predict(test_x, batch_size=32)"
   ],
   "metadata": {
    "collapsed": false,
    "ExecuteTime": {
     "end_time": "2024-02-26T21:26:02.481244126Z",
     "start_time": "2024-02-26T21:24:12.860063167Z"
    }
   },
   "id": "5fd68a50e5208e7b",
   "execution_count": 7
  },
  {
   "cell_type": "code",
   "outputs": [
    {
     "data": {
      "text/plain": "      start  end\n0        13   18\n1        27   29\n2        19   29\n3        27   31\n4        42   43\n...     ...  ...\n6701     11   16\n6702     18   22\n6703     28   28\n6704     16   17\n6705     25   25\n\n[6706 rows x 2 columns]",
      "text/html": "<div>\n<style scoped>\n    .dataframe tbody tr th:only-of-type {\n        vertical-align: middle;\n    }\n\n    .dataframe tbody tr th {\n        vertical-align: top;\n    }\n\n    .dataframe thead th {\n        text-align: right;\n    }\n</style>\n<table border=\"1\" class=\"dataframe\">\n  <thead>\n    <tr style=\"text-align: right;\">\n      <th></th>\n      <th>start</th>\n      <th>end</th>\n    </tr>\n  </thead>\n  <tbody>\n    <tr>\n      <th>0</th>\n      <td>13</td>\n      <td>18</td>\n    </tr>\n    <tr>\n      <th>1</th>\n      <td>27</td>\n      <td>29</td>\n    </tr>\n    <tr>\n      <th>2</th>\n      <td>19</td>\n      <td>29</td>\n    </tr>\n    <tr>\n      <th>3</th>\n      <td>27</td>\n      <td>31</td>\n    </tr>\n    <tr>\n      <th>4</th>\n      <td>42</td>\n      <td>43</td>\n    </tr>\n    <tr>\n      <th>...</th>\n      <td>...</td>\n      <td>...</td>\n    </tr>\n    <tr>\n      <th>6701</th>\n      <td>11</td>\n      <td>16</td>\n    </tr>\n    <tr>\n      <th>6702</th>\n      <td>18</td>\n      <td>22</td>\n    </tr>\n    <tr>\n      <th>6703</th>\n      <td>28</td>\n      <td>28</td>\n    </tr>\n    <tr>\n      <th>6704</th>\n      <td>16</td>\n      <td>17</td>\n    </tr>\n    <tr>\n      <th>6705</th>\n      <td>25</td>\n      <td>25</td>\n    </tr>\n  </tbody>\n</table>\n<p>6706 rows × 2 columns</p>\n</div>"
     },
     "execution_count": 34,
     "metadata": {},
     "output_type": "execute_result"
    }
   ],
   "source": [
    "starts = []\n",
    "ends = []\n",
    "for i in results:\n",
    "    i = i.T\n",
    "    starts.append(np.argmax(i[0]))\n",
    "    ends.append(np.argmax(i[1]))\n",
    "predictions = pd.DataFrame({\"start\": starts, \"end\": ends})\n",
    "predictions"
   ],
   "metadata": {
    "collapsed": false,
    "ExecuteTime": {
     "end_time": "2024-02-26T21:41:25.299746516Z",
     "start_time": "2024-02-26T21:41:25.238863499Z"
    }
   },
   "id": "3dae7c35ebdfe82d",
   "execution_count": 34
  },
  {
   "cell_type": "code",
   "outputs": [
    {
     "data": {
      "text/plain": "      start  end\n0        13   18\n1        27   29\n2        19   29\n3        27   31\n4        42   43\n...     ...  ...\n6701     11   16\n6702     18   22\n6703     28   28\n6704     16   17\n6705     25   25\n\n[6706 rows x 2 columns]",
      "text/html": "<div>\n<style scoped>\n    .dataframe tbody tr th:only-of-type {\n        vertical-align: middle;\n    }\n\n    .dataframe tbody tr th {\n        vertical-align: top;\n    }\n\n    .dataframe thead th {\n        text-align: right;\n    }\n</style>\n<table border=\"1\" class=\"dataframe\">\n  <thead>\n    <tr style=\"text-align: right;\">\n      <th></th>\n      <th>start</th>\n      <th>end</th>\n    </tr>\n  </thead>\n  <tbody>\n    <tr>\n      <th>0</th>\n      <td>13</td>\n      <td>18</td>\n    </tr>\n    <tr>\n      <th>1</th>\n      <td>27</td>\n      <td>29</td>\n    </tr>\n    <tr>\n      <th>2</th>\n      <td>19</td>\n      <td>29</td>\n    </tr>\n    <tr>\n      <th>3</th>\n      <td>27</td>\n      <td>31</td>\n    </tr>\n    <tr>\n      <th>4</th>\n      <td>42</td>\n      <td>43</td>\n    </tr>\n    <tr>\n      <th>...</th>\n      <td>...</td>\n      <td>...</td>\n    </tr>\n    <tr>\n      <th>6701</th>\n      <td>11</td>\n      <td>16</td>\n    </tr>\n    <tr>\n      <th>6702</th>\n      <td>18</td>\n      <td>22</td>\n    </tr>\n    <tr>\n      <th>6703</th>\n      <td>28</td>\n      <td>28</td>\n    </tr>\n    <tr>\n      <th>6704</th>\n      <td>16</td>\n      <td>17</td>\n    </tr>\n    <tr>\n      <th>6705</th>\n      <td>25</td>\n      <td>25</td>\n    </tr>\n  </tbody>\n</table>\n<p>6706 rows × 2 columns</p>\n</div>"
     },
     "execution_count": 40,
     "metadata": {},
     "output_type": "execute_result"
    }
   ],
   "source": [
    "starts_truth = []\n",
    "ends_truth = []\n",
    "for i in test_y:\n",
    "    starts_truth.append(np.argmax(i[0]))\n",
    "    ends_truth.append(np.argmax(i[1]))\n",
    "truth = pd.DataFrame({\"start\": starts_truth, \"end\": ends_truth})\n",
    "truth"
   ],
   "metadata": {
    "collapsed": false,
    "ExecuteTime": {
     "end_time": "2024-02-26T21:57:56.010053092Z",
     "start_time": "2024-02-26T21:57:55.936788421Z"
    }
   },
   "id": "d00afd8363443d7d",
   "execution_count": 40
  },
  {
   "cell_type": "code",
   "outputs": [
    {
     "name": "stdout",
     "output_type": "stream",
     "text": [
      "0\n"
     ]
    }
   ],
   "source": [
    "incorrect = 0\n",
    "for ind, i in enumerate(truth):\n",
    "    t = truth.iloc[ind].to_numpy()\n",
    "    p = predictions.iloc[ind].to_numpy()\n",
    "    if not (sum(t == p) == 2):\n",
    "        incorrect += 1\n",
    "print(incorrect)"
   ],
   "metadata": {
    "collapsed": false,
    "ExecuteTime": {
     "end_time": "2024-02-26T22:08:59.516056744Z",
     "start_time": "2024-02-26T22:08:59.510935541Z"
    }
   },
   "id": "a2ab91c21591c9dd",
   "execution_count": 53
  },
  {
   "cell_type": "code",
   "outputs": [
    {
     "data": {
      "text/plain": "2"
     },
     "execution_count": 50,
     "metadata": {},
     "output_type": "execute_result"
    }
   ],
   "source": [
    "sum(t == p)"
   ],
   "metadata": {
    "collapsed": false,
    "ExecuteTime": {
     "end_time": "2024-02-26T22:04:53.410331975Z",
     "start_time": "2024-02-26T22:04:53.405873721Z"
    }
   },
   "id": "34cbfba2c6a830cf",
   "execution_count": 50
  },
  {
   "cell_type": "code",
   "outputs": [],
   "source": [],
   "metadata": {
    "collapsed": false
   },
   "id": "35dc2d691697ba4f"
  }
 ],
 "metadata": {
  "kernelspec": {
   "display_name": "Python 3",
   "language": "python",
   "name": "python3"
  },
  "language_info": {
   "codemirror_mode": {
    "name": "ipython",
    "version": 2
   },
   "file_extension": ".py",
   "mimetype": "text/x-python",
   "name": "python",
   "nbconvert_exporter": "python",
   "pygments_lexer": "ipython2",
   "version": "2.7.6"
  }
 },
 "nbformat": 4,
 "nbformat_minor": 5
}
