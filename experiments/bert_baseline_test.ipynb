{
 "cells": [
  {
   "cell_type": "code",
   "execution_count": 1,
   "id": "initial_id",
   "metadata": {
    "collapsed": true,
    "ExecuteTime": {
     "end_time": "2024-03-26T00:04:30.700213Z",
     "start_time": "2024-03-26T00:04:26.430742Z"
    }
   },
   "outputs": [
    {
     "name": "stderr",
     "output_type": "stream",
     "text": [
      "2024-03-25 20:04:28.474110: E external/local_xla/xla/stream_executor/cuda/cuda_dnn.cc:9261] Unable to register cuDNN factory: Attempting to register factory for plugin cuDNN when one has already been registered\n",
      "2024-03-25 20:04:28.474178: E external/local_xla/xla/stream_executor/cuda/cuda_fft.cc:607] Unable to register cuFFT factory: Attempting to register factory for plugin cuFFT when one has already been registered\n",
      "2024-03-25 20:04:28.554037: E external/local_xla/xla/stream_executor/cuda/cuda_blas.cc:1515] Unable to register cuBLAS factory: Attempting to register factory for plugin cuBLAS when one has already been registered\n",
      "2024-03-25 20:04:28.721754: I tensorflow/core/platform/cpu_feature_guard.cc:182] This TensorFlow binary is optimized to use available CPU instructions in performance-critical operations.\n",
      "To enable the following instructions: AVX2 FMA, in other operations, rebuild TensorFlow with the appropriate compiler flags.\n",
      "2024-03-25 20:04:29.629469: W tensorflow/compiler/tf2tensorrt/utils/py_utils.cc:38] TF-TRT Warning: Could not find TensorRT\n"
     ]
    }
   ],
   "source": [
    "from transformers import AutoTokenizer\n",
    "import pandas as pd\n",
    "import numpy as np\n",
    "from experiments.Models import BertBaseline\n"
   ]
  },
  {
   "cell_type": "code",
   "outputs": [
    {
     "name": "stderr",
     "output_type": "stream",
     "text": [
      "Some weights of the PyTorch model were not used when initializing the TF 2.0 model TFBertModel: ['cls.predictions.transform.dense.bias', 'cls.predictions.transform.LayerNorm.bias', 'cls.seq_relationship.bias', 'cls.predictions.transform.dense.weight', 'cls.seq_relationship.weight', 'cls.predictions.transform.LayerNorm.weight', 'cls.predictions.bias']\n",
      "- This IS expected if you are initializing TFBertModel from a PyTorch model trained on another task or with another architecture (e.g. initializing a TFBertForSequenceClassification model from a BertForPreTraining model).\n",
      "- This IS NOT expected if you are initializing TFBertModel from a PyTorch model that you expect to be exactly identical (e.g. initializing a TFBertForSequenceClassification model from a BertForSequenceClassification model).\n",
      "All the weights of TFBertModel were initialized from the PyTorch model.\n",
      "If your task is similar to the task the model of the checkpoint was trained on, you can already use TFBertModel for predictions without further training.\n"
     ]
    },
    {
     "name": "stdout",
     "output_type": "stream",
     "text": [
      "Model: \"model_1\"\n",
      "__________________________________________________________________________________________________\n",
      " Layer (type)                Output Shape                 Param #   Connected to                  \n",
      "==================================================================================================\n",
      " input_ids (InputLayer)      [(None, None)]               0         []                            \n",
      "                                                                                                  \n",
      " attention_mask (InputLayer  [(None, None)]               0         []                            \n",
      " )                                                                                                \n",
      "                                                                                                  \n",
      " tf_bert_model_1 (TFBertMod  TFBaseModelOutputWithPooli   1094822   ['input_ids[0][0]',           \n",
      " el)                         ngAndCrossAttentions(last_   40         'attention_mask[0][0]']      \n",
      "                             hidden_state=(None, None,                                            \n",
      "                             768),                                                                \n",
      "                              pooler_output=(None, 768)                                           \n",
      "                             , past_key_values=None, hi                                           \n",
      "                             dden_states=None, attentio                                           \n",
      "                             ns=None, cross_attentions=                                           \n",
      "                             None)                                                                \n",
      "                                                                                                  \n",
      " dense_1 (Dense)             (None, None, 2)              1538      ['tf_bert_model_1[0][0]']     \n",
      "                                                                                                  \n",
      "==================================================================================================\n",
      "Total params: 109483778 (417.65 MB)\n",
      "Trainable params: 109483778 (417.65 MB)\n",
      "Non-trainable params: 0 (0.00 Byte)\n",
      "__________________________________________________________________________________________________\n",
      "207/207 [==============================] - 97s 463ms/step\n"
     ]
    }
   ],
   "source": [
    "model = BertBaseline()\n",
    "model.load_model_weights('../models/bert_evidence_baseline_weights.h5')\n",
    "tokenizer = AutoTokenizer.from_pretrained('bert-base-uncased')\n",
    "test_dataset = pd.read_csv('../data/emrqa_evidence_test.csv')\n",
    "tokenized_test = tokenizer(test_dataset['question'].to_list(),\n",
    "                           test_dataset['evidence'].to_list(),\n",
    "                           padding='max_length',\n",
    "                           truncation=True,\n",
    "                           max_length=512,\n",
    "                           return_tensors='tf')\n",
    "test_x = (tokenized_test['input_ids'], tokenized_test['attention_mask'])\n",
    "test_y = np.stack((np.eye(512)[test_dataset['start_token']], np.eye(512)[test_dataset['end_token']]), axis=1)\n",
    "results = model.model.predict(test_x, batch_size=32)"
   ],
   "metadata": {
    "collapsed": false,
    "ExecuteTime": {
     "end_time": "2024-03-26T00:06:24.666651Z",
     "start_time": "2024-03-26T00:04:42.949776Z"
    }
   },
   "id": "5fd68a50e5208e7b",
   "execution_count": 3
  },
  {
   "cell_type": "code",
   "outputs": [
    {
     "data": {
      "text/plain": "      start  end\n0        25   27\n1        40   40\n2        20   23\n3        33   38\n4        10   13\n...     ...  ...\n6596     30   32\n6597     15   16\n6598     12   24\n6599     22   27\n6600     21   22\n\n[6601 rows x 2 columns]",
      "text/html": "<div>\n<style scoped>\n    .dataframe tbody tr th:only-of-type {\n        vertical-align: middle;\n    }\n\n    .dataframe tbody tr th {\n        vertical-align: top;\n    }\n\n    .dataframe thead th {\n        text-align: right;\n    }\n</style>\n<table border=\"1\" class=\"dataframe\">\n  <thead>\n    <tr style=\"text-align: right;\">\n      <th></th>\n      <th>start</th>\n      <th>end</th>\n    </tr>\n  </thead>\n  <tbody>\n    <tr>\n      <th>0</th>\n      <td>25</td>\n      <td>27</td>\n    </tr>\n    <tr>\n      <th>1</th>\n      <td>40</td>\n      <td>40</td>\n    </tr>\n    <tr>\n      <th>2</th>\n      <td>20</td>\n      <td>23</td>\n    </tr>\n    <tr>\n      <th>3</th>\n      <td>33</td>\n      <td>38</td>\n    </tr>\n    <tr>\n      <th>4</th>\n      <td>10</td>\n      <td>13</td>\n    </tr>\n    <tr>\n      <th>...</th>\n      <td>...</td>\n      <td>...</td>\n    </tr>\n    <tr>\n      <th>6596</th>\n      <td>30</td>\n      <td>32</td>\n    </tr>\n    <tr>\n      <th>6597</th>\n      <td>15</td>\n      <td>16</td>\n    </tr>\n    <tr>\n      <th>6598</th>\n      <td>12</td>\n      <td>24</td>\n    </tr>\n    <tr>\n      <th>6599</th>\n      <td>22</td>\n      <td>27</td>\n    </tr>\n    <tr>\n      <th>6600</th>\n      <td>21</td>\n      <td>22</td>\n    </tr>\n  </tbody>\n</table>\n<p>6601 rows × 2 columns</p>\n</div>"
     },
     "execution_count": 4,
     "metadata": {},
     "output_type": "execute_result"
    }
   ],
   "source": [
    "starts = []\n",
    "ends = []\n",
    "for i in results:\n",
    "    i = i.T\n",
    "    starts.append(np.argmax(i[0]))\n",
    "    ends.append(np.argmax(i[1]))\n",
    "predictions = pd.DataFrame({\"start\": starts, \"end\": ends})\n",
    "predictions"
   ],
   "metadata": {
    "collapsed": false,
    "ExecuteTime": {
     "end_time": "2024-03-26T00:06:24.716706Z",
     "start_time": "2024-03-26T00:06:24.667611Z"
    }
   },
   "id": "3dae7c35ebdfe82d",
   "execution_count": 4
  },
  {
   "cell_type": "code",
   "outputs": [
    {
     "data": {
      "text/plain": "      start  end\n0        25   27\n1        40   40\n2        20   23\n3        33   38\n4        10   13\n...     ...  ...\n6596     30   32\n6597     15   16\n6598     12   24\n6599     22   27\n6600     21   22\n\n[6601 rows x 2 columns]",
      "text/html": "<div>\n<style scoped>\n    .dataframe tbody tr th:only-of-type {\n        vertical-align: middle;\n    }\n\n    .dataframe tbody tr th {\n        vertical-align: top;\n    }\n\n    .dataframe thead th {\n        text-align: right;\n    }\n</style>\n<table border=\"1\" class=\"dataframe\">\n  <thead>\n    <tr style=\"text-align: right;\">\n      <th></th>\n      <th>start</th>\n      <th>end</th>\n    </tr>\n  </thead>\n  <tbody>\n    <tr>\n      <th>0</th>\n      <td>25</td>\n      <td>27</td>\n    </tr>\n    <tr>\n      <th>1</th>\n      <td>40</td>\n      <td>40</td>\n    </tr>\n    <tr>\n      <th>2</th>\n      <td>20</td>\n      <td>23</td>\n    </tr>\n    <tr>\n      <th>3</th>\n      <td>33</td>\n      <td>38</td>\n    </tr>\n    <tr>\n      <th>4</th>\n      <td>10</td>\n      <td>13</td>\n    </tr>\n    <tr>\n      <th>...</th>\n      <td>...</td>\n      <td>...</td>\n    </tr>\n    <tr>\n      <th>6596</th>\n      <td>30</td>\n      <td>32</td>\n    </tr>\n    <tr>\n      <th>6597</th>\n      <td>15</td>\n      <td>16</td>\n    </tr>\n    <tr>\n      <th>6598</th>\n      <td>12</td>\n      <td>24</td>\n    </tr>\n    <tr>\n      <th>6599</th>\n      <td>22</td>\n      <td>27</td>\n    </tr>\n    <tr>\n      <th>6600</th>\n      <td>21</td>\n      <td>22</td>\n    </tr>\n  </tbody>\n</table>\n<p>6601 rows × 2 columns</p>\n</div>"
     },
     "execution_count": 5,
     "metadata": {},
     "output_type": "execute_result"
    }
   ],
   "source": [
    "starts_truth = []\n",
    "ends_truth = []\n",
    "for i in test_y:\n",
    "    starts_truth.append(np.argmax(i[0]))\n",
    "    ends_truth.append(np.argmax(i[1]))\n",
    "truth = pd.DataFrame({\"start\": starts_truth, \"end\": ends_truth})\n",
    "truth"
   ],
   "metadata": {
    "collapsed": false,
    "ExecuteTime": {
     "end_time": "2024-03-26T00:06:24.763384Z",
     "start_time": "2024-03-26T00:06:24.717440Z"
    }
   },
   "id": "d00afd8363443d7d",
   "execution_count": 5
  },
  {
   "cell_type": "code",
   "outputs": [
    {
     "name": "stdout",
     "output_type": "stream",
     "text": [
      "0\n"
     ]
    }
   ],
   "source": [
    "incorrect = 0\n",
    "for ind, i in enumerate(truth):\n",
    "    t = truth.iloc[ind].to_numpy()\n",
    "    p = predictions.iloc[ind].to_numpy()\n",
    "    if not (sum(t == p) == 2):\n",
    "        incorrect += 1\n",
    "print(incorrect)"
   ],
   "metadata": {
    "collapsed": false,
    "ExecuteTime": {
     "end_time": "2024-03-26T00:06:24.767244Z",
     "start_time": "2024-03-26T00:06:24.764490Z"
    }
   },
   "id": "a2ab91c21591c9dd",
   "execution_count": 6
  },
  {
   "cell_type": "code",
   "outputs": [
    {
     "data": {
      "text/plain": "2"
     },
     "execution_count": 6,
     "metadata": {},
     "output_type": "execute_result"
    }
   ],
   "source": [
    "sum(t == p)"
   ],
   "metadata": {
    "collapsed": false,
    "ExecuteTime": {
     "end_time": "2024-03-25T23:46:22.371759Z",
     "start_time": "2024-03-25T23:46:22.366727Z"
    }
   },
   "id": "34cbfba2c6a830cf",
   "execution_count": 6
  },
  {
   "cell_type": "code",
   "outputs": [],
   "source": [],
   "metadata": {
    "collapsed": false
   },
   "id": "35dc2d691697ba4f"
  }
 ],
 "metadata": {
  "kernelspec": {
   "display_name": "Python 3",
   "language": "python",
   "name": "python3"
  },
  "language_info": {
   "codemirror_mode": {
    "name": "ipython",
    "version": 2
   },
   "file_extension": ".py",
   "mimetype": "text/x-python",
   "name": "python",
   "nbconvert_exporter": "python",
   "pygments_lexer": "ipython2",
   "version": "2.7.6"
  }
 },
 "nbformat": 4,
 "nbformat_minor": 5
}
