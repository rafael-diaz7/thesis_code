{
 "cells": [
  {
   "cell_type": "code",
   "id": "initial_id",
   "metadata": {
    "collapsed": true,
    "ExecuteTime": {
     "end_time": "2024-04-11T01:28:29.916581Z",
     "start_time": "2024-04-11T01:28:29.914451Z"
    }
   },
   "source": [
    "import pandas as pd\n",
    "from Models import BertBaseline\n",
    "import tensorflow as tf\n",
    "import numpy as np\n",
    "import re"
   ],
   "outputs": [],
   "execution_count": 36
  },
  {
   "metadata": {
    "ExecuteTime": {
     "end_time": "2024-04-11T01:06:39.928426Z",
     "start_time": "2024-04-11T01:06:33.765645Z"
    }
   },
   "cell_type": "code",
   "source": [
    "df = pd.read_csv('../data/emrqa_tfidf_evidence_test.csv')\n",
    "model = BertBaseline()"
   ],
   "id": "a827f2274089b6a8",
   "outputs": [
    {
     "name": "stderr",
     "output_type": "stream",
     "text": [
      "2024-04-10 21:06:35.347389: I external/local_xla/xla/stream_executor/cuda/cuda_executor.cc:901] successful NUMA node read from SysFS had negative value (-1), but there must be at least one NUMA node, so returning NUMA node zero. See more at https://github.com/torvalds/linux/blob/v6.0/Documentation/ABI/testing/sysfs-bus-pci#L344-L355\n",
      "2024-04-10 21:06:35.381533: I external/local_xla/xla/stream_executor/cuda/cuda_executor.cc:901] successful NUMA node read from SysFS had negative value (-1), but there must be at least one NUMA node, so returning NUMA node zero. See more at https://github.com/torvalds/linux/blob/v6.0/Documentation/ABI/testing/sysfs-bus-pci#L344-L355\n",
      "2024-04-10 21:06:35.381723: I external/local_xla/xla/stream_executor/cuda/cuda_executor.cc:901] successful NUMA node read from SysFS had negative value (-1), but there must be at least one NUMA node, so returning NUMA node zero. See more at https://github.com/torvalds/linux/blob/v6.0/Documentation/ABI/testing/sysfs-bus-pci#L344-L355\n",
      "2024-04-10 21:06:35.382638: I external/local_xla/xla/stream_executor/cuda/cuda_executor.cc:901] successful NUMA node read from SysFS had negative value (-1), but there must be at least one NUMA node, so returning NUMA node zero. See more at https://github.com/torvalds/linux/blob/v6.0/Documentation/ABI/testing/sysfs-bus-pci#L344-L355\n",
      "2024-04-10 21:06:35.382789: I external/local_xla/xla/stream_executor/cuda/cuda_executor.cc:901] successful NUMA node read from SysFS had negative value (-1), but there must be at least one NUMA node, so returning NUMA node zero. See more at https://github.com/torvalds/linux/blob/v6.0/Documentation/ABI/testing/sysfs-bus-pci#L344-L355\n",
      "2024-04-10 21:06:35.382923: I external/local_xla/xla/stream_executor/cuda/cuda_executor.cc:901] successful NUMA node read from SysFS had negative value (-1), but there must be at least one NUMA node, so returning NUMA node zero. See more at https://github.com/torvalds/linux/blob/v6.0/Documentation/ABI/testing/sysfs-bus-pci#L344-L355\n",
      "2024-04-10 21:06:35.442767: I external/local_xla/xla/stream_executor/cuda/cuda_executor.cc:901] successful NUMA node read from SysFS had negative value (-1), but there must be at least one NUMA node, so returning NUMA node zero. See more at https://github.com/torvalds/linux/blob/v6.0/Documentation/ABI/testing/sysfs-bus-pci#L344-L355\n",
      "2024-04-10 21:06:35.442931: I external/local_xla/xla/stream_executor/cuda/cuda_executor.cc:901] successful NUMA node read from SysFS had negative value (-1), but there must be at least one NUMA node, so returning NUMA node zero. See more at https://github.com/torvalds/linux/blob/v6.0/Documentation/ABI/testing/sysfs-bus-pci#L344-L355\n",
      "2024-04-10 21:06:35.443089: I external/local_xla/xla/stream_executor/cuda/cuda_executor.cc:901] successful NUMA node read from SysFS had negative value (-1), but there must be at least one NUMA node, so returning NUMA node zero. See more at https://github.com/torvalds/linux/blob/v6.0/Documentation/ABI/testing/sysfs-bus-pci#L344-L355\n",
      "2024-04-10 21:06:35.443229: I tensorflow/core/common_runtime/gpu/gpu_device.cc:1929] Created device /job:localhost/replica:0/task:0/device:GPU:0 with 8206 MB memory:  -> device: 0, name: NVIDIA GeForce RTX 4070, pci bus id: 0000:09:00.0, compute capability: 8.9\n",
      "2024-04-10 21:06:35.716675: I external/local_tsl/tsl/platform/default/subprocess.cc:304] Start cannot spawn child process: No such file or directory\n",
      "Some weights of the PyTorch model were not used when initializing the TF 2.0 model TFBertModel: ['cls.seq_relationship.bias', 'cls.seq_relationship.weight', 'cls.predictions.transform.dense.bias', 'cls.predictions.transform.LayerNorm.weight', 'cls.predictions.transform.LayerNorm.bias', 'cls.predictions.transform.dense.weight', 'cls.predictions.bias']\n",
      "- This IS expected if you are initializing TFBertModel from a PyTorch model trained on another task or with another architecture (e.g. initializing a TFBertForSequenceClassification model from a BertForPreTraining model).\n",
      "- This IS NOT expected if you are initializing TFBertModel from a PyTorch model that you expect to be exactly identical (e.g. initializing a TFBertForSequenceClassification model from a BertForSequenceClassification model).\n",
      "All the weights of TFBertModel were initialized from the PyTorch model.\n",
      "If your task is similar to the task the model of the checkpoint was trained on, you can already use TFBertModel for predictions without further training.\n"
     ]
    },
    {
     "name": "stdout",
     "output_type": "stream",
     "text": [
      "Model: \"model\"\n",
      "__________________________________________________________________________________________________\n",
      " Layer (type)                Output Shape                 Param #   Connected to                  \n",
      "==================================================================================================\n",
      " input_ids (InputLayer)      [(None, None)]               0         []                            \n",
      "                                                                                                  \n",
      " attention_mask (InputLayer  [(None, None)]               0         []                            \n",
      " )                                                                                                \n",
      "                                                                                                  \n",
      " tf_bert_model (TFBertModel  TFBaseModelOutputWithPooli   1094822   ['input_ids[0][0]',           \n",
      " )                           ngAndCrossAttentions(last_   40         'attention_mask[0][0]']      \n",
      "                             hidden_state=(None, None,                                            \n",
      "                             768),                                                                \n",
      "                              pooler_output=(None, 768)                                           \n",
      "                             , past_key_values=None, hi                                           \n",
      "                             dden_states=None, attentio                                           \n",
      "                             ns=None, cross_attentions=                                           \n",
      "                             None)                                                                \n",
      "                                                                                                  \n",
      " dense (Dense)               (None, None, 2)              1538      ['tf_bert_model[0][0]']       \n",
      "                                                                                                  \n",
      "==================================================================================================\n",
      "Total params: 109483778 (417.65 MB)\n",
      "Trainable params: 109483778 (417.65 MB)\n",
      "Non-trainable params: 0 (0.00 Byte)\n",
      "__________________________________________________________________________________________________\n"
     ]
    }
   ],
   "execution_count": 3
  },
  {
   "metadata": {
    "ExecuteTime": {
     "end_time": "2024-04-11T01:06:39.931022Z",
     "start_time": "2024-04-11T01:06:39.929143Z"
    }
   },
   "cell_type": "code",
   "source": "model_dir = '../models/weights_Apr_10_bert_evidence_baseline'",
   "id": "88fa4347f3f6d6fa",
   "outputs": [],
   "execution_count": 4
  },
  {
   "metadata": {
    "ExecuteTime": {
     "end_time": "2024-04-11T01:06:39.936313Z",
     "start_time": "2024-04-11T01:06:39.932115Z"
    }
   },
   "cell_type": "code",
   "source": "mm = model.model",
   "id": "1aee1f2decd095da",
   "outputs": [],
   "execution_count": 5
  },
  {
   "metadata": {
    "ExecuteTime": {
     "end_time": "2024-04-11T01:06:39.949105Z",
     "start_time": "2024-04-11T01:06:39.937047Z"
    }
   },
   "cell_type": "code",
   "source": [
    "checkpoint = tf.train.Checkpoint(model=mm)\n",
    "checkpoint.restore(tf.train.latest_checkpoint(model_dir))"
   ],
   "id": "8be14d12a7335c32",
   "outputs": [
    {
     "data": {
      "text/plain": [
       "<tensorflow.python.checkpoint.checkpoint.CheckpointLoadStatus at 0x79a100351f00>"
      ]
     },
     "execution_count": 6,
     "metadata": {},
     "output_type": "execute_result"
    }
   ],
   "execution_count": 6
  },
  {
   "metadata": {
    "ExecuteTime": {
     "end_time": "2024-04-11T01:06:39.952897Z",
     "start_time": "2024-04-11T01:06:39.949858Z"
    }
   },
   "cell_type": "code",
   "source": "df.iloc[0]",
   "id": "71a643880650b65c",
   "outputs": [
    {
     "data": {
      "text/plain": [
       "question           what is the dosage of the medication the patie...\n",
       "tf-idf_evidence    after the\\nuse of beta blockade and adenosine ...\n",
       "answer                                                     adenosine\n",
       "start_token                                                       27\n",
       "end_token                                                         29\n",
       "Name: 0, dtype: object"
      ]
     },
     "execution_count": 7,
     "metadata": {},
     "output_type": "execute_result"
    }
   ],
   "execution_count": 7
  },
  {
   "metadata": {
    "ExecuteTime": {
     "end_time": "2024-04-11T01:06:40.000297Z",
     "start_time": "2024-04-11T01:06:39.953598Z"
    }
   },
   "cell_type": "code",
   "source": [
    "from transformers import AutoTokenizer\n",
    "tokenizer = AutoTokenizer.from_pretrained('bert-base-uncased')"
   ],
   "id": "92e592b2e0b4964d",
   "outputs": [],
   "execution_count": 8
  },
  {
   "metadata": {
    "ExecuteTime": {
     "end_time": "2024-04-11T01:06:40.443820Z",
     "start_time": "2024-04-11T01:06:40.001166Z"
    }
   },
   "cell_type": "code",
   "source": "a = tokenizer(df['question'].to_list(), df['tf-idf_evidence'].to_list(), padding=True, truncation=True, return_tensors='tf')",
   "id": "373c4d8720dd6974",
   "outputs": [],
   "execution_count": 9
  },
  {
   "metadata": {
    "ExecuteTime": {
     "end_time": "2024-04-11T01:08:22.836490Z",
     "start_time": "2024-04-11T01:06:40.444679Z"
    }
   },
   "cell_type": "code",
   "source": "predictions = mm.predict((a['input_ids'], a['attention_mask']))",
   "id": "d6423e0f7d29c42b",
   "outputs": [
    {
     "name": "stdout",
     "output_type": "stream",
     "text": [
      "207/207 [==============================] - 102s 487ms/step\n"
     ]
    }
   ],
   "execution_count": 10
  },
  {
   "metadata": {
    "ExecuteTime": {
     "end_time": "2024-04-11T01:08:22.887159Z",
     "start_time": "2024-04-11T01:08:22.838319Z"
    }
   },
   "cell_type": "code",
   "source": [
    "starts = []\n",
    "ends = []\n",
    "for i in predictions:\n",
    "    i = i.T\n",
    "    starts.append(np.argmax(i[0]))\n",
    "    ends.append(np.argmax(i[1]))\n",
    "predictions = pd.DataFrame({\"start\": starts, \"end\": ends})\n",
    "predictions"
   ],
   "id": "e57342a3737e2395",
   "outputs": [
    {
     "data": {
      "text/plain": [
       "      start  end\n",
       "0         0   22\n",
       "1         0   45\n",
       "2       106   59\n",
       "3         0   10\n",
       "4         1   13\n",
       "...     ...  ...\n",
       "6596     64   21\n",
       "6597      0   23\n",
       "6598     38   53\n",
       "6599     17   27\n",
       "6600      0   56\n",
       "\n",
       "[6601 rows x 2 columns]"
      ],
      "text/html": [
       "<div>\n",
       "<style scoped>\n",
       "    .dataframe tbody tr th:only-of-type {\n",
       "        vertical-align: middle;\n",
       "    }\n",
       "\n",
       "    .dataframe tbody tr th {\n",
       "        vertical-align: top;\n",
       "    }\n",
       "\n",
       "    .dataframe thead th {\n",
       "        text-align: right;\n",
       "    }\n",
       "</style>\n",
       "<table border=\"1\" class=\"dataframe\">\n",
       "  <thead>\n",
       "    <tr style=\"text-align: right;\">\n",
       "      <th></th>\n",
       "      <th>start</th>\n",
       "      <th>end</th>\n",
       "    </tr>\n",
       "  </thead>\n",
       "  <tbody>\n",
       "    <tr>\n",
       "      <th>0</th>\n",
       "      <td>0</td>\n",
       "      <td>22</td>\n",
       "    </tr>\n",
       "    <tr>\n",
       "      <th>1</th>\n",
       "      <td>0</td>\n",
       "      <td>45</td>\n",
       "    </tr>\n",
       "    <tr>\n",
       "      <th>2</th>\n",
       "      <td>106</td>\n",
       "      <td>59</td>\n",
       "    </tr>\n",
       "    <tr>\n",
       "      <th>3</th>\n",
       "      <td>0</td>\n",
       "      <td>10</td>\n",
       "    </tr>\n",
       "    <tr>\n",
       "      <th>4</th>\n",
       "      <td>1</td>\n",
       "      <td>13</td>\n",
       "    </tr>\n",
       "    <tr>\n",
       "      <th>...</th>\n",
       "      <td>...</td>\n",
       "      <td>...</td>\n",
       "    </tr>\n",
       "    <tr>\n",
       "      <th>6596</th>\n",
       "      <td>64</td>\n",
       "      <td>21</td>\n",
       "    </tr>\n",
       "    <tr>\n",
       "      <th>6597</th>\n",
       "      <td>0</td>\n",
       "      <td>23</td>\n",
       "    </tr>\n",
       "    <tr>\n",
       "      <th>6598</th>\n",
       "      <td>38</td>\n",
       "      <td>53</td>\n",
       "    </tr>\n",
       "    <tr>\n",
       "      <th>6599</th>\n",
       "      <td>17</td>\n",
       "      <td>27</td>\n",
       "    </tr>\n",
       "    <tr>\n",
       "      <th>6600</th>\n",
       "      <td>0</td>\n",
       "      <td>56</td>\n",
       "    </tr>\n",
       "  </tbody>\n",
       "</table>\n",
       "<p>6601 rows × 2 columns</p>\n",
       "</div>"
      ]
     },
     "execution_count": 11,
     "metadata": {},
     "output_type": "execute_result"
    }
   ],
   "execution_count": 11
  },
  {
   "metadata": {
    "ExecuteTime": {
     "end_time": "2024-04-11T01:12:51.393420Z",
     "start_time": "2024-04-11T01:12:51.363556Z"
    }
   },
   "cell_type": "code",
   "source": "df['predicted_start'], df['predicted_end'] = starts, ends",
   "id": "16a25db1e03334eb",
   "outputs": [],
   "execution_count": 17
  },
  {
   "metadata": {
    "ExecuteTime": {
     "end_time": "2024-04-11T01:08:22.890248Z",
     "start_time": "2024-04-11T01:08:22.887817Z"
    }
   },
   "cell_type": "code",
   "source": [
    "answers = df['answer'].to_list()\n",
    "answers[:4]"
   ],
   "id": "fb51973c2e674fc0",
   "outputs": [
    {
     "data": {
      "text/plain": [
       "['adenosine', '150', '1-2 tab', 'a ct scan of the head']"
      ]
     },
     "execution_count": 12,
     "metadata": {},
     "output_type": "execute_result"
    }
   ],
   "execution_count": 12
  },
  {
   "metadata": {
    "ExecuteTime": {
     "end_time": "2024-04-11T01:09:15.055696Z",
     "start_time": "2024-04-11T01:09:15.053028Z"
    }
   },
   "cell_type": "code",
   "source": "len(\"\".split())",
   "id": "2dda15998674ff27",
   "outputs": [
    {
     "data": {
      "text/plain": [
       "0"
      ]
     },
     "execution_count": 13,
     "metadata": {},
     "output_type": "execute_result"
    }
   ],
   "execution_count": 13
  },
  {
   "metadata": {
    "ExecuteTime": {
     "end_time": "2024-04-11T01:12:59.832354Z",
     "start_time": "2024-04-11T01:12:59.701459Z"
    }
   },
   "cell_type": "code",
   "source": "tokenizer.decode()",
   "id": "b1eff48d8cf2eaad",
   "outputs": [
    {
     "ename": "TypeError",
     "evalue": "argument 'ids': 'list' object cannot be interpreted as an integer",
     "output_type": "error",
     "traceback": [
      "\u001B[0;31m---------------------------------------------------------------------------\u001B[0m",
      "\u001B[0;31mTypeError\u001B[0m                                 Traceback (most recent call last)",
      "Cell \u001B[0;32mIn[18], line 1\u001B[0m\n\u001B[0;32m----> 1\u001B[0m \u001B[43mtokenizer\u001B[49m\u001B[38;5;241;43m.\u001B[39;49m\u001B[43mdecode\u001B[49m\u001B[43m(\u001B[49m\u001B[43mtokenizer\u001B[49m\u001B[43m(\u001B[49m\u001B[43mdf\u001B[49m\u001B[43m[\u001B[49m\u001B[38;5;124;43m'\u001B[39;49m\u001B[38;5;124;43mtf-idf_evidence\u001B[39;49m\u001B[38;5;124;43m'\u001B[39;49m\u001B[43m]\u001B[49m\u001B[43m[\u001B[49m\u001B[38;5;241;43m0\u001B[39;49m\u001B[43m]\u001B[49m\u001B[43m,\u001B[49m\u001B[43m \u001B[49m\u001B[43mpadding\u001B[49m\u001B[38;5;241;43m=\u001B[39;49m\u001B[38;5;28;43;01mTrue\u001B[39;49;00m\u001B[43m,\u001B[49m\u001B[43m \u001B[49m\u001B[43mtruncation\u001B[49m\u001B[38;5;241;43m=\u001B[39;49m\u001B[38;5;28;43;01mTrue\u001B[39;49;00m\u001B[43m,\u001B[49m\u001B[43m \u001B[49m\u001B[43mreturn_tensors\u001B[49m\u001B[38;5;241;43m=\u001B[39;49m\u001B[38;5;124;43m'\u001B[39;49m\u001B[38;5;124;43mtf\u001B[39;49m\u001B[38;5;124;43m'\u001B[39;49m\u001B[43m)\u001B[49m\u001B[43m[\u001B[49m\u001B[38;5;124;43m'\u001B[39;49m\u001B[38;5;124;43minput_ids\u001B[39;49m\u001B[38;5;124;43m'\u001B[39;49m\u001B[43m]\u001B[49m\u001B[43m[\u001B[49m\u001B[43mdf\u001B[49m\u001B[43m[\u001B[49m\u001B[38;5;124;43m'\u001B[39;49m\u001B[38;5;124;43mpredicted_start\u001B[39;49m\u001B[38;5;124;43m'\u001B[39;49m\u001B[43m]\u001B[49m\u001B[43m[\u001B[49m\u001B[38;5;241;43m0\u001B[39;49m\u001B[43m]\u001B[49m\u001B[43m:\u001B[49m\u001B[43mdf\u001B[49m\u001B[43m[\u001B[49m\u001B[38;5;124;43m'\u001B[39;49m\u001B[38;5;124;43mpredicted_end\u001B[39;49m\u001B[38;5;124;43m'\u001B[39;49m\u001B[43m]\u001B[49m\u001B[43m[\u001B[49m\u001B[38;5;241;43m0\u001B[39;49m\u001B[43m]\u001B[49m\u001B[43m]\u001B[49m\u001B[43m)\u001B[49m\n",
      "File \u001B[0;32m~/thesis_code/venv/lib/python3.10/site-packages/transformers/tokenization_utils_base.py:3550\u001B[0m, in \u001B[0;36mPreTrainedTokenizerBase.decode\u001B[0;34m(self, token_ids, skip_special_tokens, clean_up_tokenization_spaces, **kwargs)\u001B[0m\n\u001B[1;32m   3547\u001B[0m \u001B[38;5;66;03m# Convert inputs to python lists\u001B[39;00m\n\u001B[1;32m   3548\u001B[0m token_ids \u001B[38;5;241m=\u001B[39m to_py_obj(token_ids)\n\u001B[0;32m-> 3550\u001B[0m \u001B[38;5;28;01mreturn\u001B[39;00m \u001B[38;5;28;43mself\u001B[39;49m\u001B[38;5;241;43m.\u001B[39;49m\u001B[43m_decode\u001B[49m\u001B[43m(\u001B[49m\n\u001B[1;32m   3551\u001B[0m \u001B[43m    \u001B[49m\u001B[43mtoken_ids\u001B[49m\u001B[38;5;241;43m=\u001B[39;49m\u001B[43mtoken_ids\u001B[49m\u001B[43m,\u001B[49m\n\u001B[1;32m   3552\u001B[0m \u001B[43m    \u001B[49m\u001B[43mskip_special_tokens\u001B[49m\u001B[38;5;241;43m=\u001B[39;49m\u001B[43mskip_special_tokens\u001B[49m\u001B[43m,\u001B[49m\n\u001B[1;32m   3553\u001B[0m \u001B[43m    \u001B[49m\u001B[43mclean_up_tokenization_spaces\u001B[49m\u001B[38;5;241;43m=\u001B[39;49m\u001B[43mclean_up_tokenization_spaces\u001B[49m\u001B[43m,\u001B[49m\n\u001B[1;32m   3554\u001B[0m \u001B[43m    \u001B[49m\u001B[38;5;241;43m*\u001B[39;49m\u001B[38;5;241;43m*\u001B[39;49m\u001B[43mkwargs\u001B[49m\u001B[43m,\u001B[49m\n\u001B[1;32m   3555\u001B[0m \u001B[43m\u001B[49m\u001B[43m)\u001B[49m\n",
      "File \u001B[0;32m~/thesis_code/venv/lib/python3.10/site-packages/transformers/tokenization_utils_fast.py:573\u001B[0m, in \u001B[0;36mPreTrainedTokenizerFast._decode\u001B[0;34m(self, token_ids, skip_special_tokens, clean_up_tokenization_spaces, **kwargs)\u001B[0m\n\u001B[1;32m    571\u001B[0m \u001B[38;5;28;01mif\u001B[39;00m \u001B[38;5;28misinstance\u001B[39m(token_ids, \u001B[38;5;28mint\u001B[39m):\n\u001B[1;32m    572\u001B[0m     token_ids \u001B[38;5;241m=\u001B[39m [token_ids]\n\u001B[0;32m--> 573\u001B[0m text \u001B[38;5;241m=\u001B[39m \u001B[38;5;28;43mself\u001B[39;49m\u001B[38;5;241;43m.\u001B[39;49m\u001B[43m_tokenizer\u001B[49m\u001B[38;5;241;43m.\u001B[39;49m\u001B[43mdecode\u001B[49m\u001B[43m(\u001B[49m\u001B[43mtoken_ids\u001B[49m\u001B[43m,\u001B[49m\u001B[43m \u001B[49m\u001B[43mskip_special_tokens\u001B[49m\u001B[38;5;241;43m=\u001B[39;49m\u001B[43mskip_special_tokens\u001B[49m\u001B[43m)\u001B[49m\n\u001B[1;32m    575\u001B[0m clean_up_tokenization_spaces \u001B[38;5;241m=\u001B[39m (\n\u001B[1;32m    576\u001B[0m     clean_up_tokenization_spaces\n\u001B[1;32m    577\u001B[0m     \u001B[38;5;28;01mif\u001B[39;00m clean_up_tokenization_spaces \u001B[38;5;129;01mis\u001B[39;00m \u001B[38;5;129;01mnot\u001B[39;00m \u001B[38;5;28;01mNone\u001B[39;00m\n\u001B[1;32m    578\u001B[0m     \u001B[38;5;28;01melse\u001B[39;00m \u001B[38;5;28mself\u001B[39m\u001B[38;5;241m.\u001B[39mclean_up_tokenization_spaces\n\u001B[1;32m    579\u001B[0m )\n\u001B[1;32m    580\u001B[0m \u001B[38;5;28;01mif\u001B[39;00m clean_up_tokenization_spaces:\n",
      "\u001B[0;31mTypeError\u001B[0m: argument 'ids': 'list' object cannot be interpreted as an integer"
     ]
    }
   ],
   "execution_count": 18
  },
  {
   "metadata": {
    "ExecuteTime": {
     "end_time": "2024-04-11T01:19:48.774602Z",
     "start_time": "2024-04-11T01:19:48.770514Z"
    }
   },
   "cell_type": "code",
   "source": "tokenizer.decode(tokenizer(df['tf-idf_evidence'][0], padding=True, truncation=True)['input_ids'][df['predicted_start'][0]:df['predicted_end'][0]])",
   "id": "6c0b98399cf77dcf",
   "outputs": [
    {
     "data": {
      "text/plain": [
       "'[CLS] after the use of beta blockade and adenosine, her arrhythmia resolved. [SEP]'"
      ]
     },
     "execution_count": 28,
     "metadata": {},
     "output_type": "execute_result"
    }
   ],
   "execution_count": 28
  },
  {
   "metadata": {
    "ExecuteTime": {
     "end_time": "2024-04-11T01:19:59.879795Z",
     "start_time": "2024-04-11T01:19:59.877603Z"
    }
   },
   "cell_type": "code",
   "source": [
    "def get_prediction(evidence, predicted_start, predicted_end):\n",
    "    tokenized_evidence = tokenizer(evidence, padding=True, truncation=True)['input_ids']\n",
    "    predicted_tokens = tokenized_evidence[predicted_start:predicted_end]\n",
    "    return tokenizer.decode(predicted_tokens)"
   ],
   "id": "c603734a2ec85627",
   "outputs": [],
   "execution_count": 29
  },
  {
   "metadata": {
    "ExecuteTime": {
     "end_time": "2024-04-11T01:46:11.212635Z",
     "start_time": "2024-04-11T01:46:11.207196Z"
    }
   },
   "cell_type": "code",
   "source": [
    "def replace_punctuation(s):\n",
    "    s = re.sub(r'[^\\w\\s]', '', s)\n",
    "    s = \" \".join(s.split())\n",
    "    return s\n",
    "\n",
    "def exact_match(prediction, truth):\n",
    "    return int(prediction.split() == truth.split())\n",
    "\n",
    "def shared_words(prediction, truth):\n",
    "    # find shared words between prediction and truth while\n",
    "    a = set(prediction.split())\n",
    "    b = set(truth.split())\n",
    "    return a & b\n",
    "\n",
    "def precision(prediction, truth):\n",
    "    num = len(shared_words(prediction, truth))\n",
    "    den = len(truth.split())\n",
    "    if num == 0 or den == 0:\n",
    "        return 0\n",
    "    return num/den\n",
    "\n",
    "def recall(prediction, truth):\n",
    "    num = len(shared_words(prediction, truth))\n",
    "    den = len(prediction.split())\n",
    "    if num == 0 or den == 0:\n",
    "        return 0\n",
    "    return num/den\n",
    "\n",
    "def f1_score(prediction, truth):\n",
    "    p = precision(prediction, truth)\n",
    "    r = recall(prediction, truth)\n",
    "    if p + r == 0:\n",
    "        return 0\n",
    "    return 2*p*r/(p+r)\n",
    "\n",
    "def compute_metrics(prediction, truth):\n",
    "    prediction = replace_punctuation(prediction)\n",
    "    truth = replace_punctuation(truth)\n",
    "    return exact_match(prediction, truth), precision(prediction, truth), recall(prediction, truth), f1_score(prediction, truth)"
   ],
   "id": "44424f8275cb2608",
   "outputs": [],
   "execution_count": 39
  },
  {
   "metadata": {
    "ExecuteTime": {
     "end_time": "2024-04-11T01:46:16.905091Z",
     "start_time": "2024-04-11T01:46:16.900976Z"
    }
   },
   "cell_type": "code",
   "source": "compute_metrics(get_prediction(df['tf-idf_evidence'][0], df['predicted_start'][0], df['predicted_end'][0]), df['answer'][0])",
   "id": "ce5c57319dd832af",
   "outputs": [
    {
     "data": {
      "text/plain": [
       "(0, 1.0, 0.07692307692307693, 0.14285714285714288)"
      ]
     },
     "execution_count": 40,
     "metadata": {},
     "output_type": "execute_result"
    }
   ],
   "execution_count": 40
  },
  {
   "metadata": {
    "ExecuteTime": {
     "end_time": "2024-04-11T01:48:22.138323Z",
     "start_time": "2024-04-11T01:48:20.588708Z"
    }
   },
   "cell_type": "code",
   "source": [
    "df['predictions'] = df.apply(lambda x: get_prediction(x['tf-idf_evidence'], x['predicted_start'], x['predicted_end']), axis=1)\n",
    "df['exact_match'], df['precision'], df['recall'], df['f1_score'] = zip(*df.apply(lambda x: compute_metrics(x['predictions'], x['answer']), axis=1))\n",
    "# get average metrics\n",
    "df[['exact_match', 'precision', 'recall', 'f1_score']].mean()"
   ],
   "id": "1829c7105e34d114",
   "outputs": [
    {
     "data": {
      "text/plain": [
       "exact_match    0.000303\n",
       "precision      0.380667\n",
       "recall         0.062439\n",
       "f1_score       0.097360\n",
       "dtype: float64"
      ]
     },
     "execution_count": 41,
     "metadata": {},
     "output_type": "execute_result"
    }
   ],
   "execution_count": 41
  },
  {
   "metadata": {
    "ExecuteTime": {
     "end_time": "2024-04-11T01:52:47.957162Z",
     "start_time": "2024-04-11T01:52:47.926435Z"
    }
   },
   "cell_type": "code",
   "source": [
    "# calculate how many were unanswerable, this is if start_token and end_token are both 0\n",
    "df['unanswerable'] = df.apply(lambda x: int(x['start_token'] == 0 and x['end_token'] == 0), axis=1)\n",
    "df['unanswerable'].mean()"
   ],
   "id": "6c49bdbdf86cbe36",
   "outputs": [
    {
     "data": {
      "text/plain": [
       "0.4809877291319497"
      ]
     },
     "execution_count": 47,
     "metadata": {},
     "output_type": "execute_result"
    }
   ],
   "execution_count": 47
  },
  {
   "metadata": {
    "ExecuteTime": {
     "end_time": "2024-04-11T01:54:15.268225Z",
     "start_time": "2024-04-11T01:54:15.263162Z"
    }
   },
   "cell_type": "code",
   "source": [
    "# calculate metrics for samples that are answerable\n",
    "df[df['unanswerable'] == 0][['exact_match', 'precision', 'recall', 'f1_score']].mean()"
   ],
   "id": "9746d9e44bad790f",
   "outputs": [
    {
     "data": {
      "text/plain": [
       "exact_match    0.000292\n",
       "precision      0.600228\n",
       "recall         0.100859\n",
       "f1_score       0.157773\n",
       "dtype: float64"
      ]
     },
     "execution_count": 48,
     "metadata": {},
     "output_type": "execute_result"
    }
   ],
   "execution_count": 48
  },
  {
   "metadata": {},
   "cell_type": "code",
   "outputs": [],
   "execution_count": null,
   "source": "",
   "id": "f37dd75ea9677aee"
  }
 ],
 "metadata": {
  "kernelspec": {
   "display_name": "Python 3",
   "language": "python",
   "name": "python3"
  },
  "language_info": {
   "codemirror_mode": {
    "name": "ipython",
    "version": 2
   },
   "file_extension": ".py",
   "mimetype": "text/x-python",
   "name": "python",
   "nbconvert_exporter": "python",
   "pygments_lexer": "ipython2",
   "version": "2.7.6"
  }
 },
 "nbformat": 4,
 "nbformat_minor": 5
}
